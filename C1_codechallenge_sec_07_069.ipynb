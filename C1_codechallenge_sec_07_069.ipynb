{
 "cells": [
  {
   "cell_type": "code",
   "execution_count": null,
   "metadata": {
    "id": "xYfsQvXxPsoD"
   },
   "outputs": [],
   "source": [
    "# %% Calculus 1 - Section 7.69\n",
    "#    Code challenge: global and local slopes\n",
    "\n",
    "# This code pertains to a calculus course provided by Mike X. Cohen on Udemy:\n",
    "#   > https://www.udemy.com/course/pycalc1_x\n",
    "# The code in this repository is developed to solve the exercises provided along\n",
    "# the course, and it has been written partially indepentently and partially\n",
    "# from the code developed by the course instructor.\n"
   ]
  },
  {
   "cell_type": "code",
   "execution_count": null,
   "metadata": {
    "id": "vd_wy4xAQC4E"
   },
   "outputs": [],
   "source": [
    "import numpy             as np\n",
    "import sympy             as sym\n",
    "import matplotlib.pyplot as plt\n",
    "import math\n",
    "\n",
    "from IPython.display                  import display,Math\n",
    "from google.colab                     import files\n",
    "from matplotlib_inline.backend_inline import set_matplotlib_formats\n",
    "set_matplotlib_formats('svg')\n"
   ]
  },
  {
   "cell_type": "code",
   "execution_count": null,
   "metadata": {
    "colab": {
     "base_uri": "https://localhost:8080/",
     "height": 471
    },
    "executionInfo": {
     "elapsed": 383,
     "status": "ok",
     "timestamp": 1752160439304,
     "user": {
      "displayName": "Edoardo Gornetti",
      "userId": "05048424707797899325"
     },
     "user_tz": -120
    },
    "id": "zRwg9BuNzLkE",
    "outputId": "6a52a780-1803-4df3-f50b-58ed2cc0a6af"
   },
   "outputs": [],
   "source": [
    "# %% Exercise 1\n",
    "#    Implement the plot shown in the video and compute the slope of the line\n",
    "\n",
    "# Points and slope\n",
    "p1 = [-1,1]\n",
    "p2 = [ 3,6]\n",
    "\n",
    "s = (p2[1] - p1[1]) / (p2[0] - p1[0])\n",
    "\n",
    "# Plot\n",
    "phi = ( 1 + np.sqrt(5) ) / 2\n",
    "fig = plt.figure(figsize=(5*phi,5))\n",
    "\n",
    "plt.plot([p1[0],p2[0]],[p1[1],p2[1]],'k-')\n",
    "plt.plot(p1[0],p1[1],'bo',markersize=8)\n",
    "plt.plot(p2[0],p2[1],'ro',markersize=8)\n",
    "\n",
    "plt.axvline(x=0,color='grey',linestyle=':',linewidth=0.8)\n",
    "plt.axhline(y=0,color='grey',linestyle=':',linewidth=0.8)\n",
    "\n",
    "plt.xlabel('x')\n",
    "plt.ylabel('y')\n",
    "plt.xlim(-2,7)\n",
    "plt.ylim(-2,7)\n",
    "plt.title(f'Slope: m = {s}')\n",
    "\n",
    "plt.savefig('fig1_codechallenge_69_exercise_1.png')\n",
    "plt.show()\n",
    "files.download('fig1_codechallenge_69_exercise_1.png')\n"
   ]
  },
  {
   "cell_type": "code",
   "execution_count": null,
   "metadata": {
    "colab": {
     "base_uri": "https://localhost:8080/",
     "height": 487
    },
    "executionInfo": {
     "elapsed": 1334,
     "status": "ok",
     "timestamp": 1752163253109,
     "user": {
      "displayName": "Edoardo Gornetti",
      "userId": "05048424707797899325"
     },
     "user_tz": -120
    },
    "id": "N3uLUXlt5xvf",
    "outputId": "78e091b8-1d88-41e9-a4d2-def5564f53af"
   },
   "outputs": [],
   "source": [
    "# %% Exercise 2\n",
    "#    Implement the function shown in the video in 5 segments, compute the slope\n",
    "#    of each segment and plot the slope series; then try again with 50 segments\n",
    "\n",
    "# Number of segments\n",
    "n_segments = 49\n",
    "\n",
    "# Define the function\n",
    "def f(x):\n",
    "    return x**2\n",
    "\n",
    "# Define range\n",
    "x_start,x_end = -1,5\n",
    "x = np.linspace(x_start,x_end, 500)\n",
    "y = f(x)\n",
    "\n",
    "# Define segment boundaries\n",
    "segment_edges = np.linspace(x_start,x_end,n_segments+1)\n",
    "\n",
    "# Plot setup\n",
    "phi = ( 1 + np.sqrt(5) ) / 2\n",
    "fig,(ax1,ax2) = plt.subplots(1,2,figsize=(1.5*5*phi,5))\n",
    "\n",
    "cmaps = plt.cm.plasma(np.linspace(0.1,0.9,n_segments))\n",
    "\n",
    "# Plot the main function\n",
    "ax1.plot(x,y,'k--')\n",
    "\n",
    "# Plot segments\n",
    "for i in range(n_segments):\n",
    "\n",
    "    x0,x1 = segment_edges[i],segment_edges[i+1]\n",
    "    y0,y1 = f(x0),f(x1)\n",
    "    m     = (y1-y0) / (x1-x0)\n",
    "\n",
    "    # Plot the segment and annotate slope\n",
    "    ax1.plot([x0,x1],[y0,y1],'ro-')\n",
    "    ax1.text((x0+x1)/2, (y0+y1)/2+1, f'{m:.2f}', fontsize=9,color='black',ha='right',va='bottom')\n",
    "\n",
    "    # Plot horizontal line for slope (no vertical connectors)\n",
    "    ax2.hlines(y=m, xmin=x0, xmax=x1, colors=cmaps[i], linewidth=3)\n",
    "\n",
    "# Labels and legend for first plot\n",
    "ax1.set_title('Function $f(x) = x^2$')\n",
    "ax1.set_xlabel('x')\n",
    "ax1.set_ylabel('f(x)')\n",
    "ax1.grid(True)\n",
    "ax1.legend(['$f(x) = x^2$','$f(x)$ segments'])\n",
    "\n",
    "# Plot the slopes directly against x values in second subplot\n",
    "ax2.set_title(\"Segment slopes\")\n",
    "ax2.set_xlabel(\"x\")\n",
    "ax2.set_ylabel(\"Slope\")\n",
    "ax2.grid(True)\n",
    "\n",
    "plt.tight_layout()\n",
    "\n",
    "plt.savefig('fig2_codechallenge_69_exercise_2.png')\n",
    "plt.show()\n",
    "files.download('fig2_codechallenge_69_exercise_2.png')\n"
   ]
  },
  {
   "cell_type": "code",
   "execution_count": null,
   "metadata": {
    "colab": {
     "base_uri": "https://localhost:8080/"
    },
    "executionInfo": {
     "elapsed": 12,
     "status": "ok",
     "timestamp": 1752163412827,
     "user": {
      "displayName": "Edoardo Gornetti",
      "userId": "05048424707797899325"
     },
     "user_tz": -120
    },
    "id": "wAwfuCTaEM6E",
    "outputId": "01bf516c-167d-4af7-cf81-19e4e8b58f5e"
   },
   "outputs": [],
   "source": [
    "# %% Exercise 3\n",
    "#    using data from exercise 2 with n = 49, compute the global slope (i.e.\n",
    "#    slope of first and last point), and the average of the local slopes\n",
    "\n",
    "global_slope    = (y[0]-y[-1]) / (x[0]-x[-1])\n",
    "local_slopes    = (y[1:-1]-y[:-2]) / (x[1:-1]-x[:-2])\n",
    "avg_local_slope = np.mean(local_slopes)\n",
    "\n",
    "# Notice the approximation\n",
    "print(f'Global slope: {global_slope:.2f}')\n",
    "print(f'Average local slope: {avg_local_slope:.2f}')\n"
   ]
  }
 ],
 "metadata": {
  "colab": {
   "authorship_tag": "ABX9TyP4HTCPfzjcluhuxxi5TIiq",
   "provenance": []
  },
  "kernelspec": {
   "display_name": "Python 3",
   "name": "python3"
  },
  "language_info": {
   "name": "python"
  }
 },
 "nbformat": 4,
 "nbformat_minor": 0
}
