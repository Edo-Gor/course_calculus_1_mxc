{
  "cells": [
    {
      "cell_type": "code",
      "execution_count": null,
      "metadata": {
        "id": "xYfsQvXxPsoD"
      },
      "outputs": [],
      "source": [
        "# %% Calculus 1 - Section 13.142\n",
        "#    Code challenge: gradient fields - I\n",
        "\n",
        "# This code pertains to a calculus course provided by Mike X. Cohen on Udemy:\n",
        "#   > https://www.udemy.com/course/pycalc1_x\n",
        "# The code in this repository is developed to solve the exercises provided along\n",
        "# the course, and it has been written partially indepentently and partially\n",
        "# from the code developed by the course instructor.\n"
      ]
    },
    {
      "cell_type": "code",
      "execution_count": 1,
      "metadata": {
        "id": "vd_wy4xAQC4E"
      },
      "outputs": [],
      "source": [
        "import numpy             as np\n",
        "import sympy             as sym\n",
        "import matplotlib.pyplot as plt\n",
        "import math\n",
        "\n",
        "from scipy.signal                     import find_peaks\n",
        "from IPython.display                  import display,Math\n",
        "from google.colab                     import files\n",
        "from matplotlib_inline.backend_inline import set_matplotlib_formats\n",
        "set_matplotlib_formats('svg')\n"
      ]
    },
    {
      "cell_type": "code",
      "execution_count": null,
      "metadata": {
        "colab": {
          "base_uri": "https://localhost:8080/",
          "height": 423
        },
        "id": "-qXCwg9MPGpG",
        "outputId": "ea0f77a0-984c-4c5b-b41d-b33f0a4cf8fd"
      },
      "outputs": [],
      "source": [
        "# %% Exercise 1\n",
        "#    Implement the function shown in the video in sympy and compute the diagonal\n",
        "#    partial derivatives, then lambdify and plot with a grid resolution of 21\n",
        "\n",
        "# Function\n",
        "x = sym.symbols('x')\n",
        "y = sym.symbols('y')\n",
        "\n",
        "Z = x * sym.exp( -(x**2+y**2) )\n",
        "\n",
        "Z_lam = sym.lambdify((x,y),Z,'numpy')\n",
        "\n",
        "dfx = sym.diff(Z,x)\n",
        "dfy = sym.diff(Z,y)\n",
        "dfx_lam = sym.lambdify((x,y),dfx,'numpy')\n",
        "dfy_lam = sym.lambdify((x,y),dfy,'numpy')\n",
        "\n",
        "# Grid\n",
        "n   = 21\n",
        "xx  = np.linspace(-3,3,n)\n",
        "X,Y = np.meshgrid(xx,xx)\n",
        "\n",
        "# Plot\n",
        "phi   = ( 1 + np.sqrt(5) ) / 2\n",
        "_,axs = plt.subplots(1,3,figsize=(1.5*5*phi,5))\n",
        "\n",
        "axs[0].set_aspect('equal')\n",
        "axs[0].imshow(Z_lam(X,Y),origin='lower',extent=[xx[0],xx[-1],xx[0],xx[-1]],cmap='plasma')\n",
        "axs[0].set_title(f'$f(x,y) = {sym.latex(Z)}$')\n",
        "\n",
        "axs[1].set_aspect('equal')\n",
        "axs[1].imshow(dfx_lam(X,Y),origin='lower',extent=[xx[0],xx[-1],xx[0],xx[-1]],cmap='plasma')\n",
        "axs[1].set_title(f'$f_x = {sym.latex(dfx)}$')\n",
        "\n",
        "axs[2].set_aspect('equal')\n",
        "axs[2].imshow(dfy_lam(X,Y),origin='lower',extent=[xx[0],xx[-1],xx[0],xx[-1]],cmap='plasma')\n",
        "axs[2].set_title(f'$f_y = {sym.latex(dfy)}$')\n",
        "\n",
        "plt.tight_layout()\n",
        "\n",
        "plt.savefig('fig16_codechallenge_142_exercise_1.png')\n",
        "plt.show()\n",
        "files.download('fig16_codechallenge_142_exercise_1.png')\n"
      ]
    },
    {
      "cell_type": "code",
      "execution_count": null,
      "metadata": {
        "colab": {
          "base_uri": "https://localhost:8080/",
          "height": 475
        },
        "id": "6nBRjY8uRH0r",
        "outputId": "0cf830df-62c5-4ba0-f819-1fd935bbf755"
      },
      "outputs": [],
      "source": [
        "# %% Exercise 2\n",
        "#    Plot the gradient field\n",
        "\n",
        "phi = (1 + np.sqrt(5)) / 2\n",
        "plt.figure(figsize=(5*phi,5))\n",
        "\n",
        "plt.axes(aspect='equal')\n",
        "\n",
        "plt.contourf(xx,xx,Z_lam(X,Y),40,cmap='plasma')\n",
        "plt.colorbar()\n",
        "plt.quiver(xx,xx,dfx_lam(X,Y),dfy_lam(X,Y),scale=10)\n",
        "plt.title(f'Gradient field for $f(x,y) = {sym.latex(Z)}$')\n",
        "plt.xlabel('$x$')\n",
        "plt.ylabel('$y$')\n",
        "\n",
        "plt.savefig('fig17_codechallenge_142_exercise_2.png')\n",
        "plt.show()\n",
        "files.download('fig17_codechallenge_142_exercise_2.png')\n"
      ]
    },
    {
      "cell_type": "code",
      "execution_count": null,
      "metadata": {
        "colab": {
          "base_uri": "https://localhost:8080/",
          "height": 475
        },
        "id": "NkLAAC9xRHih",
        "outputId": "41f35b78-2b1e-427f-d574-ea2014010186"
      },
      "outputs": [],
      "source": [
        "# %% Exercise 3\n",
        "#    Plot the gradient field using np.gradient() instead of sympy\n",
        "\n",
        "grad_x,grad_y = np.gradient(Z_lam(X,Y))\n",
        "\n",
        "phi = (1 + np.sqrt(5)) / 2\n",
        "plt.figure(figsize=(5*phi,5))\n",
        "\n",
        "plt.axes(aspect='equal')\n",
        "\n",
        "plt.contourf(xx,xx,Z_lam(X,Y),40,cmap='plasma')\n",
        "plt.colorbar()\n",
        "plt.quiver(xx,xx,grad_y,grad_x,scale=5)\n",
        "plt.title(f'Gradient field for $f(x,y) = {sym.latex(Z)}$')\n",
        "plt.xlabel('$x$')\n",
        "plt.ylabel('$y$')\n",
        "\n",
        "plt.savefig('fig18_codechallenge_142_exercise_3.png')\n",
        "plt.show()\n",
        "files.download('fig18_codechallenge_142_exercise_3.png')\n"
      ]
    },
    {
      "cell_type": "code",
      "execution_count": null,
      "metadata": {
        "colab": {
          "base_uri": "https://localhost:8080/",
          "height": 419
        },
        "id": "daxJioQLRP9J",
        "outputId": "bd6e83bf-ed14-4a01-cd73-949669b32c63"
      },
      "outputs": [],
      "source": [
        "# %% Exercise 4\n",
        "#    Repleat exercises 1-3 for the function shown in the video\n",
        "\n",
        "# Function\n",
        "x = sym.symbols('x',real=True)\n",
        "y = sym.symbols('y',real=True)\n",
        "\n",
        "#Z = sym.sin(x**2 + y) + sym.cos(y)\n",
        "Z = sym.exp(-sym.Abs(x*y))\n",
        "\n",
        "Z_lam = sym.lambdify((x,y),Z,'numpy')\n",
        "\n",
        "dfx = sym.diff(Z,x)\n",
        "dfy = sym.diff(Z,y)\n",
        "dfx_lam = sym.lambdify((x,y),dfx,'numpy')\n",
        "dfy_lam = sym.lambdify((x,y),dfy,'numpy')\n",
        "\n",
        "# Grid\n",
        "n   = 21\n",
        "xx  = np.linspace(-3,3,n)\n",
        "X,Y = np.meshgrid(xx,xx)\n",
        "\n",
        "# Plot\n",
        "phi   = ( 1 + np.sqrt(5) ) / 2\n",
        "_,axs = plt.subplots(1,3,figsize=(1.5*5*phi,5))\n",
        "\n",
        "axs[0].set_aspect('equal')\n",
        "axs[0].imshow(Z_lam(X,Y),origin='lower',extent=[xx[0],xx[-1],xx[0],xx[-1]],cmap='plasma')\n",
        "axs[0].set_title(f'$f(x,y) = {sym.latex(Z)}$')\n",
        "\n",
        "axs[1].set_aspect('equal')\n",
        "axs[1].imshow(dfx_lam(X,Y),origin='lower',extent=[xx[0],xx[-1],xx[0],xx[-1]],cmap='plasma')\n",
        "axs[1].set_title(f'$f_x = {sym.latex(dfx)}$')\n",
        "\n",
        "axs[2].set_aspect('equal')\n",
        "axs[2].imshow(dfy_lam(X,Y),origin='lower',extent=[xx[0],xx[-1],xx[0],xx[-1]],cmap='plasma')\n",
        "axs[2].set_title(f'$f_y = {sym.latex(dfy)}$')\n",
        "\n",
        "plt.tight_layout()\n",
        "\n",
        "plt.savefig('fig19_codechallenge_142_exercise_4.png')\n",
        "plt.show()\n",
        "files.download('fig19_codechallenge_142_exercise_4.png')\n"
      ]
    },
    {
      "cell_type": "code",
      "execution_count": null,
      "metadata": {
        "colab": {
          "base_uri": "https://localhost:8080/",
          "height": 471
        },
        "id": "8XXlpLrSUh-d",
        "outputId": "0eb70bae-e8bd-43f5-b98a-ec70edddb2b4"
      },
      "outputs": [],
      "source": [
        "# %% Exercise 4\n",
        "#    Continue ...\n",
        "\n",
        "phi = (1 + np.sqrt(5)) / 2\n",
        "plt.figure(figsize=(5*phi,5))\n",
        "\n",
        "plt.axes(aspect='equal')\n",
        "\n",
        "plt.contourf(xx,xx,Z_lam(X,Y),40,cmap='plasma')\n",
        "plt.colorbar()\n",
        "plt.quiver(xx,xx,dfx_lam(X,Y),dfy_lam(X,Y),scale=30)\n",
        "plt.title(f'Gradient field for $f(x,y) = {sym.latex(Z)}$')\n",
        "plt.xlabel('$x$')\n",
        "plt.ylabel('$y$')\n",
        "\n",
        "plt.savefig('fig20_codechallenge_142_exercise_4.png')\n",
        "plt.show()\n",
        "files.download('fig20_codechallenge_142_exercise_4.png')\n"
      ]
    },
    {
      "cell_type": "code",
      "execution_count": null,
      "metadata": {
        "colab": {
          "base_uri": "https://localhost:8080/",
          "height": 471
        },
        "id": "8NfRq4DiVCaC",
        "outputId": "d629a9c5-84a2-413e-8253-018a5b3d7a8c"
      },
      "outputs": [],
      "source": [
        "# %% Exercise 4\n",
        "#    Continue ...\n",
        "\n",
        "grad_x,grad_y = np.gradient(Z_lam(X,Y))\n",
        "\n",
        "phi = (1 + np.sqrt(5)) / 2\n",
        "plt.figure(figsize=(5*phi,5))\n",
        "\n",
        "plt.axes(aspect='equal')\n",
        "\n",
        "plt.contourf(xx,xx,Z_lam(X,Y),40,cmap='plasma')\n",
        "plt.colorbar()\n",
        "plt.quiver(xx,xx,grad_y,grad_x,scale=15)\n",
        "plt.title(f'Gradient field for $f(x,y) = {sym.latex(Z)}$')\n",
        "plt.xlabel('$x$')\n",
        "plt.ylabel('$y$')\n",
        "\n",
        "plt.savefig('fig21_codechallenge_142_exercise_4.png')\n",
        "plt.show()\n",
        "files.download('fig21_codechallenge_142_exercise_4.png')\n"
      ]
    }
  ],
  "metadata": {
    "colab": {
      "provenance": []
    },
    "kernelspec": {
      "display_name": "Python 3",
      "name": "python3"
    },
    "language_info": {
      "name": "python"
    }
  },
  "nbformat": 4,
  "nbformat_minor": 0
}
