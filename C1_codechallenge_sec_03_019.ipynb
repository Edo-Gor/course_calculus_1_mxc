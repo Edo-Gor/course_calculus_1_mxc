{
 "cells": [
  {
   "cell_type": "code",
   "execution_count": null,
   "metadata": {
    "id": "M34GicZ66od0"
   },
   "outputs": [],
   "source": [
    "# %% Calculus 1 - Section 3.19\n",
    "#    Code challenge: exponential and logarithm - I\n",
    "\n",
    "# This code pertains to a calculus course provided by Mike X. Cohen on Udemy:\n",
    "#   > https://www.udemy.com/course/pycalc1_x\n",
    "# The code in this repository is developed to solve the exercises provided along\n",
    "# the course, and it has been written partially indepentently and partially\n",
    "# from the code developed by the course instructor.\n"
   ]
  },
  {
   "cell_type": "code",
   "execution_count": null,
   "metadata": {
    "id": "6w22w83N6549"
   },
   "outputs": [],
   "source": [
    "import numpy             as np\n",
    "import sympy             as sym\n",
    "import matplotlib.pyplot as plt\n",
    "import math\n",
    "\n",
    "from google.colab                     import files\n",
    "from matplotlib_inline.backend_inline import set_matplotlib_formats\n",
    "set_matplotlib_formats('svg')\n"
   ]
  },
  {
   "cell_type": "code",
   "execution_count": null,
   "metadata": {
    "colab": {
     "base_uri": "https://localhost:8080/",
     "height": 912
    },
    "executionInfo": {
     "elapsed": 971,
     "status": "ok",
     "timestamp": 1747039410085,
     "user": {
      "displayName": "Edoardo Gornetti",
      "userId": "05048424707797899325"
     },
     "user_tz": -120
    },
    "id": "fVvJmsHi7k1P",
    "outputId": "6a0b6b77-a06c-4933-b798-087c078734ff"
   },
   "outputs": [],
   "source": [
    "# %% Exercise 1\n",
    "#    Estimate e from the limit definition, generate a table of estimation and plot\n",
    "\n",
    "# Estimate e\n",
    "n     = 10\n",
    "est_e = np.zeros((n,1))\n",
    "d     = np.zeros((n,1))\n",
    "\n",
    "for i in range(n):\n",
    "    est_e[i] = (1 + 1/(i+1))**(1+i)\n",
    "    d[i]     = np.exp(1) - est_e[i]\n",
    "    print(f\"n = {i+:2.0f},  estimated e = {est_e[i,0]:.5f},  diff. to e = {d[i,0]:.5f}\")\n",
    "\n",
    "# Plotting\n",
    "fig, ax = plt.subplots(2,1,figsize=(10,8))\n",
    "\n",
    "# Approximation plot (math.exp(1) same as np.exp(1) just for reference)\n",
    "ax[0].plot(range(1,n+1),est_e,'o-',label='Estimated e')\n",
    "ax[0].hlines(math.exp(1),1,n,colors='r',linestyles='dashed',label='True e')\n",
    "ax[0].set_ylabel('Estimated e')\n",
    "ax[0].legend()\n",
    "ax[0].grid(True)\n",
    "ax[0].set_title('Approximation of e over increasing n \\n $e = \\\\lim_{n \\\\to \\\\infty} \\\\left(1 + \\\\frac{1}{n} \\\\right)^n$ \\n')\n",
    "\n",
    "# Difference plot\n",
    "ax[1].plot(range(1,n+1),d,'s-',color='purple',label='Difference from true e')\n",
    "ax[1].set_xlabel('n')\n",
    "ax[1].set_ylabel('Error')\n",
    "ax[1].legend()\n",
    "ax[1].grid(True)\n",
    "\n",
    "plt.savefig('fig9_codechallenge_19_exercise_1.png')\n",
    "plt.show()\n",
    "files.download('fig9_codechallenge_19_exercise_1.png')\n"
   ]
  },
  {
   "cell_type": "code",
   "execution_count": null,
   "metadata": {
    "colab": {
     "base_uri": "https://localhost:8080/",
     "height": 738
    },
    "executionInfo": {
     "elapsed": 721,
     "status": "ok",
     "timestamp": 1747039808213,
     "user": {
      "displayName": "Edoardo Gornetti",
      "userId": "05048424707797899325"
     },
     "user_tz": -120
    },
    "id": "uo041LqL7zp9",
    "outputId": "646c82de-5b10-41f1-8811-bf5540a6d11d"
   },
   "outputs": [],
   "source": [
    "# %% Exercise 2\n",
    "#    Plot the estimate difference between estimated and true e up to n = 1000\n",
    "\n",
    "# Estimate e\n",
    "n     = 1000\n",
    "est_e = np.zeros((n,1))\n",
    "d     = np.zeros((n,1))\n",
    "\n",
    "for i in range(n):\n",
    "    est_e[i] = (1 + 1/(i+1))**(1+i)\n",
    "    d[i]     = np.exp(1) - est_e[i]\n",
    "\n",
    "# Plotting\n",
    "fig, ax = plt.subplots(2,1,figsize=(10,8))\n",
    "\n",
    "# Approximation plot (math.exp(1) same as np.exp(1) just for reference)\n",
    "ax[0].plot(range(1,n+1),est_e,'o-',label='Estimated e')\n",
    "ax[0].hlines(math.exp(1),1,n,colors='r',linestyles='dashed',label='True e')\n",
    "ax[0].set_ylabel('Estimated e')\n",
    "ax[0].legend()\n",
    "ax[0].grid(True)\n",
    "ax[0].set_title('Approximation of e over increasing n \\n $e = \\\\lim_{n \\\\to \\\\infty} \\\\left(1 + \\\\frac{1}{n} \\\\right)^n$ \\n')\n",
    "\n",
    "# Difference plot\n",
    "ax[1].plot(range(1,n+1),d,'s-',color='purple',label='Difference from true e')\n",
    "ax[1].set_xlabel('n')\n",
    "ax[1].set_ylabel('Error')\n",
    "ax[1].legend()\n",
    "ax[1].grid(True)\n",
    "\n",
    "plt.savefig('fig10_codechallenge_19_exercise_2.png')\n",
    "plt.show()\n",
    "files.download('fig10_codechallenge_19_exercise_2.png')\n"
   ]
  },
  {
   "cell_type": "code",
   "execution_count": null,
   "metadata": {
    "id": "Y45kB9fWsQ-S"
   },
   "outputs": [],
   "source": [
    "# %% Alternative solution for Ex.2 using vectorisation\n",
    "\n",
    "n = np.arange(1,1001)\n",
    "d = np.exp(1) - (1+1/n)**n\n"
   ]
  },
  {
   "cell_type": "code",
   "execution_count": null,
   "metadata": {
    "colab": {
     "base_uri": "https://localhost:8080/",
     "height": 693
    },
    "executionInfo": {
     "elapsed": 935,
     "status": "ok",
     "timestamp": 1747040747573,
     "user": {
      "displayName": "Edoardo Gornetti",
      "userId": "05048424707797899325"
     },
     "user_tz": -120
    },
    "id": "jcmFvpvMsC2a",
    "outputId": "481e7675-5196-4b0f-b01e-ffb5323aa306"
   },
   "outputs": [],
   "source": [
    "# %% Exercise 3\n",
    "#    Explore e in numpy, and reproduce the plot in the video\n",
    "\n",
    "# Functions\n",
    "x  = np.linspace(-2,2,200)\n",
    "\n",
    "y1 = np.exp(x)\n",
    "y2 = np.exp(x**2)\n",
    "y3 = np.exp((-x)**2)\n",
    "y4 = np.exp(-(x**2))\n",
    "y5 = (np.exp(x))**2\n",
    "\n",
    "\n",
    "# Plotting\n",
    "fig = plt.figure(figsize=(10,8))\n",
    "\n",
    "plt.plot(x,y1)\n",
    "plt.plot(x,y2)\n",
    "plt.plot(x,y3,'--')\n",
    "plt.plot(x,y4)\n",
    "plt.plot(x,y5)\n",
    "\n",
    "plt.title(\"Some exponential functions\")\n",
    "plt.xlabel('$x$')\n",
    "plt.ylabel('$f(x)$')\n",
    "plt.grid(True)\n",
    "plt.legend(['$y=e^x$','$y=e^{x^2}$','$y=(e^{-x})^2$','$y=-e^{x^2}$','$y=(e^x)^2$'])\n",
    "plt.xlim(-2,2)\n",
    "plt.ylim(-1,10)\n",
    "\n",
    "plt.savefig('fig11_codechallenge_19_exercise_3.png')\n",
    "plt.show()\n",
    "files.download('fig11_codechallenge_19_exercise_3.png')\n"
   ]
  }
 ],
 "metadata": {
  "colab": {
   "authorship_tag": "ABX9TyNC1cdSI+gZsLMMIEvFYwqn",
   "provenance": []
  },
  "kernelspec": {
   "display_name": "Python 3",
   "name": "python3"
  },
  "language_info": {
   "name": "python"
  }
 },
 "nbformat": 4,
 "nbformat_minor": 0
}
