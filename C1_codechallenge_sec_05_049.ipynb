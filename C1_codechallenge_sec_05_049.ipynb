{
 "cells": [
  {
   "cell_type": "code",
   "execution_count": null,
   "metadata": {
    "id": "qOJ2xa-STzmE"
   },
   "outputs": [],
   "source": [
    "# %% Calculus 1 - Section 5.49\n",
    "#    Code challenge: properties of limits - I\n",
    "\n",
    "# This code pertains to a calculus course provided by Mike X. Cohen on Udemy:\n",
    "#   > https://www.udemy.com/course/pycalc1_x\n",
    "# The code in this repository is developed to solve the exercises provided along\n",
    "# the course, and it has been written partially indepentently and partially\n",
    "# from the code developed by the course instructor.\n"
   ]
  },
  {
   "cell_type": "code",
   "execution_count": null,
   "metadata": {
    "id": "F2WlWWrvT0ek"
   },
   "outputs": [],
   "source": [
    "import numpy             as np\n",
    "import sympy             as sym\n",
    "import matplotlib.pyplot as plt\n",
    "import math\n",
    "\n",
    "from IPython.display                  import display,Math\n",
    "from google.colab                     import files\n",
    "from matplotlib_inline.backend_inline import set_matplotlib_formats\n",
    "set_matplotlib_formats('svg')\n"
   ]
  },
  {
   "cell_type": "code",
   "execution_count": null,
   "metadata": {
    "colab": {
     "base_uri": "https://localhost:8080/"
    },
    "executionInfo": {
     "elapsed": 16,
     "status": "ok",
     "timestamp": 1749421621407,
     "user": {
      "displayName": "Edoardo Gornetti",
      "userId": "05048424707797899325"
     },
     "user_tz": -120
    },
    "id": "vWZjHqVWcBh0",
    "outputId": "06c46af4-38f8-4a1c-9eef-acd83e0d238b"
   },
   "outputs": [],
   "source": [
    "# %% Exercise 1\n",
    "#    Show that limits are factorable, use sympy to compute the limit shown in\n",
    "#    the video\n",
    "\n",
    "# Function\n",
    "x = sym.symbols('x')\n",
    "f = (x**3 / 3) + 100*sym.sqrt(sym.Abs(x))\n",
    "\n",
    "c  = np.random.randint(1,10)\n",
    "\n",
    "# Limits\n",
    "a = 5\n",
    "\n",
    "# Compute limits\n",
    "limit_1 = c * sym.limit(f,x,a,'+-')\n",
    "limit_2 = sym.limit(c*f,x,a,'+-')\n",
    "\n",
    "print( f'Limit as x approaches {a} (factored) = {sym.N(limit_1)}' )\n",
    "print( f'Limit as x approaches {a} (not factored) = {sym.N(limit_2)}')\n"
   ]
  },
  {
   "cell_type": "code",
   "execution_count": null,
   "metadata": {
    "colab": {
     "base_uri": "https://localhost:8080/"
    },
    "executionInfo": {
     "elapsed": 72,
     "status": "ok",
     "timestamp": 1749422778339,
     "user": {
      "displayName": "Edoardo Gornetti",
      "userId": "05048424707797899325"
     },
     "user_tz": -120
    },
    "id": "mudrVRxRkAqu",
    "outputId": "68470603-ebbc-43f4-83e5-700e6488a6d4"
   },
   "outputs": [],
   "source": [
    "# %% Exercise 2\n",
    "#    Show that limits are additive, use sympy to compute the limit shown in\n",
    "#    the video\n",
    "\n",
    "# Function\n",
    "x = sym.symbols('x')\n",
    "f = sym.log(x) + x**2\n",
    "g = sym.exp(-x) + x**3\n",
    "\n",
    "# Limits\n",
    "a = sym.pi\n",
    "\n",
    "# Compute limits\n",
    "limit_1 = sym.limit(f+g,x,a,'+-')\n",
    "limit_2 = sym.limit(f,x,a,'+-') + sym.limit(g,x,a,'+-')\n",
    "\n",
    "print( f'Limit as x approaches {a} (limit of sums) = {sym.N(limit_1)}' )\n",
    "print( f'Limit as x approaches {a} (sum of limits) = {sym.N(limit_2)}')\n"
   ]
  }
 ],
 "metadata": {
  "colab": {
   "authorship_tag": "ABX9TyNB0LvfZDLOtW8sNct80QWP",
   "provenance": []
  },
  "kernelspec": {
   "display_name": "Python 3",
   "name": "python3"
  },
  "language_info": {
   "name": "python"
  }
 },
 "nbformat": 4,
 "nbformat_minor": 0
}
