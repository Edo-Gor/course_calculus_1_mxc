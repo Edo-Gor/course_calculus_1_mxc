{
  "cells": [
    {
      "cell_type": "code",
      "execution_count": null,
      "metadata": {
        "id": "xYfsQvXxPsoD"
      },
      "outputs": [],
      "source": [
        "# %% Calculus 1 - Section 9.94\n",
        "#    Code challenge: chain rule\n",
        "\n",
        "# This code pertains to a calculus course provided by Mike X. Cohen on Udemy:\n",
        "#   > https://www.udemy.com/course/pycalc1_x\n",
        "# The code in this repository is developed to solve the exercises provided along\n",
        "# the course, and it has been written partially indepentently and partially\n",
        "# from the code developed by the course instructor.\n"
      ]
    },
    {
      "cell_type": "code",
      "execution_count": 2,
      "metadata": {
        "id": "vd_wy4xAQC4E"
      },
      "outputs": [],
      "source": [
        "import numpy             as np\n",
        "import sympy             as sym\n",
        "import matplotlib.pyplot as plt\n",
        "import math\n",
        "\n",
        "from scipy.signal                     import find_peaks\n",
        "from IPython.display                  import display,Math\n",
        "from google.colab                     import files\n",
        "from matplotlib_inline.backend_inline import set_matplotlib_formats\n",
        "set_matplotlib_formats('svg')\n"
      ]
    },
    {
      "cell_type": "code",
      "execution_count": null,
      "metadata": {
        "colab": {
          "base_uri": "https://localhost:8080/",
          "height": 619
        },
        "id": "qkdCFSEC3UJj",
        "outputId": "4f9598d1-671e-4877-ed98-4211dd7d9bfa"
      },
      "outputs": [],
      "source": [
        "# %% Exercise 1\n",
        "#    Confirm the chain rule with sympy for f(g(x)) and f(g(h(x))), compute by\n",
        "#    hand first and confirm with sympy then, finally plot f(g(h(x))) and its\n",
        "#    derivative condidering the domain\n",
        "\n",
        "# Functions and derivatives\n",
        "x = sym.symbols('x')\n",
        "\n",
        "f = 3*x**2\n",
        "g = x**3 + sym.log(x)\n",
        "h = sym.cos(x)\n",
        "\n",
        "dfg  = sym.diff(f.subs(x,g),x)\n",
        "dfgh = sym.diff(f.subs(x,g.subs(x,h)),x)\n",
        "\n",
        "display(f.subs(x,g))\n",
        "display(f.subs(x,g.subs(x,h)))\n",
        "print()\n",
        "display(dfg)\n",
        "display(dfgh)\n",
        "\n",
        "# Plot\n",
        "fgh  = sym.lambdify(x,f.subs(x,g.subs(x,h)))\n",
        "dfgh = sym.lambdify(x,dfgh)\n",
        "\n",
        "x  = np.linspace(-1.2,1.2,400)\n",
        "m  = np.cos(x) > 0\n",
        "y  = fgh(x[m])\n",
        "dy = dfgh(x[m])\n",
        "\n",
        "phi = (1 + np.sqrt(5)) / 2\n",
        "plt.figure(figsize=(5*phi,5))\n",
        "\n",
        "y_min = min(y.min(),dy.min())\n",
        "y_max = max(y.max(),dy.max())\n",
        "x_min = x.min()\n",
        "x_max = x.max()\n",
        "\n",
        "plt.plot(x[m],y,label=\"$f(g(h(x)))$\",color=\"tab:blue\")\n",
        "plt.plot(x[m],dy,'--',label=\"$[f(g(h(x)))]'$\",color=\"tab:red\")\n",
        "plt.title(\"Composite function f(g(h(x))) and its derivative\")\n",
        "plt.xlabel(\"x\")\n",
        "plt.ylabel(\"y\")\n",
        "plt.axvline(x=0,color='grey',linestyle=':',linewidth=0.8)\n",
        "plt.axhline(y=0,color='grey',linestyle=':',linewidth=0.8)\n",
        "plt.ylim(y_min,y_max)\n",
        "plt.xlim(x_min,x_max)\n",
        "plt.legend()\n",
        "\n",
        "plt.savefig('fig1_codechallenge_94_exercise_1.png')\n",
        "plt.show()\n",
        "files.download('fig1_codechallenge_94_exercise_1.png')\n"
      ]
    },
    {
      "cell_type": "code",
      "execution_count": null,
      "metadata": {
        "id": "KaC96TT_DFI4"
      },
      "outputs": [],
      "source": [
        "# %% Exercise 2\n",
        "#    Find a function g(x) so that [f(g(x))]' = f'(g(x))\n",
        "\n",
        "# The general rule is [f(g(x))]' = f'(g(x))g'(x), so for the above statement to\n",
        "# be true, we need a function whose derivative is a 1, or at least a constant;\n",
        "# so we could pick either g = x + q or any linear function g = mx + q\n",
        "\n",
        "# By the way, the idea of going from the derivative to the function is pretty\n",
        "# much at the base of integration and differential equations\n"
      ]
    }
  ],
  "metadata": {
    "colab": {
      "provenance": []
    },
    "kernelspec": {
      "display_name": "Python 3",
      "name": "python3"
    },
    "language_info": {
      "name": "python"
    }
  },
  "nbformat": 4,
  "nbformat_minor": 0
}
