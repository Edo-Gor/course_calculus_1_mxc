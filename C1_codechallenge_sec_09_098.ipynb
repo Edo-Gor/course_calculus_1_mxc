{
  "cells": [
    {
      "cell_type": "code",
      "execution_count": null,
      "metadata": {
        "id": "xYfsQvXxPsoD"
      },
      "outputs": [],
      "source": [
        "# %% Calculus 1 - Section 9.98\n",
        "#    Code challenge: implicit differentiation - II\n",
        "\n",
        "# This code pertains to a calculus course provided by Mike X. Cohen on Udemy:\n",
        "#   > https://www.udemy.com/course/pycalc1_x\n",
        "# The code in this repository is developed to solve the exercises provided along\n",
        "# the course, and it has been written partially indepentently and partially\n",
        "# from the code developed by the course instructor.\n"
      ]
    },
    {
      "cell_type": "code",
      "execution_count": 2,
      "metadata": {
        "id": "vd_wy4xAQC4E"
      },
      "outputs": [],
      "source": [
        "import numpy             as np\n",
        "import sympy             as sym\n",
        "import matplotlib.pyplot as plt\n",
        "import math\n",
        "\n",
        "from scipy.signal                     import find_peaks\n",
        "from IPython.display                  import display,Math\n",
        "from google.colab                     import files\n",
        "from matplotlib_inline.backend_inline import set_matplotlib_formats\n",
        "set_matplotlib_formats('svg')\n"
      ]
    },
    {
      "cell_type": "code",
      "execution_count": null,
      "metadata": {
        "colab": {
          "base_uri": "https://localhost:8080/",
          "height": 68
        },
        "id": "ROuweEZkwqhG",
        "outputId": "7ca624d4-3939-489b-b36a-2348882c5efe"
      },
      "outputs": [],
      "source": [
        "# %% Exercise 3\n",
        "#    Use sympy to confirm the deriviative of the implicit function shown in the\n",
        "#    video, plot function and derivative, use sympy to solve for y, repeat for\n",
        "#    the derivative.\n",
        "\n",
        "# Implicit function and derivative\n",
        "x = sym.symbols('x')\n",
        "y = sym.symbols('y')\n",
        "\n",
        "f = sym.exp(x**2 + y**2) - (x + y)\n",
        "display(f)\n",
        "\n",
        "df = sym.idiff(f,y,x)\n",
        "display(df)\n",
        "\n",
        "#explicit_f = sym.solve(f,y)\n",
        "explicit_df = sym.solve(df,y)\n",
        "display(explicit_df[0])\n",
        "\n",
        "\n",
        "# Plot\n",
        "p = sym.plot_implicit(f,(x,-2,2),title='An implicit function',ylabel='f(x)',xlabel='x',show=False)\n",
        "p.save('fig3_codechallenge_98_exercise_3.png')\n",
        "files.download('fig3_codechallenge_98_exercise_3.png')\n",
        "\n",
        "p = sym.plot_implicit(df,(x,-2,2),title='Derivative of an implicit function',ylabel='f(x)',xlabel='x',show=False)\n",
        "p.save('fig4_codechallenge_98_exercise_3.png')\n",
        "files.download('fig4_codechallenge_98_exercise_3.png')\n",
        "\n",
        "# A note: there are no points satisfying the function, but there are some points\n",
        "# satisfying the derivative, which, however, is not a function (i.e., fails the\n",
        "# vertival line test)\n"
      ]
    }
  ],
  "metadata": {
    "colab": {
      "provenance": []
    },
    "kernelspec": {
      "display_name": "Python 3",
      "name": "python3"
    },
    "language_info": {
      "name": "python"
    }
  },
  "nbformat": 4,
  "nbformat_minor": 0
}
