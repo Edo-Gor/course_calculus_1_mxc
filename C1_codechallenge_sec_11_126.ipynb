{
  "cells": [
    {
      "cell_type": "code",
      "execution_count": null,
      "metadata": {
        "id": "xYfsQvXxPsoD"
      },
      "outputs": [],
      "source": [
        "# %% Calculus 1 - Section 11.126\n",
        "#    Code challenge: farmers and Qberts\n",
        "\n",
        "# This code pertains to a calculus course provided by Mike X. Cohen on Udemy:\n",
        "#   > https://www.udemy.com/course/pycalc1_x\n",
        "# The code in this repository is developed to solve the exercises provided along\n",
        "# the course, and it has been written partially indepentently and partially\n",
        "# from the code developed by the course instructor.\n"
      ]
    },
    {
      "cell_type": "code",
      "execution_count": 1,
      "metadata": {
        "id": "vd_wy4xAQC4E"
      },
      "outputs": [],
      "source": [
        "import numpy             as np\n",
        "import sympy             as sym\n",
        "import matplotlib.pyplot as plt\n",
        "import math\n",
        "\n",
        "from scipy.signal                     import find_peaks\n",
        "from IPython.display                  import display,Math\n",
        "from google.colab                     import files\n",
        "from matplotlib_inline.backend_inline import set_matplotlib_formats\n",
        "set_matplotlib_formats('svg')\n"
      ]
    },
    {
      "cell_type": "code",
      "execution_count": null,
      "metadata": {
        "colab": {
          "base_uri": "https://localhost:8080/",
          "height": 490
        },
        "id": "8wbDs8s1KnXD",
        "outputId": "5817f5d3-a0bb-4eec-d84b-c0634b4acbca"
      },
      "outputs": [],
      "source": [
        "# %% Execise 1\n",
        "#    Code the farmer's fence problem from the previous video\n",
        "\n",
        "# Optimisation problem\n",
        "x = sym.symbols('x')\n",
        "\n",
        "y  = 400 / x\n",
        "C  = 2*x + 3*y/2\n",
        "dC = sym.diff(C)\n",
        "sx = sym.solve(dC,x)[1]\n",
        "sy = y.subs(x,sx)\n",
        "\n",
        "# Plot\n",
        "xx     = np.linspace(1,70,1000)\n",
        "f_fun  = sym.lambdify(x,C)\n",
        "df_fun = sym.lambdify(x,dC)\n",
        "\n",
        "phi = (1 + np.sqrt(5)) / 2\n",
        "plt.figure(figsize=(5*phi,5))\n",
        "\n",
        "plt.plot(xx,f_fun(xx),label=f\"f(x) = ${sym.latex(C)}$\")\n",
        "plt.plot(xx,df_fun(xx),label=f\"f'(x) = ${sym.latex(dC)}$\")\n",
        "plt.plot(sx,f_fun(sx),'o',color='tab:red')\n",
        "plt.plot(sx,df_fun(sx),'o',color='tab:red')\n",
        "\n",
        "plt.title(\"Optimiser function and its derivative\")\n",
        "plt.xlabel(\"x\")\n",
        "plt.ylabel(\"y / y' \")\n",
        "plt.axvline(x=sx,color='grey',linestyle=':',linewidth=0.8)\n",
        "plt.axvline(x=0,color='grey',linestyle=':',linewidth=0.8)\n",
        "plt.axhline(y=0,color='grey',linestyle=':',linewidth=0.8)\n",
        "plt.ylim(-100,200)\n",
        "plt.xlim(xx.min()-5,xx.max())\n",
        "plt.legend()\n",
        "plt.tight_layout()\n",
        "\n",
        "plt.savefig('fig13_codechallenge_126_exercise_1.png')\n",
        "plt.show()\n",
        "files.download('fig13_codechallenge_126_exercise_1.png')\n"
      ]
    },
    {
      "cell_type": "code",
      "execution_count": null,
      "metadata": {
        "colab": {
          "base_uri": "https://localhost:8080/",
          "height": 490
        },
        "id": "TzREKLPnKnUC",
        "outputId": "ef9bde16-56b6-4161-ccd6-e04e9b128fec"
      },
      "outputs": [],
      "source": [
        "# %% Execise 2\n",
        "#    Code the Qbert's open box problem from the previous video\n",
        "\n",
        "# Optimisation problem\n",
        "x = sym.symbols('x')\n",
        "y = sym.symbols('y')\n",
        "\n",
        "V  = x**2 * y - 200\n",
        "Vy = sym.solve(V,y)[0]\n",
        "S  = x**2 + 4*x*Vy\n",
        "\n",
        "dS = sym.diff(S)\n",
        "sx = sym.solve(dS,x)[0]\n",
        "sy = y.subs(x,sx)\n",
        "\n",
        "# Plot\n",
        "xx     = np.linspace(1,70,1000)\n",
        "f_fun  = sym.lambdify(x,S)\n",
        "df_fun = sym.lambdify(x,dS)\n",
        "\n",
        "phi = (1 + np.sqrt(5)) / 2\n",
        "plt.figure(figsize=(5*phi,5))\n",
        "\n",
        "plt.plot(xx,f_fun(xx),label=f\"f(x) = ${sym.latex(S)}$\")\n",
        "plt.plot(xx,df_fun(xx),label=f\"f'(x) = ${sym.latex(dS)}$\")\n",
        "plt.plot(sx,f_fun(sx),'o',color='tab:red')\n",
        "plt.plot(sx,df_fun(sx),'o',color='tab:red')\n",
        "\n",
        "plt.title(\"Optimiser function and its derivative\")\n",
        "plt.xlabel(\"x\")\n",
        "plt.ylabel(\"y / y' \")\n",
        "plt.axvline(x=sx,color='grey',linestyle=':',linewidth=0.8)\n",
        "plt.axvline(x=0,color='grey',linestyle=':',linewidth=0.8)\n",
        "plt.axhline(y=0,color='grey',linestyle=':',linewidth=0.8)\n",
        "plt.ylim(-100,500)\n",
        "plt.xlim(xx.min()-5,xx.max())\n",
        "plt.legend()\n",
        "plt.tight_layout()\n",
        "\n",
        "plt.savefig('fig14_codechallenge_126_exercise_2.png')\n",
        "plt.show()\n",
        "files.download('fig14_codechallenge_126_exercise_2.png')\n"
      ]
    }
  ],
  "metadata": {
    "colab": {
      "provenance": []
    },
    "kernelspec": {
      "display_name": "Python 3",
      "name": "python3"
    },
    "language_info": {
      "name": "python"
    }
  },
  "nbformat": 4,
  "nbformat_minor": 0
}
