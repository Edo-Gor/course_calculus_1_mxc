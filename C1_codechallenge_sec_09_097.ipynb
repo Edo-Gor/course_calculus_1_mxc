{
  "cells": [
    {
      "cell_type": "code",
      "execution_count": null,
      "metadata": {
        "id": "xYfsQvXxPsoD"
      },
      "outputs": [],
      "source": [
        "# %% Calculus 1 - Section 9.97\n",
        "#    Code challenge: implicit differentiation - I\n",
        "\n",
        "# This code pertains to a calculus course provided by Mike X. Cohen on Udemy:\n",
        "#   > https://www.udemy.com/course/pycalc1_x\n",
        "# The code in this repository is developed to solve the exercises provided along\n",
        "# the course, and it has been written partially indepentently and partially\n",
        "# from the code developed by the course instructor.\n"
      ]
    },
    {
      "cell_type": "code",
      "execution_count": 3,
      "metadata": {
        "id": "vd_wy4xAQC4E"
      },
      "outputs": [],
      "source": [
        "import numpy             as np\n",
        "import sympy             as sym\n",
        "import matplotlib.pyplot as plt\n",
        "import math\n",
        "\n",
        "from scipy.signal                     import find_peaks\n",
        "from IPython.display                  import display,Math\n",
        "from google.colab                     import files\n",
        "from matplotlib_inline.backend_inline import set_matplotlib_formats\n",
        "set_matplotlib_formats('svg')\n"
      ]
    },
    {
      "cell_type": "code",
      "execution_count": null,
      "metadata": {
        "colab": {
          "base_uri": "https://localhost:8080/",
          "height": 610
        },
        "id": "ROuweEZkwqhG",
        "outputId": "597998b5-99ca-490f-b61f-37d92216f8a1"
      },
      "outputs": [],
      "source": [
        "# %% Exercise 1\n",
        "#    Get the implicit differentiantion of the function shown in the video and\n",
        "#    plot, then use sym.solve to transform the function into its explicit form,\n",
        "#    substitute the explicit form to the implicit form to get dy without y and\n",
        "#    plot that derivative too\n",
        "\n",
        "# Implicit function and derivative\n",
        "x = sym.symbols('x')\n",
        "y = sym.symbols('y')\n",
        "\n",
        "f = x*y - 1\n",
        "display(f)\n",
        "\n",
        "df = sym.idiff(f,y,x)\n",
        "display(df)\n",
        "\n",
        "# Explicit function and derivative\n",
        "fe = sym.solve(f,y)\n",
        "display(fe[0])\n",
        "\n",
        "dfe = sym.diff(fe[0],x)\n",
        "display(dfe)\n",
        "\n",
        "# Plot\n",
        "f_implicit  = sym.lambdify(x,f)\n",
        "f_explicit  = sym.lambdify(x,fe)\n",
        "df_explicit = sym.lambdify(x,dfe)\n",
        "df_implicit = sym.lambdify((x,y),df)\n",
        "\n",
        "x_left  = np.linspace(-1,-0.001,200)\n",
        "x_right = np.linspace(0.001,1,200)\n",
        "\n",
        "y_left  = f_explicit(x_left)[0]\n",
        "y_right = f_explicit(x_right)[0]\n",
        "\n",
        "dy_left  = df_explicit(x_left)\n",
        "dy_right = df_explicit(x_right)\n",
        "\n",
        "phi = (1 + np.sqrt(5)) / 2\n",
        "plt.figure(figsize=(5*phi,5))\n",
        "\n",
        "plt.plot(x_left,y_left,color=\"tab:green\",label=\"f(x)\")\n",
        "plt.plot(x_right,y_right,color=\"tab:green\")\n",
        "plt.plot(x_left,dy_left,\"--\", color=\"tab:orange\",label=\"f'(x)\")\n",
        "plt.plot(x_right,dy_right,\"--\",color=\"tab:orange\")\n",
        "\n",
        "plt.title(\"A function and its derivative\")\n",
        "plt.xlabel(\"x\")\n",
        "plt.ylabel(\"y\")\n",
        "plt.axvline(x=0,color='grey',linestyle=':',linewidth=0.8)\n",
        "plt.axhline(y=0,color='grey',linestyle=':',linewidth=0.8)\n",
        "plt.ylim(y_left.min(),y_right.max())\n",
        "plt.xlim(x_left.min(),x_right.max())\n",
        "plt.legend()\n",
        "plt.tight_layout()\n",
        "\n",
        "plt.savefig('fig2_codechallenge_97_exercise_1.png')\n",
        "plt.show()\n",
        "files.download('fig2_codechallenge_97_exercise_1.png')\n"
      ]
    },
    {
      "cell_type": "code",
      "execution_count": null,
      "metadata": {
        "colab": {
          "base_uri": "https://localhost:8080/",
          "height": 260
        },
        "id": "4gYQooPdyLdU",
        "outputId": "35812882-d009-4cdb-b85e-9158a6f1463e"
      },
      "outputs": [],
      "source": [
        "# %% Exercise 2\n",
        "#    Use sympy to confirm the derivative of the implicit function shown in the\n",
        "#    video, substitute symbolic sqrt(5) for y, substitute numerical sqrt(5) for\n",
        "#    y, substitute symbolic y=sqrt(5) and x=pi, substitute numerical y=sqrt(5)\n",
        "#    and x=pi\n",
        "\n",
        "# Implicit function and derivative\n",
        "x = sym.symbols('x')\n",
        "y = sym.symbols('y')\n",
        "\n",
        "f = x**3 * y**2 - (5 * x**4)\n",
        "display(f)\n",
        "\n",
        "df = sym.idiff(f,y,x)\n",
        "display(df)\n",
        "\n",
        "print()\n",
        "display(df.subs(y,sym.sqrt(5)))\n",
        "print()\n",
        "display(df.subs(y,np.sqrt(5)))\n",
        "print()\n",
        "display(df.subs(y,sym.sqrt(5)).subs(x,np.pi))\n",
        "print()\n",
        "display(df.subs(y,np.sqrt(5)).subs(x,np.pi))\n"
      ]
    }
  ],
  "metadata": {
    "colab": {
      "provenance": []
    },
    "kernelspec": {
      "display_name": "Python 3",
      "name": "python3"
    },
    "language_info": {
      "name": "python"
    }
  },
  "nbformat": 4,
  "nbformat_minor": 0
}
