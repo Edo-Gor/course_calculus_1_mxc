{
  "cells": [
    {
      "cell_type": "code",
      "execution_count": null,
      "metadata": {
        "id": "xYfsQvXxPsoD"
      },
      "outputs": [],
      "source": [
        "# %% Calculus 1 - Section 11.119\n",
        "#    Code challenge: linear approximations - II\n",
        "\n",
        "# This code pertains to a calculus course provided by Mike X. Cohen on Udemy:\n",
        "#   > https://www.udemy.com/course/pycalc1_x\n",
        "# The code in this repository is developed to solve the exercises provided along\n",
        "# the course, and it has been written partially indepentently and partially\n",
        "# from the code developed by the course instructor.\n"
      ]
    },
    {
      "cell_type": "code",
      "execution_count": 1,
      "metadata": {
        "id": "vd_wy4xAQC4E"
      },
      "outputs": [],
      "source": [
        "import numpy             as np\n",
        "import sympy             as sym\n",
        "import matplotlib.pyplot as plt\n",
        "import math\n",
        "\n",
        "from scipy.signal                     import find_peaks\n",
        "from IPython.display                  import display,Math\n",
        "from google.colab                     import files\n",
        "from matplotlib_inline.backend_inline import set_matplotlib_formats\n",
        "set_matplotlib_formats('svg')\n"
      ]
    },
    {
      "cell_type": "code",
      "execution_count": 3,
      "metadata": {
        "id": "_z4D3blYSB6R"
      },
      "outputs": [],
      "source": [
        "# %% Exercise 3\n",
        "#    Repeat exercise 2 but with the function shown in the video\n",
        "\n",
        "def linear_approximate(f,x0,a):\n",
        "\n",
        "    # Derivative\n",
        "    df = sym.diff(f)\n",
        "\n",
        "    # Define the linear approximation (L = mx+q)\n",
        "    m  = df.subs(x,a)\n",
        "    xx = x0 - a\n",
        "    q  = f.subs(x,a)\n",
        "\n",
        "    L = m*xx + q\n",
        "\n",
        "    return L\n"
      ]
    },
    {
      "cell_type": "code",
      "execution_count": null,
      "metadata": {
        "colab": {
          "base_uri": "https://localhost:8080/",
          "height": 488
        },
        "id": "d3Nswsp-J7_K",
        "outputId": "a0e55231-01d3-4a2f-b2ad-45fec0be1e4e"
      },
      "outputs": [],
      "source": [
        "# %% Exercise 3\n",
        "#    Continue ...\n",
        "\n",
        "x = sym.symbols('x',real=True)\n",
        "f = sym.Abs(sym.sin(x))\n",
        "\n",
        "# Run loop\n",
        "a_vals   = np.linspace(-sym.pi,2*sym.pi,75)\n",
        "x0       = np.mean(a_vals)\n",
        "true_val = f.subs(x,x0)\n",
        "\n",
        "approx = np.zeros(len(a_vals))\n",
        "error  = np.zeros(len(a_vals))\n",
        "\n",
        "for i,a in enumerate(a_vals):\n",
        "\n",
        "    approx[i] = linear_approximate(f,x0,a)\n",
        "    error[i]  = true_val - approx[i]\n",
        "\n",
        "# Plot\n",
        "xx    = np.linspace(-2*np.pi,3*np.pi,250)\n",
        "f_fun = sym.lambdify(x,f)\n",
        "\n",
        "phi = ( 1 + np.sqrt(5) ) / 2\n",
        "_,axs = plt.subplots(1,2,figsize=(1.5*5*phi,5))\n",
        "axs[0].plot(a_vals,error,'o-',alpha=0.5)\n",
        "axs[0].set_title('Approximation errors')\n",
        "axs[0].axhline(y=0,color='grey',linestyle=':',linewidth=0.8)\n",
        "\n",
        "axs[1].plot(xx,f_fun(xx),label=\"$f(x)$\")\n",
        "axs[1].plot(a_vals,approx,'o',color='tab:green',label=\"approximations\",alpha=0.5)\n",
        "axs[1].plot(x0,true_val,'s',color='tab:red',label=\"$f(x_0)$\",alpha=0.5)\n",
        "axs[1].axvline(x=0,color='grey',linestyle=':',linewidth=0.8)\n",
        "axs[1].axhline(y=0,color='grey',linestyle=':',linewidth=0.8)\n",
        "axs[1].legend()\n",
        "axs[1].set_title(\"$f(x)$ and its approximations at $x_0$\")\n",
        "\n",
        "plt.tight_layout()\n",
        "\n",
        "plt.savefig('fig8_codechallenge_119_exercise_3.png')\n",
        "plt.show()\n",
        "files.download('fig8_codechallenge_119_exercise_3.png')\n"
      ]
    }
  ],
  "metadata": {
    "colab": {
      "provenance": []
    },
    "kernelspec": {
      "display_name": "Python 3",
      "name": "python3"
    },
    "language_info": {
      "name": "python"
    }
  },
  "nbformat": 4,
  "nbformat_minor": 0
}
