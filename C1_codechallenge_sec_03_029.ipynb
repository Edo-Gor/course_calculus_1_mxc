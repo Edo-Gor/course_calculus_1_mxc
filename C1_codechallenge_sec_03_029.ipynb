{
 "cells": [
  {
   "cell_type": "code",
   "execution_count": null,
   "metadata": {
    "id": "NrfH-pHtuMhS"
   },
   "outputs": [],
   "source": [
    "# %% Calculus 1 - Section 3.29\n",
    "#    Code challenge: discontinuities - I\n",
    "\n",
    "# This code pertains to a calculus course provided by Mike X. Cohen on Udemy:\n",
    "#   > https://www.udemy.com/course/pycalc1_x\n",
    "# The code in this repository is developed to solve the exercises provided along\n",
    "# the course, and it has been written partially indepentently and partially\n",
    "# from the code developed by the course instructor.\n"
   ]
  },
  {
   "cell_type": "code",
   "execution_count": null,
   "metadata": {
    "id": "B2PAx8a0ueNG"
   },
   "outputs": [],
   "source": [
    "import numpy             as np\n",
    "import sympy             as sym\n",
    "import matplotlib.pyplot as plt\n",
    "import math\n",
    "\n",
    "from IPython.display                  import display,Math\n",
    "from google.colab                     import files\n",
    "from matplotlib_inline.backend_inline import set_matplotlib_formats\n",
    "set_matplotlib_formats('svg')\n"
   ]
  },
  {
   "cell_type": "code",
   "execution_count": null,
   "metadata": {
    "colab": {
     "base_uri": "https://localhost:8080/",
     "height": 323
    },
    "executionInfo": {
     "elapsed": 236,
     "status": "ok",
     "timestamp": 1747432592446,
     "user": {
      "displayName": "Edoardo Gornetti",
      "userId": "05048424707797899325"
     },
     "user_tz": -120
    },
    "id": "7ZbNUYXODjUT",
    "outputId": "f77640d8-8ed4-47b8-fb79-7fc7a1c1878d"
   },
   "outputs": [],
   "source": [
    "# %% Exercise 1\n",
    "#    Reproduce the plot shown in the video with an (overall) domain (-1,2)\n",
    "\n",
    "# Function (isolate value closest to 0)\n",
    "x = np.linspace(-1,2,300)\n",
    "\n",
    "idx = np.argmin(np.abs(x - 0))\n",
    "val = x[idx]\n",
    "\n",
    "y1 = np.sin(x*np.pi) * (x<0)\n",
    "y2 = 1.5             * (x==val)\n",
    "y3 = -(x-2)**2       * (x>0)\n",
    "\n",
    "# Plotting\n",
    "fig = plt.figure(figsize=(6,3))\n",
    "\n",
    "plt.plot(x[x<0],y1[x<0])\n",
    "plt.plot(x[x==val],y2[x==val],'.',markersize=8)\n",
    "plt.plot(x[x>0],y3[x>0])\n",
    "\n",
    "plt.title(\"A function with jump discontinuities\")\n",
    "plt.xlabel('$x$')\n",
    "plt.ylabel('$f(x)$')\n",
    "plt.grid(True)\n",
    "\n",
    "plt.savefig('fig22_codechallenge_29_exercise_1.png')\n",
    "plt.show()\n",
    "files.download('fig22_codechallenge_29_exercise_1.png')\n"
   ]
  },
  {
   "cell_type": "code",
   "execution_count": null,
   "metadata": {
    "colab": {
     "base_uri": "https://localhost:8080/",
     "height": 323
    },
    "executionInfo": {
     "elapsed": 224,
     "status": "ok",
     "timestamp": 1747433976611,
     "user": {
      "displayName": "Edoardo Gornetti",
      "userId": "05048424707797899325"
     },
     "user_tz": -120
    },
    "id": "AKMuwpUSI4rI",
    "outputId": "81d3016c-f73a-48a4-dacb-425a5f701689"
   },
   "outputs": [],
   "source": [
    "# %% Alternative solution to Exercise 1\n",
    "\n",
    "# Function (define domains for subfunctions)\n",
    "res = .1\n",
    "x   = np.arange(-1,2,res)\n",
    "\n",
    "y    = [0]*3\n",
    "y[0] = np.sin(x*np.pi)\n",
    "y[1] = 1.5*np.ones(len(x))\n",
    "y[2] = -(x-2)**2\n",
    "\n",
    "dom    = [0]*3\n",
    "dom[0] = x<0\n",
    "dom[1] = np.abs(x)<(res/2)\n",
    "dom[2] = x>0\n",
    "\n",
    "# Plotting\n",
    "mark = '-o-'\n",
    "fig = plt.figure(figsize=(6,3))\n",
    "for i in range(3):\n",
    "  plt.plot(x[dom[i]],y[i][dom[i]],mark[i])\n",
    "\n",
    "plt.title(\"A function with jump discontinuities\")\n",
    "plt.xlabel('$x$')\n",
    "plt.ylabel('$f(x)$')\n",
    "plt.grid(True)\n"
   ]
  },
  {
   "cell_type": "code",
   "execution_count": null,
   "metadata": {
    "colab": {
     "base_uri": "https://localhost:8080/",
     "height": 489
    },
    "executionInfo": {
     "elapsed": 323,
     "status": "ok",
     "timestamp": 1747434192508,
     "user": {
      "displayName": "Edoardo Gornetti",
      "userId": "05048424707797899325"
     },
     "user_tz": -120
    },
    "id": "BUAljc_yJCwq",
    "outputId": "2c31c471-619f-4f13-e48c-490db013051d"
   },
   "outputs": [],
   "source": [
    "# %% Exercise 3\n",
    "#    Reproduce the above function but with sympy\n",
    "\n",
    "# Function\n",
    "x = sym.symbols('x')\n",
    "\n",
    "# Use sym.And for combining conditions and sym.Rational for precise fractions\n",
    "y = sym.Piecewise(\n",
    "    (sym.sin(x*sym.pi), x<0),\n",
    "    (1.5, sym.Eq(x,0)),\n",
    "    (-(x-2)**2, x>0))\n",
    "\n",
    "# Plotting\n",
    "p = sym.plot(y,(x,-1,2),title='A function with jump discontinuities',ylabel='$f(x)$',xlabel='$x$',show=False)\n",
    "p.save('fig23_codechallenge_29_exercise_2.png')\n",
    "files.download('fig23_codechallenge_29_exercise_2.png')\n",
    "\n",
    "display(y)"
   ]
  },
  {
   "cell_type": "code",
   "execution_count": null,
   "metadata": {
    "colab": {
     "base_uri": "https://localhost:8080/",
     "height": 323
    },
    "executionInfo": {
     "elapsed": 259,
     "status": "ok",
     "timestamp": 1747434832438,
     "user": {
      "displayName": "Edoardo Gornetti",
      "userId": "05048424707797899325"
     },
     "user_tz": -120
    },
    "id": "ahLT0UxbMxPo",
    "outputId": "32e3d434-b3c8-4b99-aa68-9384bbf618fd"
   },
   "outputs": [],
   "source": [
    "# %% Exercise 3\n",
    "#    Reproduce the plot shown in the video with an (overall) domain (-1,2)\n",
    "\n",
    "# Function (define domains for subfunctions)\n",
    "res = .1\n",
    "x   = np.arange(-1,2,res)\n",
    "\n",
    "y = np.sin(x*np.pi) + x**2\n",
    "y[np.argmin(np.abs(x))] = np.pi\n",
    "\n",
    "# Plotting\n",
    "fig = plt.figure(figsize=(6,3))\n",
    "plt.plot(x,y,'o')\n",
    "\n",
    "plt.title(\"A function with a removable discontinuity\")\n",
    "plt.xlabel('$x$')\n",
    "plt.ylabel('$f(x)$')\n",
    "plt.grid(True)\n",
    "\n",
    "plt.savefig('fig24_codechallenge_29_exercise_3.png')\n",
    "plt.show()\n",
    "files.download('fig24_codechallenge_29_exercise_3.png')\n"
   ]
  }
 ],
 "metadata": {
  "colab": {
   "authorship_tag": "ABX9TyPfDYrqVJQwvPV2S5OnbLTw",
   "provenance": []
  },
  "kernelspec": {
   "display_name": "Python 3",
   "name": "python3"
  },
  "language_info": {
   "name": "python"
  }
 },
 "nbformat": 4,
 "nbformat_minor": 0
}
