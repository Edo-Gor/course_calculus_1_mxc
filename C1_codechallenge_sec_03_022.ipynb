{
 "cells": [
  {
   "cell_type": "code",
   "execution_count": null,
   "metadata": {
    "id": "M34GicZ66od0"
   },
   "outputs": [],
   "source": [
    "# %% Calculus 1 - Section 3.22\n",
    "#    Code challenge: power and logarithm - II\n",
    "\n",
    "# This code pertains to a calculus course provided by Mike X. Cohen on Udemy:\n",
    "#   > https://www.udemy.com/course/pycalc1_x\n",
    "# The code in this repository is developed to solve the exercises provided along\n",
    "# the course, and it has been written partially indepentently and partially\n",
    "# from the code developed by the course instructor.\n"
   ]
  },
  {
   "cell_type": "code",
   "execution_count": null,
   "metadata": {
    "id": "6w22w83N6549"
   },
   "outputs": [],
   "source": [
    "import numpy             as np\n",
    "import sympy             as sym\n",
    "import matplotlib.pyplot as plt\n",
    "import math\n",
    "\n",
    "from IPython.display                  import display,Math\n",
    "from google.colab                     import files\n",
    "from matplotlib_inline.backend_inline import set_matplotlib_formats\n",
    "set_matplotlib_formats('svg')\n"
   ]
  },
  {
   "cell_type": "code",
   "execution_count": null,
   "metadata": {
    "colab": {
     "base_uri": "https://localhost:8080/",
     "height": 379
    },
    "executionInfo": {
     "elapsed": 839,
     "status": "ok",
     "timestamp": 1747082596952,
     "user": {
      "displayName": "Edoardo Gornetti",
      "userId": "05048424707797899325"
     },
     "user_tz": -120
    },
    "id": "HYN28BQLITBe",
    "outputId": "ffac16b4-4cb8-4840-af12-5b1d2f5737e4"
   },
   "outputs": [],
   "source": [
    "# %% Exercise 4\n",
    "#    In numpy, test the 3 major log rules:\n",
    "#    > ln(a*b) = ln(a) * ln(b)\n",
    "#    > ln(a^b) = b*ln(a)\n",
    "#    > ln(a/b) = ln(a) - ln(b)\n",
    "#    > Notice that all the 3 rules are valid only if (a,b)>0\n",
    "\n",
    "a = 4\n",
    "b = 2\n",
    "\n",
    "prod1 = np.log(a*b)\n",
    "prod2 = np.log(a) + np.log(b)\n",
    "pows1 = np.log(a**b)\n",
    "pows2 = b*np.log(a)\n",
    "frac1 = np.log(a/b)\n",
    "frac2 = np.log(a) - np.log(b)\n",
    "\n",
    "print(f\"{prod1:.5f} = {prod2:.5f}\")\n",
    "print(f\"{pows1:.5f} = {pows2:.5f}\")\n",
    "print(f\"{frac1:.5f} = {frac2:.5f}\")\n",
    "\n",
    "# Plotting\n",
    "a = np.random.rand(100)\n",
    "b = np.random.rand(100)\n",
    "\n",
    "prod1 = np.log(a*b)\n",
    "prod2 = np.log(a) + np.log(b)\n",
    "pows1 = np.log(a**b)\n",
    "pows2 = b*np.log(a)\n",
    "frac1 = np.log(a/b)\n",
    "frac2 = np.log(a) - np.log(b)\n",
    "\n",
    "v = prod1-prod2\n",
    "u = pows1-pows2\n",
    "w = frac1-frac2\n",
    "\n",
    "fig, ax = plt.subplots(1,3,figsize=(16,4))\n",
    "\n",
    "ax[0].plot(v,'s-',color='tab:blue',label='$\\\\log(ab) = \\\\log(a)\\\\log(b)$')\n",
    "ax[0].set_ylabel('Error')\n",
    "ax[0].legend()\n",
    "ax[0].grid(True)\n",
    "ax[0].set_title('Product log rule')\n",
    "\n",
    "ax[1].plot(u,'s-',color='tab:orange',label='$\\\\log(a^b) = blog(a)$')\n",
    "ax[1].set_ylabel('Error')\n",
    "ax[1].legend()\n",
    "ax[1].grid(True)\n",
    "ax[0].set_title('Power log rule')\n",
    "\n",
    "ax[2].plot(w,'s-',color='tab:green',label='$\\\\log(\\\\frac{a}{b}) = \\\\log(a) - log(b)$')\n",
    "ax[2].set_ylabel('Error')\n",
    "ax[2].legend()\n",
    "ax[2].grid(True)\n",
    "ax[2].set_title('Ratio log rule')\n",
    "\n",
    "plt.savefig('fig14_codechallenge_22_exercise_4.png')\n",
    "plt.show()\n",
    "files.download('fig14_codechallenge_22_exercise_4.png')\n"
   ]
  }
 ],
 "metadata": {
  "colab": {
   "authorship_tag": "ABX9TyO7DpKz55eYrl7EPCjScitv",
   "provenance": []
  },
  "kernelspec": {
   "display_name": "Python 3",
   "name": "python3"
  },
  "language_info": {
   "name": "python"
  }
 },
 "nbformat": 4,
 "nbformat_minor": 0
}
