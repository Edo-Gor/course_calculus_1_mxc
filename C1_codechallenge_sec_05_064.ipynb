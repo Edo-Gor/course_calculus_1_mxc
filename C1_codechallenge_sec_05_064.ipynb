{
 "cells": [
  {
   "cell_type": "code",
   "execution_count": null,
   "metadata": {
    "id": "xYfsQvXxPsoD"
   },
   "outputs": [],
   "source": [
    "# %% Calculus 1 - Section 5.64\n",
    "#    Code challenge: infinite limits exercises - II\n",
    "\n",
    "# This code pertains to a calculus course provided by Mike X. Cohen on Udemy:\n",
    "#   > https://www.udemy.com/course/pycalc1_x\n",
    "# The code in this repository is developed to solve the exercises provided along\n",
    "# the course, and it has been written partially indepentently and partially\n",
    "# from the code developed by the course instructor.\n"
   ]
  },
  {
   "cell_type": "code",
   "execution_count": null,
   "metadata": {
    "id": "vd_wy4xAQC4E"
   },
   "outputs": [],
   "source": [
    "import numpy             as np\n",
    "import sympy             as sym\n",
    "import matplotlib.pyplot as plt\n",
    "import math\n",
    "\n",
    "from IPython.display                  import display,Math\n",
    "from google.colab                     import files\n",
    "from matplotlib_inline.backend_inline import set_matplotlib_formats\n",
    "set_matplotlib_formats('svg')\n"
   ]
  },
  {
   "cell_type": "code",
   "execution_count": null,
   "metadata": {
    "colab": {
     "base_uri": "https://localhost:8080/",
     "height": 776
    },
    "executionInfo": {
     "elapsed": 413,
     "status": "ok",
     "timestamp": 1750015560654,
     "user": {
      "displayName": "Edoardo Gornetti",
      "userId": "05048424707797899325"
     },
     "user_tz": -120
    },
    "id": "2pUMdX-o6GJa",
    "outputId": "0193e327-fa37-4d6a-9fbc-e72f5568a172"
   },
   "outputs": [],
   "source": [
    "# %% Exercise 2\n",
    "#    Implement the function in the video in sympy, each time a, b, and c must be\n",
    "#    drawn randomly from the respective distributions; then compute the limits\n",
    "#    for x->-a, print the function, the graph, the two-sided limit, the one-sided\n",
    "#    limits, and the function value at f(a)\n",
    "\n",
    "# Function\n",
    "x = sym.symbols('x')\n",
    "\n",
    "a = np.random.randint(-4,5)\n",
    "b = np.random.randint(a,a+5)\n",
    "c = - sym.sqrt(b-a)\n",
    "\n",
    "f = (sym.sqrt(x+b) + c) / (x + a)\n",
    "\n",
    "# Print function\n",
    "print(f'Compute the limit as x approaches {-a} of:')\n",
    "display(f)\n",
    "print()\n",
    "\n",
    "# Print graph\n",
    "p = sym.plot(f,(x,-10,10),title='A function',ylabel='$f(x)$',xlabel='$x$',show=False)\n",
    "p.ylim = (-1,1)\n",
    "p.save('fig20_codechallenge_64_exercise_2.png')\n",
    "files.download('fig20_codechallenge_64_exercise_2.png')\n",
    "\n",
    "# Print limits\n",
    "print('The two-sided limit is:')\n",
    "display(sym.limit(f,x,-a,'+-'))\n",
    "\n",
    "print('The left one-sided limit is:')\n",
    "display(sym.limit(f,x,-a,'-'))\n",
    "\n",
    "print('The right one-sided limit is:')\n",
    "display(sym.limit(f,x,-a,'+'))\n",
    "print()\n",
    "\n",
    "print(f'The value of the function at f({-a}) is:')\n",
    "display(f.subs(x,-a))\n",
    "print()\n",
    "\n",
    "print( f'Domain of f(x) is:' )\n",
    "display(sym.calculus.util.continuous_domain(f,x,sym.Reals))\n"
   ]
  },
  {
   "cell_type": "code",
   "execution_count": null,
   "metadata": {
    "colab": {
     "base_uri": "https://localhost:8080/",
     "height": 696
    },
    "executionInfo": {
     "elapsed": 317,
     "status": "ok",
     "timestamp": 1750016091729,
     "user": {
      "displayName": "Edoardo Gornetti",
      "userId": "05048424707797899325"
     },
     "user_tz": -120
    },
    "id": "Vfuc_GYZDnsl",
    "outputId": "0588673c-0e6c-4aa3-d7c3-acb769b54cf8"
   },
   "outputs": [],
   "source": [
    "# %% Exercise 2\n",
    "#    Implement the functions in the video in sympy, each time a, and b must be\n",
    "#    drawn randomly from the respective distributions; then compute the limits\n",
    "#    for x->a, print the function, the graph, the two-sided limit, the one-sided\n",
    "#    limits, and the function value at f(a)\n",
    "\n",
    "# Function 1\n",
    "x = sym.symbols('x')\n",
    "\n",
    "a = np.random.randint(-4,5)\n",
    "b = np.random.randint(-4,5)\n",
    "\n",
    "f = sym.Abs(x-a) + b\n",
    "\n",
    "# Print function\n",
    "print(f'Compute the limit as x approaches {a} of:')\n",
    "display(f)\n",
    "print()\n",
    "\n",
    "# Print graph\n",
    "p = sym.plot(f,(x,-10,10),title='A function',ylabel='$f(x)$',xlabel='$x$',show=False)\n",
    "p.save('fig23_codechallenge_64_exercise_3.png')\n",
    "files.download('fig23_codechallenge_64_exercise_3.png')\n",
    "\n",
    "# Print limits\n",
    "print('The two-sided limit is:')\n",
    "display(sym.limit(f,x,a,'+-'))\n",
    "\n",
    "print('The left one-sided limit is:')\n",
    "display(sym.limit(f,x,a,'-'))\n",
    "\n",
    "print('The right one-sided limit is:')\n",
    "display(sym.limit(f,x,a,'+'))\n",
    "print()\n",
    "\n",
    "print(f'The value of the function at f({a}) is:')\n",
    "display(f.subs(x,a))\n",
    "print()\n",
    "\n",
    "print( f'Domain of f(x) is:' )\n",
    "display(sym.calculus.util.continuous_domain(f,x,sym.Reals))\n"
   ]
  },
  {
   "cell_type": "code",
   "execution_count": null,
   "metadata": {
    "colab": {
     "base_uri": "https://localhost:8080/",
     "height": 709
    },
    "executionInfo": {
     "elapsed": 308,
     "status": "ok",
     "timestamp": 1750016109110,
     "user": {
      "displayName": "Edoardo Gornetti",
      "userId": "05048424707797899325"
     },
     "user_tz": -120
    },
    "id": "gcjGPVRiEYX1",
    "outputId": "b9224e88-fb4f-4ecd-d571-4427278430f9"
   },
   "outputs": [],
   "source": [
    "# %% Exercise 2 continue ...\n",
    "\n",
    "# Function 2\n",
    "x = sym.symbols('x')\n",
    "\n",
    "a = np.random.randint(-4,5)\n",
    "b = np.random.randint(-4,5)\n",
    "\n",
    "f = (x-a) / sym.Abs(x-a)\n",
    "\n",
    "# Print function\n",
    "print(f'Compute the limit as x approaches {a} of:')\n",
    "display(f)\n",
    "print()\n",
    "\n",
    "# Print graph\n",
    "p = sym.plot(f,(x,-10,10),title='A function',ylabel='$f(x)$',xlabel='$x$',show=False)\n",
    "p.save('fig25_codechallenge_64_exercise_3.png')\n",
    "files.download('fig25_codechallenge_64_exercise_3.png')\n",
    "\n",
    "# Print limits\n",
    "print('The two-sided limit is:')\n",
    "#display(sym.limit(f,x,a,'+-'))\n",
    "print('∄')\n",
    "\n",
    "print('The left one-sided limit is:')\n",
    "display(sym.limit(f,x,a,'-'))\n",
    "\n",
    "print('The right one-sided limit is:')\n",
    "display(sym.limit(f,x,a,'+'))\n",
    "print()\n",
    "\n",
    "print(f'The value of the function at f({a}) is:')\n",
    "display(f.subs(x,a))\n",
    "print()\n",
    "\n",
    "print( f'Domain of f(x) is:' )\n",
    "display(sym.calculus.util.continuous_domain(f,x,sym.Reals))\n"
   ]
  }
 ],
 "metadata": {
  "colab": {
   "authorship_tag": "ABX9TyM77E5xtIrCYaUpkifQp64C",
   "provenance": []
  },
  "kernelspec": {
   "display_name": "Python 3",
   "name": "python3"
  },
  "language_info": {
   "name": "python"
  }
 },
 "nbformat": 4,
 "nbformat_minor": 0
}
