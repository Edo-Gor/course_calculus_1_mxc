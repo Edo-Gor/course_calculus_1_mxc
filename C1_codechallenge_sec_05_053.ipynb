{
 "cells": [
  {
   "cell_type": "code",
   "execution_count": null,
   "metadata": {
    "id": "MY7bYYhrqdxU"
   },
   "outputs": [],
   "source": [
    "# %% Calculus 1 - Section 5.53\n",
    "#    Code challenge: limits at discontinuities - II\n",
    "\n",
    "# This code pertains to a calculus course provided by Mike X. Cohen on Udemy:\n",
    "#   > https://www.udemy.com/course/pycalc1_x\n",
    "# The code in this repository is developed to solve the exercises provided along\n",
    "# the course, and it has been written partially indepentently and partially\n",
    "# from the code developed by the course instructor.\n"
   ]
  },
  {
   "cell_type": "code",
   "execution_count": null,
   "metadata": {
    "id": "WK8JMbyEq7bI"
   },
   "outputs": [],
   "source": [
    "import numpy             as np\n",
    "import sympy             as sym\n",
    "import matplotlib.pyplot as plt\n",
    "import math\n",
    "\n",
    "from IPython.display                  import display,Math\n",
    "from google.colab                     import files\n",
    "from matplotlib_inline.backend_inline import set_matplotlib_formats\n",
    "set_matplotlib_formats('svg')\n"
   ]
  },
  {
   "cell_type": "code",
   "execution_count": null,
   "metadata": {
    "colab": {
     "base_uri": "https://localhost:8080/",
     "height": 177
    },
    "executionInfo": {
     "elapsed": 52,
     "status": "ok",
     "timestamp": 1749476910284,
     "user": {
      "displayName": "Edoardo Gornetti",
      "userId": "05048424707797899325"
     },
     "user_tz": -120
    },
    "id": "u5jQPG0Oq79k",
    "outputId": "807c384d-6dfd-48c9-8610-232763c59aa7"
   },
   "outputs": [],
   "source": [
    "# %% Exercise 2\n",
    "#    Reproduce the function from the previous exercise in sympy, and compute\n",
    "#    the limits for x->0; note that the function contains jump discontinuities\n",
    "\n",
    "# Function\n",
    "x = sym.symbols('x')\n",
    "f = sym.Piecewise(\n",
    "    (sym.sin(sym.pi*x), x < 0),\n",
    "    (1.5,               sym.Eq(x,0)),\n",
    "    (-(x-2)**2,         x>0) )\n",
    "\n",
    "# Limits\n",
    "a = 0\n",
    "\n",
    "# Compute limits\n",
    "limit_l = sym.limit(f,x,a,'-')\n",
    "limit_r = sym.limit(f,x,a,'+')\n",
    "\n",
    "print('Note the issue with SymPy:')\n",
    "print( f'Limit as x approaches {a} = {sym.N(limit_l)}' )\n",
    "print( f'Limit as x approaches {a} = {sym.N(limit_r)}')\n",
    "print( f'Function value at x = {a} equals {sym.N(f.subs(x,a))}')\n",
    "print()\n",
    "display(f)\n"
   ]
  },
  {
   "cell_type": "code",
   "execution_count": null,
   "metadata": {
    "colab": {
     "base_uri": "https://localhost:8080/",
     "height": 139
    },
    "executionInfo": {
     "elapsed": 11,
     "status": "ok",
     "timestamp": 1749476945643,
     "user": {
      "displayName": "Edoardo Gornetti",
      "userId": "05048424707797899325"
     },
     "user_tz": -120
    },
    "id": "051FAtJKq75_",
    "outputId": "16145011-2414-4a2a-f830-aece88884ef8"
   },
   "outputs": [],
   "source": [
    "# %% Exercise 3\n",
    "#    Reproduce the function in the video in sympy, and compute the limits for\n",
    "#    x->-1 and x->1; note that the function contains inifinite discontinuities\n",
    "\n",
    "# Function\n",
    "x = sym.symbols('x')\n",
    "f = 3 / (1-x**2)\n",
    "\n",
    "# Limits\n",
    "a = 1\n",
    "\n",
    "# Compute limits\n",
    "limit_l = sym.limit(f,x,a,'-')\n",
    "limit_r = sym.limit(f,x,a,'+-')\n",
    "\n",
    "print('Note the issue with SymPy:')\n",
    "print( f'Limit as x approaches {a} = {sym.N(limit_l)}' )\n",
    "print( f'Limit as x approaches {a} = {sym.N(limit_r)}')\n",
    "print( f'Function value as x approaches {a} = ∄' )\n",
    "print()\n",
    "display(f)\n"
   ]
  },
  {
   "cell_type": "code",
   "execution_count": null,
   "metadata": {
    "colab": {
     "base_uri": "https://localhost:8080/",
     "height": 416
    },
    "executionInfo": {
     "elapsed": 889,
     "status": "ok",
     "timestamp": 1749477264126,
     "user": {
      "displayName": "Edoardo Gornetti",
      "userId": "05048424707797899325"
     },
     "user_tz": -120
    },
    "id": "oefdpny15QFR",
    "outputId": "bbd0ae6d-e113-4066-9b47-31f588b70414"
   },
   "outputs": [],
   "source": [
    "# %% Exercise 4\n",
    "#    Reproduce the function in the video in sympy, and compute the limits for\n",
    "#    x->0; note that the function contains oscillating discontinuities\n",
    "\n",
    "# Function\n",
    "x = sym.symbols('x')\n",
    "f = sym.sin(x**(-1))\n",
    "\n",
    "# Limits\n",
    "a = 0\n",
    "\n",
    "# Compute limits\n",
    "limit_l = sym.limit(f,x,a,'-')\n",
    "limit_r = sym.limit(f,x,a,'+-')\n",
    "\n",
    "print('Note the issue with SymPy:')\n",
    "print( f'Limit as x approaches {a} = {sym.N(limit_l)}' )\n",
    "print( f'Limit as x approaches {a} = {sym.N(limit_r)}')\n",
    "print( f'Function value as x approaches {a} = ∄' )\n",
    "print()\n",
    "display(f)\n",
    "\n",
    "# Plotting for clarity\n",
    "p = sym.plot(f,(x,-1,1),title='An oscillating discontinuity',ylabel='$f(x)$',xlabel='$x$',show=False)\n",
    "p.save('fig9_codechallenge_52_exercise_4.png')\n",
    "files.download('fig9_codechallenge_52_exercise_4.png')\n"
   ]
  }
 ],
 "metadata": {
  "colab": {
   "authorship_tag": "ABX9TyNTUzdKGHbsOcpK7ZXdeljE",
   "provenance": []
  },
  "kernelspec": {
   "display_name": "Python 3",
   "name": "python3"
  },
  "language_info": {
   "name": "python"
  }
 },
 "nbformat": 4,
 "nbformat_minor": 0
}
