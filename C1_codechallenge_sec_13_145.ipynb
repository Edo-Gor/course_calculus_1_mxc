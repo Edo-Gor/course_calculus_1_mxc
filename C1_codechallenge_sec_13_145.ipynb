{
  "cells": [
    {
      "cell_type": "code",
      "execution_count": null,
      "metadata": {
        "id": "xYfsQvXxPsoD"
      },
      "outputs": [],
      "source": [
        "# %% Calculus 1 - Section 13.145\n",
        "#    Code challenge: 2D gradient descent - I\n",
        "\n",
        "# This code pertains to a calculus course provided by Mike X. Cohen on Udemy:\n",
        "#   > https://www.udemy.com/course/pycalc1_x\n",
        "# The code in this repository is developed to solve the exercises provided along\n",
        "# the course, and it has been written partially indepentently and partially\n",
        "# from the code developed by the course instructor.\n"
      ]
    },
    {
      "cell_type": "code",
      "execution_count": 1,
      "metadata": {
        "id": "vd_wy4xAQC4E"
      },
      "outputs": [],
      "source": [
        "import numpy             as np\n",
        "import sympy             as sym\n",
        "import matplotlib.pyplot as plt\n",
        "import math\n",
        "\n",
        "from scipy.signal                     import find_peaks\n",
        "from IPython.display                  import display,Math\n",
        "from google.colab                     import files\n",
        "from matplotlib_inline.backend_inline import set_matplotlib_formats\n",
        "set_matplotlib_formats('svg')\n"
      ]
    },
    {
      "cell_type": "code",
      "execution_count": null,
      "metadata": {
        "colab": {
          "base_uri": "https://localhost:8080/",
          "height": 471
        },
        "id": "mzOom-ytmBU0",
        "outputId": "5a71ceed-f611-4ca5-a258-765792d5cc52"
      },
      "outputs": [],
      "source": [
        "# %% Exercise 1\n",
        "#    Implement the function shown in the video and plot\n",
        "\n",
        "# Function\n",
        "def peaks(x,y):\n",
        "\n",
        "    x,y = np.meshgrid(x,y)\n",
        "\n",
        "    z = 3*(1-x)**2 * np.exp(-(x**2) - (y+1)**2) \\\n",
        "        - 10*(x/5 - x**3 - y**5) * np.exp(-x**2 - y**2) \\\n",
        "        - 1/3*np.exp(-(x+1)**2 - y**2)\n",
        "\n",
        "    return z\n",
        "\n",
        "x = np.linspace(-3,3,201)\n",
        "y = np.linspace(-3,3,201)\n",
        "\n",
        "z = peaks(x,y)\n",
        "\n",
        "# Plot\n",
        "phi = (1 + np.sqrt(5)) / 2\n",
        "plt.figure(figsize=(5*phi,5))\n",
        "\n",
        "plt.axes(aspect='equal')\n",
        "plt.imshow(z,extent=[x[0],x[-1],y[0],y[-1]],vmin=-5,vmax=5,origin='lower',cmap='plasma')\n",
        "plt.colorbar()\n",
        "plt.title(f'A function with some minima and maxima')\n",
        "plt.xlabel('$x$')\n",
        "plt.ylabel('$y$')\n",
        "\n",
        "plt.savefig('fig31_codechallenge_145_exercise_1.png')\n",
        "plt.show()\n",
        "files.download('fig31_codechallenge_145_exercise_1.png')\n",
        "\n"
      ]
    },
    {
      "cell_type": "code",
      "execution_count": null,
      "metadata": {
        "colab": {
          "base_uri": "https://localhost:8080/",
          "height": 419
        },
        "id": "RHk5MLUbmf1Z",
        "outputId": "2cb00696-8fb8-4003-bcbe-cac6da43ac3a"
      },
      "outputs": [],
      "source": [
        "# %% Exercise 2\n",
        "#    Implement the function from exercise 1 in sympy, compute the partial\n",
        "#    derivarives, lambdify them, and plot everything\n",
        "\n",
        "# Function\n",
        "sx,sy = sym.symbols('sx,sy')\n",
        "sz    = 3*(1-sx)**2 * sym.exp(-(sx**2) - (sy+1)**2) \\\n",
        "        - 10*(sx/5 - sx**3 - sy**5) * sym.exp(-sx**2 - sy**2) \\\n",
        "        - 1/3*sym.exp(-(sx+1)**2 - sy**2)\n",
        "\n",
        "Z_lam   = sym.lambdify((sx,sy),sz,'numpy')\n",
        "dfx     = sym.diff(sz,sx)\n",
        "dfy     = sym.diff(sz,sy)\n",
        "dfx_lam = sym.lambdify((sx,sy),sym.diff(sz,sx),'numpy')\n",
        "dfy_lam = sym.lambdify((sx,sy),sym.diff(sz,sy),'numpy')\n",
        "\n",
        "# Grid\n",
        "n   = 100\n",
        "xx  = np.linspace(-3,3,n)\n",
        "X,Y = np.meshgrid(xx,xx)\n",
        "\n",
        "# Plot\n",
        "phi   = ( 1 + np.sqrt(5) ) / 2\n",
        "_,axs = plt.subplots(1,3,figsize=(1.5*5*phi,5))\n",
        "\n",
        "axs[0].set_aspect('equal')\n",
        "axs[0].imshow(Z_lam(X,Y),origin='lower',extent=[xx[0],xx[-1],xx[0],xx[-1]],cmap='plasma')\n",
        "axs[0].set_title('$f(x,y)$')\n",
        "\n",
        "axs[1].set_aspect('equal')\n",
        "axs[1].imshow(dfx_lam(X,Y),origin='lower',extent=[xx[0],xx[-1],xx[0],xx[-1]],cmap='plasma')\n",
        "axs[1].set_title('$f_x$')\n",
        "\n",
        "axs[2].set_aspect('equal')\n",
        "axs[2].imshow(dfy_lam(X,Y),origin='lower',extent=[xx[0],xx[-1],xx[0],xx[-1]],cmap='plasma')\n",
        "axs[2].set_title('$f_y$')\n",
        "\n",
        "plt.tight_layout()\n",
        "\n",
        "plt.savefig('fig32_codechallenge_145_exercise_2.png')\n",
        "plt.show()\n",
        "files.download('fig32_codechallenge_145_exercise_2.png')\n"
      ]
    }
  ],
  "metadata": {
    "colab": {
      "provenance": []
    },
    "kernelspec": {
      "display_name": "Python 3",
      "name": "python3"
    },
    "language_info": {
      "name": "python"
    }
  },
  "nbformat": 4,
  "nbformat_minor": 0
}
