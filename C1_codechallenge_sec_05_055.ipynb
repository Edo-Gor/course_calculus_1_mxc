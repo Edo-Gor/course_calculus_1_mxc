{
 "cells": [
  {
   "cell_type": "code",
   "execution_count": null,
   "metadata": {
    "id": "MY7bYYhrqdxU"
   },
   "outputs": [],
   "source": [
    "# %% Calculus 1 - Section 5.55\n",
    "#    Code challenge: confirm the trigonometric limits\n",
    "\n",
    "# This code pertains to a calculus course provided by Mike X. Cohen on Udemy:\n",
    "#   > https://www.udemy.com/course/pycalc1_x\n",
    "# The code in this repository is developed to solve the exercises provided along\n",
    "# the course, and it has been written partially indepentently and partially\n",
    "# from the code developed by the course instructor.\n"
   ]
  },
  {
   "cell_type": "code",
   "execution_count": null,
   "metadata": {
    "id": "WK8JMbyEq7bI"
   },
   "outputs": [],
   "source": [
    "import numpy             as np\n",
    "import sympy             as sym\n",
    "import matplotlib.pyplot as plt\n",
    "import math\n",
    "\n",
    "from IPython.display                  import display,Math\n",
    "from google.colab                     import files\n",
    "from matplotlib_inline.backend_inline import set_matplotlib_formats\n",
    "set_matplotlib_formats('svg')\n"
   ]
  },
  {
   "cell_type": "code",
   "execution_count": null,
   "metadata": {
    "colab": {
     "base_uri": "https://localhost:8080/",
     "height": 158
    },
    "executionInfo": {
     "elapsed": 63,
     "status": "ok",
     "timestamp": 1749484907382,
     "user": {
      "displayName": "Edoardo Gornetti",
      "userId": "05048424707797899325"
     },
     "user_tz": -120
    },
    "id": "SXjHrfYAZiXl",
    "outputId": "007fef54-bdaf-414d-a600-3a48eff93d64"
   },
   "outputs": [],
   "source": [
    "# %% Exercise 1\n",
    "#    Comfirm the trigonometric limits seen in he previous video, using sympy\n",
    "\n",
    "# Functions\n",
    "th = sym.symbols('theta')\n",
    "s  = sym.sin(th) / th\n",
    "c  = (sym.cos(th)-1) / th\n",
    "\n",
    "# Limits\n",
    "a = 0\n",
    "\n",
    "# Compute limits\n",
    "limit_s = sym.limit(s,th,a,'+-')\n",
    "limit_c = sym.limit(c,th,a,'+-')\n",
    "\n",
    "print( f'Limit as {th} approaches {a} = {sym.N(limit_s):.0f}' )\n",
    "print( f'Limit as {th} approaches {a} = {sym.N(limit_c)}')\n",
    "print()\n",
    "display(s)\n",
    "print()\n",
    "display(c)\n"
   ]
  }
 ],
 "metadata": {
  "colab": {
   "authorship_tag": "ABX9TyNKLeRLWcP2+0K1rxBsjuwa",
   "provenance": []
  },
  "kernelspec": {
   "display_name": "Python 3",
   "name": "python3"
  },
  "language_info": {
   "name": "python"
  }
 },
 "nbformat": 4,
 "nbformat_minor": 0
}
