{
  "cells": [
    {
      "cell_type": "code",
      "execution_count": null,
      "metadata": {
        "id": "xYfsQvXxPsoD"
      },
      "outputs": [],
      "source": [
        "# %% Calculus 1 - Section 13.140\n",
        "#    Code challenge: complete partial exercises\n",
        "\n",
        "# This code pertains to a calculus course provided by Mike X. Cohen on Udemy:\n",
        "#   > https://www.udemy.com/course/pycalc1_x\n",
        "# The code in this repository is developed to solve the exercises provided along\n",
        "# the course, and it has been written partially indepentently and partially\n",
        "# from the code developed by the course instructor.\n"
      ]
    },
    {
      "cell_type": "code",
      "execution_count": 1,
      "metadata": {
        "id": "vd_wy4xAQC4E"
      },
      "outputs": [],
      "source": [
        "import numpy             as np\n",
        "import sympy             as sym\n",
        "import matplotlib.pyplot as plt\n",
        "import math\n",
        "\n",
        "from scipy.signal                     import find_peaks\n",
        "from IPython.display                  import display,Math\n",
        "from google.colab                     import files\n",
        "from matplotlib_inline.backend_inline import set_matplotlib_formats\n",
        "set_matplotlib_formats('svg')\n"
      ]
    },
    {
      "cell_type": "code",
      "execution_count": null,
      "metadata": {
        "id": "85kLY5Mfc64n"
      },
      "outputs": [],
      "source": [
        "# %% Note\n",
        "#    This code is meant to generate exercises for multivariate partial\n",
        "#    differentiation, by creating (constrained) random multivariate functions\n"
      ]
    },
    {
      "cell_type": "code",
      "execution_count": null,
      "metadata": {
        "colab": {
          "base_uri": "https://localhost:8080/",
          "height": 89
        },
        "id": "aMSAblzqDkJf",
        "outputId": "5c4e76c5-1904-4e0d-fe4c-f5b86693e632"
      },
      "outputs": [],
      "source": [
        "# %% Exercise 1\n",
        "#    Create a random function by summing three terms using the following base\n",
        "#    functions: i) polynomial up to 5th order with a random integer coefficient\n",
        "#    between -5 and +5 excluding 0, ii) allow negative powers to create rational\n",
        "#    functions, iii) one transcendental function randomly sampled from {cos(x),\n",
        "#    sin(x), log(x), exp(x)}; one term must be an iteraction term of x and y\n",
        "\n",
        "x = sym.symbols('x')\n",
        "y = sym.symbols('y')\n",
        "\n",
        "coeffs_x = np.random.choice((np.arange(-5,6)[np.arange(-5,6)!=0]),2)\n",
        "coeffs_y = np.random.choice((np.arange(-5,6)[np.arange(-5,6)!=0]),2)\n",
        "\n",
        "funs_x = [ sym.sin(x),sym.cos(x),sym.log(x),sym.exp(x),coeffs_x[0]*x**coeffs_x[1] ]\n",
        "funs_y = [ sym.sin(y),sym.cos(y),sym.log(y),sym.exp(y),coeffs_y[0]*y**coeffs_y[1] ]\n",
        "\n",
        "fun_x  = np.random.choice(funs_x,2,replace=False)\n",
        "fun_y  = np.random.choice(funs_y,2,replace=False)\n",
        "fun_xy = np.random.choice(funs_x,1)[0].subs(x,x*y)\n",
        "\n",
        "Z = fun_x[0]*fun_y[0] + fun_x[1]*fun_y[1] + fun_xy\n",
        "\n",
        "print('Derive the following multivariate function :\\n')\n",
        "display(Math(f'f(x,y) = {sym.latex(Z)}'))\n"
      ]
    },
    {
      "cell_type": "code",
      "execution_count": null,
      "metadata": {
        "colab": {
          "base_uri": "https://localhost:8080/",
          "height": 109
        },
        "id": "cKobJTAxGpn9",
        "outputId": "be8d035d-dcd4-419a-d732-7116d9c30fdc"
      },
      "outputs": [],
      "source": [
        "# %% Exercise 1\n",
        "#    Continue ...\n",
        "\n",
        "dfx = sym.diff(Z,x)\n",
        "dfy = sym.diff(Z,y)\n",
        "\n",
        "display(Math(f'\\\\frac{{\\\\partial f}}{{\\\\partial x}} = {sym.latex(dfx)}'))\n",
        "print()\n",
        "display(Math(f'\\\\frac{{\\\\partial f}}{{\\\\partial y}} = {sym.latex(dfy)}'))\n"
      ]
    }
  ],
  "metadata": {
    "colab": {
      "provenance": []
    },
    "kernelspec": {
      "display_name": "Python 3",
      "name": "python3"
    },
    "language_info": {
      "name": "python"
    }
  },
  "nbformat": 4,
  "nbformat_minor": 0
}
