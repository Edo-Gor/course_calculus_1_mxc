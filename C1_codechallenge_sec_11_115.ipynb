{
  "cells": [
    {
      "cell_type": "code",
      "execution_count": null,
      "metadata": {
        "id": "xYfsQvXxPsoD"
      },
      "outputs": [],
      "source": [
        "# %% Calculus 1 - Section 11.115\n",
        "#    Code challenge: the second derivative test - I\n",
        "\n",
        "# This code pertains to a calculus course provided by Mike X. Cohen on Udemy:\n",
        "#   > https://www.udemy.com/course/pycalc1_x\n",
        "# The code in this repository is developed to solve the exercises provided along\n",
        "# the course, and it has been written partially indepentently and partially\n",
        "# from the code developed by the course instructor.\n"
      ]
    },
    {
      "cell_type": "code",
      "execution_count": 1,
      "metadata": {
        "id": "vd_wy4xAQC4E"
      },
      "outputs": [],
      "source": [
        "import numpy             as np\n",
        "import sympy             as sym\n",
        "import matplotlib.pyplot as plt\n",
        "import math\n",
        "\n",
        "from scipy.signal                     import find_peaks\n",
        "from IPython.display                  import display,Math\n",
        "from google.colab                     import files\n",
        "from matplotlib_inline.backend_inline import set_matplotlib_formats\n",
        "set_matplotlib_formats('svg')\n"
      ]
    },
    {
      "cell_type": "code",
      "execution_count": null,
      "metadata": {
        "colab": {
          "base_uri": "https://localhost:8080/",
          "height": 576
        },
        "id": "0j4gs_jT0k8N",
        "outputId": "2d4858c7-31a9-4807-93f9-e06940b04abf"
      },
      "outputs": [],
      "source": [
        "# %% Exercise 1\n",
        "#    Compute and plot the derivative of the function shown in the video with\n",
        "#    sympy (plot critical point too)\n",
        "\n",
        "# Function and derivatives\n",
        "x   = sym.symbols('x')\n",
        "f   = x**4 - 8*x**2\n",
        "df  = sym.diff(f,x)\n",
        "ddf  = sym.diff(f,x,2)\n",
        "\n",
        "display(Math(sym.latex(f)))\n",
        "display(Math(sym.latex(df)))\n",
        "display(Math(sym.latex(ddf)))\n",
        "\n",
        "criticals = sym.solve(df)\n",
        "display(Math(sym.latex(criticals[:])))\n",
        "criticals = np.array(criticals)\n",
        "\n",
        "f_lam   = sym.lambdify(x,f)\n",
        "df_lam  = sym.lambdify(x,df)\n",
        "ddf_lam = sym.lambdify(x,ddf)\n",
        "\n",
        "xx = np.linspace(-3,3,101)\n",
        "\n",
        "# Plot\n",
        "phi = (1 + np.sqrt(5)) / 2\n",
        "plt.figure(figsize=(5*phi,5))\n",
        "\n",
        "plt.plot(xx,f_lam(xx),label=\"f(x)\")\n",
        "plt.plot(xx,df_lam(xx),label=\"f'(x)\")\n",
        "plt.plot(xx,ddf_lam(xx),label=\"f''(x)\")\n",
        "plt.plot(criticals,df_lam(criticals),'o',label=\"f'=0\")\n",
        "plt.plot(criticals,ddf_lam(criticals),'d',label=\"f''(f'=0)\")\n",
        "\n",
        "plt.title(\"A function and its derivatives\")\n",
        "plt.xlabel(\"x\")\n",
        "plt.ylabel(\"y / y' / y'' \")\n",
        "plt.axvline(x=0,color='grey',linestyle=':',linewidth=0.8)\n",
        "plt.axhline(y=0,color='grey',linestyle=':',linewidth=0.8)\n",
        "plt.ylim(np.min([f_lam(xx).min(),df_lam(xx).min(),ddf_lam(xx).min()]),np.max([f_lam(xx).max(),df_lam(xx).max(),ddf_lam(xx).max()]))\n",
        "plt.xlim(xx.min(),xx.max())\n",
        "plt.legend()\n",
        "plt.tight_layout()\n",
        "\n",
        "plt.savefig('fig1_codechallenge_115_exercise_1.png')\n",
        "plt.show()\n",
        "files.download('fig1_codechallenge_115_exercise_1.png')\n"
      ]
    },
    {
      "cell_type": "code",
      "execution_count": null,
      "metadata": {
        "colab": {
          "base_uri": "https://localhost:8080/"
        },
        "id": "uk04yncRODQu",
        "outputId": "4fcb6aed-0fa3-4f61-febe-930ce6137414"
      },
      "outputs": [],
      "source": [
        "# %% Exercise 2\n",
        "#    Run the second derivative test on the function from exercise 1\n",
        "\n",
        "# Function and derivatives\n",
        "x   = sym.symbols('x')\n",
        "f   = x**4 - 8*x**2\n",
        "df  = sym.diff(f,x)\n",
        "ddf  = sym.diff(f,x,2)\n",
        "\n",
        "criticals = sym.solve(df)\n",
        "\n",
        "# Test\n",
        "for i,val in enumerate(criticals):\n",
        "\n",
        "    test = ddf.subs(x,val)\n",
        "    test = sym.sign(test)\n",
        "\n",
        "    if test > 0:\n",
        "        print(f\"f''(x) = {ddf.subs(x,val)}, so x = {val} is a local minimum\")\n",
        "    elif test < 0:\n",
        "        print(f\"f''(x) = {ddf.subs(x,val)}, so x = {val} is a local maximum\")\n",
        "    else:\n",
        "        print(f\"f''(x) = {ddf.subs(x,val)}, second deriative test is inconclusive\")\n"
      ]
    }
  ],
  "metadata": {
    "colab": {
      "provenance": []
    },
    "kernelspec": {
      "display_name": "Python 3",
      "name": "python3"
    },
    "language_info": {
      "name": "python"
    }
  },
  "nbformat": 4,
  "nbformat_minor": 0
}
