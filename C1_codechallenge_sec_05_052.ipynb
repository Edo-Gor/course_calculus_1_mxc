{
 "cells": [
  {
   "cell_type": "code",
   "execution_count": null,
   "metadata": {
    "id": "ra5TsRUIm1Q-"
   },
   "outputs": [],
   "source": [
    "# %% Calculus 1 - Section 5.52\n",
    "#    Code challenge: limits at discontinuities - I\n",
    "\n",
    "# This code pertains to a calculus course provided by Mike X. Cohen on Udemy:\n",
    "#   > https://www.udemy.com/course/pycalc1_x\n",
    "# The code in this repository is developed to solve the exercises provided along\n",
    "# the course, and it has been written partially indepentently and partially\n",
    "# from the code developed by the course instructor.\n"
   ]
  },
  {
   "cell_type": "code",
   "execution_count": null,
   "metadata": {
    "id": "eNYswwDqq5_o"
   },
   "outputs": [],
   "source": [
    "import numpy             as np\n",
    "import sympy             as sym\n",
    "import matplotlib.pyplot as plt\n",
    "import math\n",
    "\n",
    "from IPython.display                  import display,Math\n",
    "from google.colab                     import files\n",
    "from matplotlib_inline.backend_inline import set_matplotlib_formats\n",
    "set_matplotlib_formats('svg')\n"
   ]
  },
  {
   "cell_type": "code",
   "execution_count": null,
   "metadata": {
    "colab": {
     "base_uri": "https://localhost:8080/",
     "height": 471
    },
    "executionInfo": {
     "elapsed": 426,
     "status": "ok",
     "timestamp": 1749475328940,
     "user": {
      "displayName": "Edoardo Gornetti",
      "userId": "05048424707797899325"
     },
     "user_tz": -120
    },
    "id": "39jQ1llpq6yr",
    "outputId": "83280455-09a7-4c9f-a03d-87110f367279"
   },
   "outputs": [],
   "source": [
    "# %% Exercise 1\n",
    "#    Reproduce the plot shown in the video using numpy, with a domain (-1,2),\n",
    "#    set the 0 to be a small number, write a function, and compute the limits\n",
    "#    from both sides as x->0\n",
    "\n",
    "# Function\n",
    "zero = 10e-8\n",
    "\n",
    "def f(x):\n",
    "\n",
    "    x = np.array(x)\n",
    "    y = np.zeros(x.shape)\n",
    "\n",
    "    y[x<-zero] = np.sin(x[x<-zero]*np.pi)\n",
    "    y[x>zero]  = -(x[x>zero]-2)**2\n",
    "    y[np.abs(x)<zero] = 1.5\n",
    "\n",
    "    return y\n",
    "\n",
    "x = np.linspace(-1,2,1000)\n",
    "\n",
    "y1 = f(x[x<-zero])\n",
    "y2 = f(x[x>zero])\n",
    "y3 = f(x[np.abs(x)<zero])\n",
    "\n",
    "# Plotting\n",
    "phi = ( 1 + np.sqrt(5) ) / 2\n",
    "fig = plt.figure(figsize=(5*phi,5))\n",
    "\n",
    "plt.plot(x[x<-zero],y1,color='tab:blue')\n",
    "plt.plot(x[x>zero],y2,color='tab:blue')\n",
    "plt.plot(x[np.abs(x)<zero],y3,color='tab:blue')\n",
    "\n",
    "plt.scatter(x[x<-zero][-1],y1[-1],facecolors='white',edgecolors='tab:blue',s=40,linewidths=1.5,zorder=3)\n",
    "plt.scatter(x[x>zero][0],y2[0],facecolors='white',edgecolors='tab:blue',s=40,linewidths=1.5,zorder=3)\n",
    "plt.scatter(x[np.abs(x)<zero][0],y3[0],facecolors='white',edgecolors='tab:blue',s=40,linewidths=1.5,zorder=3)\n",
    "\n",
    "plt.title('A function with jump discontinuities')\n",
    "plt.xlabel('$x$')\n",
    "plt.ylabel('$f(x)$')\n",
    "plt.xlim(-1,2)\n",
    "plt.ylim(-4.5,2)\n",
    "plt.axvline(x=0,color='grey',linestyle=':',linewidth=0.8)\n",
    "plt.axhline(y=0,color='grey',linestyle=':',linewidth=0.8)\n",
    "plt.legend([\n",
    "    r\"$f(x) = \\sin(\\pi x),\\ if\\ x < 0$\",\n",
    "    r\"$f(x) = 1.5,\\ if\\ x = 0$\",\n",
    "    r\"$f(x) = -(x - 2)^2,\\ if\\ x > 0$\"])\n",
    "\n",
    "plt.savefig('fig7_codechallenge_52_exercise_1.png')\n",
    "plt.show()\n",
    "files.download('fig7_codechallenge_52_exercise_1.png')\n",
    "\n",
    "# Limits\n",
    "a     = 0.\n",
    "alpha = 0.6\n",
    "x0    = np.array([a-1,a+1])\n",
    "\n",
    "iter = 10\n",
    "\n",
    "x_vals     = np.zeros((iter,2))\n",
    "limit_vals = np.zeros((iter,2))\n",
    "\n",
    "for i in range(iter):\n",
    "\n",
    "    x_vals[i,:]     = x0\n",
    "    limit_vals[i,:] = f(x0)\n",
    "\n",
    "    x0 = x0 + alpha*(a-x0)\n",
    "\n",
    "print('Values of x approached from left and right:')\n",
    "print(x_vals)\n",
    "print('\\nLimit from left and right:')\n",
    "print(limit_vals)\n",
    "print(f'\\nFunction value at x = {a}')\n",
    "print(f(a))\n",
    "\n",
    "# Plotting\n",
    "phi = ( 1 + np.sqrt(5) ) / 2\n",
    "fig = plt.figure(figsize=(5*phi,5))\n",
    "\n",
    "n_points = len(limit_vals)\n",
    "alphas   = np.linspace(0.3,0.9,n_points)\n",
    "\n",
    "for i in range(n_points):\n",
    "    plt.plot(x_vals[i,0],limit_vals[i,0],'o',color='tab:orange',alpha=alphas[i],zorder=4)\n",
    "    plt.plot(x_vals[i,1],limit_vals[i,1],'o',color='tab:green',alpha=alphas[i],zorder=4)\n",
    "\n",
    "plt.plot(x[x<-zero],y1,color='tab:blue')\n",
    "plt.plot(x[x>zero],y2,color='tab:blue')\n",
    "plt.plot(x[np.abs(x)<zero],y3,color='tab:blue')\n",
    "plt.plot(x[np.abs(x)<zero],y3,'rx',linewidth=1.5,zorder=4)\n",
    "\n",
    "plt.scatter(x[x<-zero][-1],y1[-1],facecolors='white',edgecolors='tab:blue',s=40,linewidths=1.5,zorder=3)\n",
    "plt.scatter(x[x>zero][0],y2[0],facecolors='white',edgecolors='tab:blue',s=40,linewidths=1.5,zorder=3)\n",
    "plt.scatter(x[np.abs(x)<zero][0],y3[0],facecolors='white',edgecolors='tab:blue',s=40,linewidths=1.5,zorder=3)\n",
    "\n",
    "plt.title(f'Function value at f({0}) = {y3[0]:.1f}')\n",
    "plt.xlabel('$x$')\n",
    "plt.ylabel('$f(x)$')\n",
    "plt.legend(['Left path','Right path'])\n",
    "plt.xlim(-1,2)\n",
    "plt.ylim(-4.5,2)\n",
    "\n",
    "plt.savefig('fig8_codechallenge_52_exercise_1.png')\n",
    "plt.show()\n",
    "files.download('fig8_codechallenge_52_exercise_1.png')\n"
   ]
  },
  {
   "cell_type": "code",
   "execution_count": null,
   "metadata": {
    "colab": {
     "base_uri": "https://localhost:8080/"
    },
    "executionInfo": {
     "elapsed": 9,
     "status": "ok",
     "timestamp": 1749475670484,
     "user": {
      "displayName": "Edoardo Gornetti",
      "userId": "05048424707797899325"
     },
     "user_tz": -120
    },
    "id": "QbuyXDuv3T3I",
    "outputId": "245865a5-3801-48c3-bee3-2c7cd20b5e90"
   },
   "outputs": [],
   "source": [
    "# %% Alternative limits\n",
    "\n",
    "# If you change the log scale depending on the tolerance level (zero) you will\n",
    "# get 1.5 as anwer (which is wrong); a reminder that math in your mind is\n",
    "# different from math on your computer\n",
    "x_left  = -np.logspace( np.log10(.1),np.log10(.000000002),10 )\n",
    "x_right =  np.logspace( np.log10(.000000002),np.log10(.1),10 )\n",
    "\n",
    "limit_left =  f(x_left)\n",
    "limit_right = f(x_right)\n",
    "\n",
    "print('Values of x approached from left and right:')\n",
    "print(x_left[-1])\n",
    "print(x_right[0])\n",
    "print('\\nLimit from left and right:')\n",
    "print(limit_left[-1])\n",
    "print(limit_right[0])\n"
   ]
  }
 ],
 "metadata": {
  "colab": {
   "authorship_tag": "ABX9TyPTwEOHUurNd92r+47hpgrA",
   "provenance": []
  },
  "kernelspec": {
   "display_name": "Python 3",
   "name": "python3"
  },
  "language_info": {
   "name": "python"
  }
 },
 "nbformat": 4,
 "nbformat_minor": 0
}
