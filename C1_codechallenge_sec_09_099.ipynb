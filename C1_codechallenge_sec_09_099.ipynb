{
  "cells": [
    {
      "cell_type": "code",
      "execution_count": null,
      "metadata": {
        "id": "xYfsQvXxPsoD"
      },
      "outputs": [],
      "source": [
        "# %% Calculus 1 - Section 9.99\n",
        "#    Code challenge: derivative of c^x and x^x\n",
        "\n",
        "# This code pertains to a calculus course provided by Mike X. Cohen on Udemy:\n",
        "#   > https://www.udemy.com/course/pycalc1_x\n",
        "# The code in this repository is developed to solve the exercises provided along\n",
        "# the course, and it has been written partially indepentently and partially\n",
        "# from the code developed by the course instructor.\n"
      ]
    },
    {
      "cell_type": "code",
      "execution_count": 1,
      "metadata": {
        "id": "vd_wy4xAQC4E"
      },
      "outputs": [],
      "source": [
        "import numpy             as np\n",
        "import sympy             as sym\n",
        "import matplotlib.pyplot as plt\n",
        "import math\n",
        "\n",
        "from scipy.signal                     import find_peaks\n",
        "from IPython.display                  import display,Math\n",
        "from google.colab                     import files\n",
        "from matplotlib_inline.backend_inline import set_matplotlib_formats\n",
        "set_matplotlib_formats('svg')\n"
      ]
    },
    {
      "cell_type": "code",
      "execution_count": null,
      "metadata": {
        "colab": {
          "base_uri": "https://localhost:8080/",
          "height": 530
        },
        "id": "ROuweEZkwqhG",
        "outputId": "5455fbd3-41b0-4d55-e7aa-f2f34f66b790"
      },
      "outputs": [],
      "source": [
        "# %% Exercise 1\n",
        "#    Differentiation of c^x; do it by hand, confirm in sympy, and plot both the\n",
        "#    function and the derivative\n",
        "\n",
        "# Function and derivative\n",
        "x = sym.symbols('x')\n",
        "\n",
        "f = 2**x\n",
        "display(f)\n",
        "\n",
        "df = sym.diff(f,x)\n",
        "display(df)\n",
        "\n",
        "# Lambdify and plot\n",
        "f_lamb  = sym.lambdify(x,f)\n",
        "df_lamb = sym.lambdify(x,df)\n",
        "\n",
        "x_vals  = np.linspace(-2.5,2.5,400)\n",
        "y_vals  = f_lamb(x_vals)\n",
        "dy_vals = df_lamb(x_vals)\n",
        "\n",
        "# Plot\n",
        "phi = (1 + np.sqrt(5)) / 2\n",
        "plt.figure(figsize=(5*phi,5))\n",
        "\n",
        "plt.plot(x_vals,y_vals,label=r\"$f(x) = 2^x$\",color=\"tab:orange\")\n",
        "plt.plot(x_vals,dy_vals,label=r\"$f'(x) = 2^x \\ln(2)$\",color=\"tab:green\")\n",
        "plt.plot(x_vals,np.exp(x_vals),\":\",label=r\"$f(x) = e^x$\",color=\"tab:red\")\n",
        "\n",
        "# Axes and styling\n",
        "plt.axhline(0,color=\"grey\",linestyle=\":\",linewidth=0.8)\n",
        "plt.axvline(0,color=\"grey\",linestyle=\":\",linewidth=0.8)\n",
        "plt.title(\"Exponential function and its derivative\")\n",
        "plt.xlabel(\"x\")\n",
        "plt.ylabel(\"f(x) or f'(x)\")\n",
        "plt.ylim((min(y_vals.min(),dy_vals.min())),(max(y_vals.min(),dy_vals.max())))\n",
        "plt.xlim(x_vals.min(),x_vals.max())\n",
        "plt.legend()\n",
        "plt.tight_layout()\n",
        "\n",
        "plt.savefig('fig5_codechallenge_99_exercise_1.png')\n",
        "plt.show()\n",
        "files.download('fig5_codechallenge_99_exercise_1.png')\n"
      ]
    },
    {
      "cell_type": "code",
      "execution_count": null,
      "metadata": {
        "colab": {
          "base_uri": "https://localhost:8080/",
          "height": 533
        },
        "id": "43uh_OQMLNTK",
        "outputId": "d589e99d-c376-4672-f2f5-4a86d5de105d"
      },
      "outputs": [],
      "source": [
        "# %% Exercise 2\n",
        "#    Differentiation of x^x; do it by hand, confirm in sympy, and plot both the\n",
        "#    function and the derivative\n",
        "\n",
        "# Function and derivative\n",
        "x = sym.symbols('x')\n",
        "\n",
        "f = x**x\n",
        "display(f)\n",
        "\n",
        "df = sym.diff(f,x)\n",
        "display(df)\n",
        "\n",
        "# Lambdify and plot\n",
        "f_lamb  = sym.lambdify(x,f)\n",
        "df_lamb = sym.lambdify(x,df)\n",
        "\n",
        "x_vals  = np.linspace(0.0001,2.5,400)\n",
        "y_vals  = f_lamb(x_vals)\n",
        "dy_vals = df_lamb(x_vals)\n",
        "\n",
        "# Plot\n",
        "phi = (1 + np.sqrt(5)) / 2\n",
        "plt.figure(figsize=(5*phi,5))\n",
        "\n",
        "plt.plot(x_vals,y_vals,label=r\"$f(x) = x^x$\",color=\"tab:orange\")\n",
        "plt.plot(x_vals,dy_vals,label=r\"$f'(x) = x^x (\\ln(2)+1)$\",color=\"tab:green\")\n",
        "plt.plot(np.linspace(-0.5,2.5,400),np.exp(np.linspace(-0.5,2.5,400)),\":\",label=r\"$f(x) = e^x$\",color=\"tab:red\")\n",
        "\n",
        "# Axes and styling\n",
        "plt.axhline(0,color=\"grey\",linestyle=\":\",linewidth=0.8)\n",
        "plt.axvline(0,color=\"grey\",linestyle=\":\",linewidth=0.8)\n",
        "plt.title(\"Exponential function and its derivative\")\n",
        "plt.xlabel(\"x\")\n",
        "plt.ylabel(\"f(x) or f'(x)\")\n",
        "plt.ylim((min(y_vals.min(),dy_vals.min())),(max(y_vals.min(),dy_vals.max())))\n",
        "plt.xlim(-0.5,x_vals.max())\n",
        "plt.legend()\n",
        "plt.tight_layout()\n",
        "\n",
        "plt.savefig('fig6_codechallenge_99_exercise_2.png')\n",
        "plt.show()\n",
        "files.download('fig6_codechallenge_99_exercise_2.png')\n"
      ]
    }
  ],
  "metadata": {
    "colab": {
      "provenance": []
    },
    "kernelspec": {
      "display_name": "Python 3",
      "name": "python3"
    },
    "language_info": {
      "name": "python"
    }
  },
  "nbformat": 4,
  "nbformat_minor": 0
}
