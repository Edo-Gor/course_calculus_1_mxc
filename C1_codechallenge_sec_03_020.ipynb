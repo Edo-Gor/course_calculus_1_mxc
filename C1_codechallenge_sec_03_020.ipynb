{
 "cells": [
  {
   "cell_type": "code",
   "execution_count": null,
   "metadata": {
    "id": "M34GicZ66od0"
   },
   "outputs": [],
   "source": [
    "# %% Calculus 1 - Section 3.20\n",
    "#    Code challenge: exponential and logarithm - II\n",
    "\n",
    "# This code pertains to a calculus course provided by Mike X. Cohen on Udemy:\n",
    "#   > https://www.udemy.com/course/pycalc1_x\n",
    "# The code in this repository is developed to solve the exercises provided along\n",
    "# the course, and it has been written partially indepentently and partially\n",
    "# from the code developed by the course instructor.\n"
   ]
  },
  {
   "cell_type": "code",
   "execution_count": null,
   "metadata": {
    "id": "6w22w83N6549"
   },
   "outputs": [],
   "source": [
    "import numpy             as np\n",
    "import sympy             as sym\n",
    "import matplotlib.pyplot as plt\n",
    "import math\n",
    "\n",
    "from IPython.display                  import display\n",
    "from google.colab                     import files\n",
    "from matplotlib_inline.backend_inline import set_matplotlib_formats\n",
    "set_matplotlib_formats('svg')\n"
   ]
  },
  {
   "cell_type": "code",
   "execution_count": null,
   "metadata": {
    "colab": {
     "base_uri": "https://localhost:8080/",
     "height": 442
    },
    "executionInfo": {
     "elapsed": 406,
     "status": "ok",
     "timestamp": 1747068002385,
     "user": {
      "displayName": "Edoardo Gornetti",
      "userId": "05048424707797899325"
     },
     "user_tz": -120
    },
    "id": "yWUlVYemRMYo",
    "outputId": "ccd78c85-bc72-4231-f7a2-003e5ef4f850"
   },
   "outputs": [],
   "source": [
    "# %% Exercise 4\n",
    "#    Explore e in numpy, and reproduce the plot in the video\n",
    "\n",
    "beta = sym.var('beta')\n",
    "y    = sym.exp(beta) - sym.log(beta) - np.exp(1)\n",
    "\n",
    "# Plotting\n",
    "p = sym.plot(y,(beta,0.001,2),title=f'$f(\\\\beta){sym.latex(y)}$',ylabel='$f(\\\\beta)$',xlabel='$\\\\beta$',show=False)\n",
    "p.save('fig12_codechallenge_19_exercise_4.png')\n",
    "files.download('fig12_codechallenge_19_exercise_4.png')\n",
    "\n",
    "display(y)\n"
   ]
  },
  {
   "cell_type": "code",
   "execution_count": null,
   "metadata": {
    "colab": {
     "base_uri": "https://localhost:8080/",
     "height": 693
    },
    "executionInfo": {
     "elapsed": 521,
     "status": "ok",
     "timestamp": 1747069357915,
     "user": {
      "displayName": "Edoardo Gornetti",
      "userId": "05048424707797899325"
     },
     "user_tz": -120
    },
    "id": "rCFhIY52RZcj",
    "outputId": "c14839b4-2733-49b0-f20a-8c88cf82e9f7"
   },
   "outputs": [],
   "source": [
    "# %% Exercise 5\n",
    "#    Empirically show that the natural exponent and logarithm are inverse by\n",
    "#    reproducing the plot in the video\n",
    "\n",
    "# Functions\n",
    "x  = np.linspace(-4,4,300)\n",
    "\n",
    "y1 = np.exp(x)\n",
    "y2 = np.log(x[x>0])\n",
    "y3 = np.log(np.exp(x))\n",
    "y4 = np.exp(np.log(x[x>0]))\n",
    "\n",
    "# Plotting\n",
    "fig = plt.figure(figsize=(10,8))\n",
    "\n",
    "plt.plot(x,y1)\n",
    "plt.plot(x[x>0],y2)\n",
    "plt.plot(x,y3)\n",
    "plt.plot(x[x>0][::5],y4[::5],'.')\n",
    "\n",
    "plt.title(\"Natural exponent and log are inverse in their respective domains\")\n",
    "plt.xlabel('$x$')\n",
    "plt.ylabel('$f(x)$')\n",
    "plt.grid(True)\n",
    "plt.legend(['$y=e^x$','$y=\\\\log(x)$','$y=\\\\log(e^x)$','$y=e^{\\log x}$'])\n",
    "plt.xlim(-4,4)\n",
    "plt.ylim(-4,4)\n",
    "\n",
    "plt.savefig('fig13_codechallenge_20_exercise_5.png')\n",
    "plt.show()\n",
    "files.download('fig13_codechallenge_20_exercise_5.png')\n"
   ]
  }
 ],
 "metadata": {
  "colab": {
   "authorship_tag": "ABX9TyPFMN76HFjnXr9u2ITflf9M",
   "provenance": []
  },
  "kernelspec": {
   "display_name": "Python 3",
   "name": "python3"
  },
  "language_info": {
   "name": "python"
  }
 },
 "nbformat": 4,
 "nbformat_minor": 0
}
