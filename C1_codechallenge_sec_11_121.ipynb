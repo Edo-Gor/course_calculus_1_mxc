{
  "cells": [
    {
      "cell_type": "code",
      "execution_count": null,
      "metadata": {
        "id": "xYfsQvXxPsoD"
      },
      "outputs": [],
      "source": [
        "# %% Calculus 1 - Section 11.121\n",
        "#    Code challenge: Newton's roots - I\n",
        "\n",
        "# This code pertains to a calculus course provided by Mike X. Cohen on Udemy:\n",
        "#   > https://www.udemy.com/course/pycalc1_x\n",
        "# The code in this repository is developed to solve the exercises provided along\n",
        "# the course, and it has been written partially indepentently and partially\n",
        "# from the code developed by the course instructor.\n"
      ]
    },
    {
      "cell_type": "code",
      "execution_count": 1,
      "metadata": {
        "id": "vd_wy4xAQC4E"
      },
      "outputs": [],
      "source": [
        "import numpy             as np\n",
        "import sympy             as sym\n",
        "import matplotlib.pyplot as plt\n",
        "import math\n",
        "\n",
        "from scipy.signal                     import find_peaks\n",
        "from IPython.display                  import display,Math\n",
        "from google.colab                     import files\n",
        "from matplotlib_inline.backend_inline import set_matplotlib_formats\n",
        "set_matplotlib_formats('svg')\n"
      ]
    },
    {
      "cell_type": "code",
      "execution_count": null,
      "metadata": {
        "colab": {
          "base_uri": "https://localhost:8080/",
          "height": 85
        },
        "id": "HuoctK4pWw1I",
        "outputId": "6b26e96b-de4f-4246-ee23-17141db5d3ba"
      },
      "outputs": [],
      "source": [
        "# %% Exercise 1\n",
        "#    Find the real-valued root of the equation shown in the video\n",
        "\n",
        "x = sym.symbols('x',real=True)\n",
        "f = 2*x**3 - 3\n",
        "\n",
        "display(Math(sym.latex(sym.solve(f,x))))\n",
        "print(sym.N(sym.solve(f,x)[0]))\n"
      ]
    },
    {
      "cell_type": "code",
      "execution_count": null,
      "metadata": {
        "colab": {
          "base_uri": "https://localhost:8080/"
        },
        "id": "rtnxioa2XxKk",
        "outputId": "f5d9c1cc-032a-4cef-e516-1029190a2885"
      },
      "outputs": [],
      "source": [
        "# %% Exercise 2\n",
        "#    Implement a function to implement one iteration of the Newton's method for\n",
        "#    finding roots\n",
        "\n",
        "start = 1\n",
        "f  = 2*x**3 - 3\n",
        "\n",
        "def newton_roots(f,start):\n",
        "    df = sym.diff(f)\n",
        "    approx = start - f.subs(x,start)/df.subs(x,start)\n",
        "    return approx\n",
        "\n",
        "# First iteration\n",
        "x1 = newton_roots(f,start)\n",
        "print(f'Estimate after one iteration: {x1}')\n",
        "\n",
        "# Second iteration\n",
        "x2 = newton_roots(f,x1)\n",
        "print(f'Estimate after two iteration: {x2}')\n"
      ]
    },
    {
      "cell_type": "code",
      "execution_count": null,
      "metadata": {
        "colab": {
          "base_uri": "https://localhost:8080/",
          "height": 488
        },
        "id": "3L0tyeNJanRP",
        "outputId": "6959074d-4db4-40df-9084-239c75a47616"
      },
      "outputs": [],
      "source": [
        "# %% Exercise 3\n",
        "#    Iterate over the function seven times and plot the approximation and the\n",
        "#    true root of the function; also plot the approximations over the function\n",
        "\n",
        "start  = 1\n",
        "iters  = 7\n",
        "approx = np.zeros(iters) + start\n",
        "\n",
        "for i in range(1,iters):\n",
        "    approx[i] = newton_roots(f,start)\n",
        "    start     = approx[i]\n",
        "\n",
        "# Plot\n",
        "xx    = np.linspace(-1,2,500)\n",
        "f_fun = sym.lambdify(x,f)\n",
        "\n",
        "phi = ( 1 + np.sqrt(5) ) / 2\n",
        "_,axs = plt.subplots(1,2,figsize=(1.5*5*phi,5))\n",
        "axs[0].plot(approx,'o-',alpha=0.75)\n",
        "axs[0].set_title(\"Newton's approximations\")\n",
        "axs[0].axhline(y=sym.N(sym.solve(f,x)[0]),color='tab:red',linestyle='--',linewidth=1,alpha=0.75)\n",
        "\n",
        "cmaps = plt.cm.plasma(np.linspace(.1,.9,len(approx)))\n",
        "axs[1].plot(xx,f_fun(xx),label=\"$f(x)$\")\n",
        "for i in range(len(approx)):\n",
        "    axs[1].plot(approx[i],f_fun(approx)[i],'o',color=cmaps[i],alpha=1)\n",
        "axs[1].axvline(x=sym.N(sym.solve(f,x)[0]),color='grey',linestyle=':',linewidth=0.8)\n",
        "axs[1].axhline(y=0,color='grey',linestyle=':',linewidth=0.8)\n",
        "axs[1].legend()\n",
        "axs[1].set_title(\"$f(x)$ and its roots' approximations\")\n",
        "\n",
        "plt.tight_layout()\n",
        "\n",
        "plt.savefig('fig9_codechallenge_121_exercise_3.png')\n",
        "plt.show()\n",
        "files.download('fig9_codechallenge_121_exercise_3.png')\n"
      ]
    }
  ],
  "metadata": {
    "colab": {
      "provenance": []
    },
    "kernelspec": {
      "display_name": "Python 3",
      "name": "python3"
    },
    "language_info": {
      "name": "python"
    }
  },
  "nbformat": 4,
  "nbformat_minor": 0
}
