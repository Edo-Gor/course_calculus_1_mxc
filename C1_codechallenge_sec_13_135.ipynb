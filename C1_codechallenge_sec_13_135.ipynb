{
  "cells": [
    {
      "cell_type": "code",
      "execution_count": null,
      "metadata": {
        "id": "xYfsQvXxPsoD"
      },
      "outputs": [],
      "source": [
        "# %% Calculus 1 - Section 13.135\n",
        "#    Code challenge: 2D functions in sympy\n",
        "\n",
        "# This code pertains to a calculus course provided by Mike X. Cohen on Udemy:\n",
        "#   > https://www.udemy.com/course/pycalc1_x\n",
        "# The code in this repository is developed to solve the exercises provided along\n",
        "# the course, and it has been written partially indepentently and partially\n",
        "# from the code developed by the course instructor.\n"
      ]
    },
    {
      "cell_type": "code",
      "execution_count": null,
      "metadata": {
        "colab": {
          "base_uri": "https://localhost:8080/"
        },
        "id": "3wVLP1Vt765A",
        "outputId": "4eaad38d-8675-4ee0-9658-deafd10ae04f"
      },
      "outputs": [],
      "source": [
        "pip install kaleido==0.2.1\n"
      ]
    },
    {
      "cell_type": "code",
      "execution_count": 18,
      "metadata": {
        "id": "vd_wy4xAQC4E"
      },
      "outputs": [],
      "source": [
        "import numpy                as np\n",
        "import sympy                as sym\n",
        "import matplotlib.pyplot    as plt\n",
        "import math\n",
        "import plotly.graph_objects as go\n",
        "\n",
        "from scipy.signal                     import find_peaks\n",
        "from IPython.display                  import display,Math\n",
        "from google.colab                     import files\n",
        "from matplotlib_inline.backend_inline import set_matplotlib_formats\n",
        "set_matplotlib_formats('svg')\n"
      ]
    },
    {
      "cell_type": "code",
      "execution_count": null,
      "metadata": {
        "colab": {
          "base_uri": "https://localhost:8080/",
          "height": 81
        },
        "id": "4BkssIOkO5Xt",
        "outputId": "aae1d735-24b6-435d-bd7d-269ae52ab11a"
      },
      "outputs": [],
      "source": [
        "# %% Exercise 1\n",
        "#    Implement the function shown in the video in sympy, then evaluate it at the\n",
        "#    indicated points\n",
        "\n",
        "x = sym.symbols('x')\n",
        "y = sym.symbols('y')\n",
        "\n",
        "F = x**2 + sym.sin(y)\n",
        "\n",
        "display(Math(sym.latex(F.subs(x,4))))\n",
        "display(Math(sym.latex(F.subs(y,sym.pi/2))))\n",
        "display(Math(sym.latex(F.subs({x:4,y:sym.pi/2}))))\n"
      ]
    },
    {
      "cell_type": "code",
      "execution_count": null,
      "metadata": {
        "colab": {
          "base_uri": "https://localhost:8080/",
          "height": 431
        },
        "id": "fjLyfhyk1h2D",
        "outputId": "5fcb09ac-5220-4a2d-b9f5-150923b037d3"
      },
      "outputs": [],
      "source": [
        "# %% Exercise 2\n",
        "#    Visualise the function above with sympy\n",
        "\n",
        "# Function\n",
        "x = sym.symbols('x')\n",
        "y = sym.symbols('y')\n",
        "F = x**2 + sym.sin(y)\n",
        "\n",
        "# Plot\n",
        "p = sym.plotting.plot3d(F,(x,-1.5,1.5),(y,-sym.pi,sym.pi),title='$f(x,y)=x^2+sin(y)$',show=False)\n",
        "p.save('fig10_codechallenge_135_exercise_2.png')\n",
        "files.download('fig10_codechallenge_135_exercise_2.png')\n"
      ]
    },
    {
      "cell_type": "code",
      "execution_count": null,
      "metadata": {
        "colab": {
          "base_uri": "https://localhost:8080/",
          "height": 429
        },
        "id": "-mET6XA55Qr4",
        "outputId": "129ebd7f-6ad6-435d-a92f-525a6322dabc"
      },
      "outputs": [],
      "source": [
        "# %% Exercise 3\n",
        "#    Visualise the function above with sympy\n",
        "\n",
        "# Function\n",
        "x = sym.symbols('x')\n",
        "y = sym.symbols('y')\n",
        "F = sym.sin(x + y**2)\n",
        "\n",
        "# Plot\n",
        "p = sym.plotting.plot3d(F,(x,-sym.pi,sym.pi),(y,-sym.pi,sym.pi),title='$f(x,y)=x^2+sin(y)$',show=False)\n",
        "p.save('fig11_codechallenge_135_exercise_3.png')\n",
        "files.download('fig11_codechallenge_135_exercise_3.png')\n"
      ]
    },
    {
      "cell_type": "code",
      "execution_count": null,
      "metadata": {
        "colab": {
          "base_uri": "https://localhost:8080/",
          "height": 517
        },
        "id": "DOaCT9Rq6Ri1",
        "outputId": "26ec01ca-2826-4931-ac3a-8fe151bf8a14"
      },
      "outputs": [],
      "source": [
        "# %% Exercise 3\n",
        "#    Continue ...\n",
        "\n",
        "# Lambdify\n",
        "xx    = np.linspace(-np.pi,np.pi,200)\n",
        "f_fun = sym.lambdify((x,y),F)\n",
        "X,Y   = np.meshgrid(xx,xx)\n",
        "Z     = f_fun(X,Y)\n",
        "\n",
        "# Plot\n",
        "# Plot\n",
        "phi = (1 + np.sqrt(5)) / 2\n",
        "fig = go.Figure(data=[go.Surface(x=xx,y=xx,z=Z)])\n",
        "fig.update_layout(title='$f(x,y)=\\\\sin(x+y^2)$',autosize=False,height=500)\n",
        "fig.update_layout(scene=dict(xaxis_title='x',yaxis_title='y',zaxis_title='f(x,y)'))\n",
        "\n",
        "fig.write_image('fig12_codechallenge_135_exercise_3.png')\n",
        "fig.show()\n",
        "files.download('fig12_codechallenge_135_exercise_3.png')\n"
      ]
    },
    {
      "cell_type": "code",
      "execution_count": null,
      "metadata": {
        "colab": {
          "base_uri": "https://localhost:8080/",
          "height": 498
        },
        "id": "eS9qwfvQ9Tyn",
        "outputId": "e0421357-33f5-4844-a667-df19c79adcc3"
      },
      "outputs": [],
      "source": [
        "# %% Exercise 4\n",
        "#    Implement the function shown in the video in sympy, then evaluate it at the\n",
        "#    indicated points Visualise the function above with sympy\n",
        "\n",
        "# Function (x, y, frequency, phase, width)\n",
        "x   = sym.symbols('x')\n",
        "y   = sym.symbols('y')\n",
        "f   = sym.symbols('f')\n",
        "ph  = sym.symbols('phi')\n",
        "sig = sym.symbols('sigma')\n",
        "\n",
        "U  = x*sym.cos(ph) + y*sym.sin(ph)\n",
        "F1 = sym.sin(2*sym.pi*f*U)\n",
        "F2 = sym.exp(-(x**2+y**2)/(2*sig**2))\n",
        "F  = F1*F2\n",
        "\n",
        "display(Math(sym.latex(F)))\n",
        "Z = F.subs({f:0.05,ph:sym.pi/4,sig:3*sym.pi})\n",
        "display(Math(sym.latex(Z)))\n",
        "\n",
        "# Plot\n",
        "p = sym.plotting.plot3d(Z,(x,-30,30),(y,-30,30),title=f'$f(x,y)= {sym.latex(F)}$',show=False)\n",
        "p.save('fig13_codechallenge_135_exercise_4.png')\n",
        "files.download('fig13_codechallenge_135_exercise_4.png')\n"
      ]
    }
  ],
  "metadata": {
    "colab": {
      "provenance": []
    },
    "kernelspec": {
      "display_name": "Python 3",
      "name": "python3"
    },
    "language_info": {
      "name": "python"
    }
  },
  "nbformat": 4,
  "nbformat_minor": 0
}
