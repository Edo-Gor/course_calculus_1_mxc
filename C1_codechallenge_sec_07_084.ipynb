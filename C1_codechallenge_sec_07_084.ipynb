{
 "cells": [
  {
   "cell_type": "code",
   "execution_count": null,
   "metadata": {
    "id": "xYfsQvXxPsoD"
   },
   "outputs": [],
   "source": [
    "# %% Calculus 1 - Section 7.84\n",
    "#    Code challenge: critical pointy in python - II\n",
    "\n",
    "# This code pertains to a calculus course provided by Mike X. Cohen on Udemy:\n",
    "#   > https://www.udemy.com/course/pycalc1_x\n",
    "# The code in this repository is developed to solve the exercises provided along\n",
    "# the course, and it has been written partially indepentently and partially\n",
    "# from the code developed by the course instructor.\n"
   ]
  },
  {
   "cell_type": "code",
   "execution_count": null,
   "metadata": {
    "id": "vd_wy4xAQC4E"
   },
   "outputs": [],
   "source": [
    "import numpy             as np\n",
    "import sympy             as sym\n",
    "import matplotlib.pyplot as plt\n",
    "import math\n",
    "\n",
    "from scipy.signal                     import find_peaks\n",
    "from IPython.display                  import display,Math\n",
    "from google.colab                     import files\n",
    "from matplotlib_inline.backend_inline import set_matplotlib_formats\n",
    "set_matplotlib_formats('svg')\n"
   ]
  },
  {
   "cell_type": "code",
   "execution_count": null,
   "metadata": {
    "colab": {
     "base_uri": "https://localhost:8080/",
     "height": 171
    },
    "executionInfo": {
     "elapsed": 10,
     "status": "ok",
     "timestamp": 1753121006415,
     "user": {
      "displayName": "Edoardo Gornetti",
      "userId": "05048424707797899325"
     },
     "user_tz": -120
    },
    "id": "OKiOog0q8oys",
    "outputId": "b40e80cb-d0ba-414a-ea6f-68efd268a826"
   },
   "outputs": [],
   "source": [
    "# %% Exercise 2\n",
    "#    In sympy, implement the function shown in the video and compute the\n",
    "#    analytical derivative\n",
    "\n",
    "# Function\n",
    "x = sym.symbols('x')\n",
    "y = x**3 + x**2\n",
    "display(Math(sym.latex(y)))\n",
    "\n",
    "# Derivative and critical points\n",
    "dy = sym.diff(y)\n",
    "display(Math(sym.latex(dy)))\n",
    "print()\n",
    "\n",
    "critical_points = sym.solve(sym.Eq(dy,0))\n",
    "display(Math(sym.latex(critical_points)))\n",
    "print()\n",
    "\n",
    "# Critical points/values\n",
    "for cp in critical_points:\n",
    "    print(f'Critical points/values: ({cp}, {dy.subs(x,cp)})')\n"
   ]
  },
  {
   "cell_type": "code",
   "execution_count": null,
   "metadata": {
    "colab": {
     "base_uri": "https://localhost:8080/",
     "height": 988
    },
    "executionInfo": {
     "elapsed": 982,
     "status": "ok",
     "timestamp": 1753121730286,
     "user": {
      "displayName": "Edoardo Gornetti",
      "userId": "05048424707797899325"
     },
     "user_tz": -120
    },
    "id": "b3nNJ6MHJ_N1",
    "outputId": "7dc7771c-dfdf-4378-aca7-02434c923314"
   },
   "outputs": [],
   "source": [
    "# %% Exercise 3\n",
    "#    In sympy, implement the piecewise function shown in the video and compute\n",
    "#    the analytical derivative (beware of the discontinuities)\n",
    "\n",
    "# Function\n",
    "b = 1\n",
    "x = sym.symbols('x')\n",
    "y = sym.Piecewise( (x**2,x<b),\n",
    "                   (-x**2/2,x>b) )\n",
    "display(Math(sym.latex(y)))\n",
    "print()\n",
    "\n",
    "# Plotting\n",
    "p = sym.plot(y,(x,-1,3),title='$Piecewise function$',ylabel='$f(x)$',xlabel='$x$',show=False)\n",
    "p.save('fig12_codechallenge_84_exercise_3.png')\n",
    "files.download('fig12_codechallenge_84_exercise_3.png')\n",
    "\n",
    "# Derivataive and critical points (from derivative and discontinuities)\n",
    "dy = sym.diff(y)\n",
    "display(Math(sym.latex(dy)))\n",
    "print()\n",
    "\n",
    "critical_points = sym.solve(sym.Eq(dy,0))\n",
    "\n",
    "limL = sym.limit(y,x,b,dir='-')\n",
    "limR = sym.limit(y,x,b,dir='+')\n",
    "test = y.subs(x,b)\n",
    "if limL!=limR:\n",
    "    critical_points.append(b)\n",
    "\n",
    "print('Critical points from derivative:')\n",
    "display(Math(sym.latex(critical_points)))\n",
    "\n",
    "# Plotting\n",
    "p = sym.plot(dy,(x,-1,3),title='$Piecewise function$',ylabel='$f(x)$',xlabel='$x$',show=False)\n",
    "p.save('fig13_codechallenge_84_exercise_3.png')\n",
    "files.download('fig13_codechallenge_84_exercise_3.png')\n"
   ]
  }
 ],
 "metadata": {
  "colab": {
   "authorship_tag": "ABX9TyPIaaRJbE4v95L86SWsCSXG",
   "provenance": []
  },
  "kernelspec": {
   "display_name": "Python 3",
   "name": "python3"
  },
  "language_info": {
   "name": "python"
  }
 },
 "nbformat": 4,
 "nbformat_minor": 0
}
