{
 "cells": [
  {
   "cell_type": "code",
   "execution_count": null,
   "metadata": {
    "id": "qOJ2xa-STzmE"
   },
   "outputs": [],
   "source": [
    "# %% Calculus 1 - Section 5.50\n",
    "#    Code challenge: properties of limits - II\n",
    "\n",
    "# This code pertains to a calculus course provided by Mike X. Cohen on Udemy:\n",
    "#   > https://www.udemy.com/course/pycalc1_x\n",
    "# The code in this repository is developed to solve the exercises provided along\n",
    "# the course, and it has been written partially indepentently and partially\n",
    "# from the code developed by the course instructor.\n"
   ]
  },
  {
   "cell_type": "code",
   "execution_count": null,
   "metadata": {
    "id": "F2WlWWrvT0ek"
   },
   "outputs": [],
   "source": [
    "import numpy             as np\n",
    "import sympy             as sym\n",
    "import matplotlib.pyplot as plt\n",
    "import math\n",
    "\n",
    "from IPython.display                  import display,Math\n",
    "from google.colab                     import files\n",
    "from matplotlib_inline.backend_inline import set_matplotlib_formats\n",
    "set_matplotlib_formats('svg')\n"
   ]
  },
  {
   "cell_type": "code",
   "execution_count": null,
   "metadata": {
    "colab": {
     "base_uri": "https://localhost:8080/"
    },
    "executionInfo": {
     "elapsed": 16,
     "status": "ok",
     "timestamp": 1749422725774,
     "user": {
      "displayName": "Edoardo Gornetti",
      "userId": "05048424707797899325"
     },
     "user_tz": -120
    },
    "id": "SLT8y1bXi1pe",
    "outputId": "0b759498-afae-41a0-e645-74d63cb38c95"
   },
   "outputs": [],
   "source": [
    "# %% Exercise 3\n",
    "#    Show that limits are multiplicative, use sympy to compute the limits shown\n",
    "#    in the video\n",
    "\n",
    "# Function\n",
    "x = sym.symbols('x')\n",
    "f = sym.log(x) + x**2\n",
    "g = sym.exp(-x) + x**3\n",
    "\n",
    "# Limits\n",
    "a = sym.pi\n",
    "\n",
    "# Compute limits\n",
    "limit_1 = sym.limit(f*g,x,a,'+-')\n",
    "limit_2 = sym.limit(f,x,a,'+-') * sym.limit(g,x,a,'+-')\n",
    "\n",
    "print( f'Limit as x approaches {a} (limit of prods) = {sym.N(limit_1)}' )\n",
    "print( f'Limit as x approaches {a} (prod of limits) = {sym.N(limit_2)}')\n",
    "print()\n",
    "\n",
    "# Note how it also works for powers\n",
    "limit_3 = sym.limit(f**3,x,a,'+-')\n",
    "limit_4 = sym.limit(f,x,a,'+-') * sym.limit(f,x,a,'+-') * sym.limit(f,x,a,'+-')\n",
    "\n",
    "print( f'Limit as x approaches {a} (limit of prods) = {sym.N(limit_3)}' )\n",
    "print( f'Limit as x approaches {a} (prod of limits) = {sym.N(limit_4)}')\n"
   ]
  },
  {
   "cell_type": "code",
   "execution_count": null,
   "metadata": {
    "colab": {
     "base_uri": "https://localhost:8080/"
    },
    "executionInfo": {
     "elapsed": 22,
     "status": "ok",
     "timestamp": 1749423039099,
     "user": {
      "displayName": "Edoardo Gornetti",
      "userId": "05048424707797899325"
     },
     "user_tz": -120
    },
    "id": "ATWa4Q2GkDFU",
    "outputId": "ea866ed8-f552-417b-895e-168f18c3710a"
   },
   "outputs": [],
   "source": [
    "# %% Exercise 4\n",
    "#    Show that limits are divisive, use sympy to compute the limits shown in\n",
    "#    the video\n",
    "\n",
    "# Function\n",
    "x = sym.symbols('x')\n",
    "f = sym.log(x) + x**2\n",
    "g = sym.exp(-x) + x**3\n",
    "h = x**3 + x**2 + x\n",
    "\n",
    "# Limits\n",
    "a = sym.pi\n",
    "b = 0\n",
    "\n",
    "# Compute limits\n",
    "limit_1 = sym.limit(f/g,x,a,'+-')\n",
    "limit_2 = sym.limit(f,x,a,'+-') / sym.limit(g,x,a,'+-')\n",
    "\n",
    "print( f'Limit as x approaches {a} (limit of divs) = {sym.N(limit_1)}' )\n",
    "print( f'Limit as x approaches {a} (div of limits) = {sym.N(limit_2)}')\n",
    "\n",
    "limit_3 = sym.limit(g/h,x,b,'+-')\n",
    "limit_4 = sym.limit(g,x,b,'+-') / sym.limit(h,x,b,'+-')\n",
    "\n",
    "print( f'Limit as x approaches {a} (limit of divs) = {sym.N(limit_3)}' )\n",
    "print( f'Limit as x approaches {a} (div of limits) = {sym.N(limit_4)}')\n"
   ]
  }
 ],
 "metadata": {
  "colab": {
   "authorship_tag": "ABX9TyOA5P9lxeAoez/b1rpPbG9V",
   "provenance": []
  },
  "kernelspec": {
   "display_name": "Python 3",
   "name": "python3"
  },
  "language_info": {
   "name": "python"
  }
 },
 "nbformat": 4,
 "nbformat_minor": 0
}
