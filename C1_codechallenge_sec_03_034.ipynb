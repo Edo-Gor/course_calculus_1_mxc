{
 "cells": [
  {
   "cell_type": "code",
   "execution_count": null,
   "metadata": {
    "id": "NrfH-pHtuMhS"
   },
   "outputs": [],
   "source": [
    "# %% Calculus 1 - Section 3.34\n",
    "#    Code challenge: composite and inverse - I\n",
    "\n",
    "# This code pertains to a calculus course provided by Mike X. Cohen on Udemy:\n",
    "#   > https://www.udemy.com/course/pycalc1_x\n",
    "# The code in this repository is developed to solve the exercises provided along\n",
    "# the course, and it has been written partially indepentently and partially\n",
    "# from the code developed by the course instructor.\n"
   ]
  },
  {
   "cell_type": "code",
   "execution_count": null,
   "metadata": {
    "id": "B2PAx8a0ueNG"
   },
   "outputs": [],
   "source": [
    "import numpy             as np\n",
    "import sympy             as sym\n",
    "import matplotlib.pyplot as plt\n",
    "import math\n",
    "\n",
    "from IPython.display                  import display,Math\n",
    "from google.colab                     import files\n",
    "from matplotlib_inline.backend_inline import set_matplotlib_formats\n",
    "set_matplotlib_formats('svg')\n"
   ]
  },
  {
   "cell_type": "code",
   "execution_count": null,
   "metadata": {
    "colab": {
     "base_uri": "https://localhost:8080/",
     "height": 471
    },
    "executionInfo": {
     "elapsed": 672,
     "status": "ok",
     "timestamp": 1747672834327,
     "user": {
      "displayName": "Edoardo Gornetti",
      "userId": "05048424707797899325"
     },
     "user_tz": -120
    },
    "id": "cZUvLQJRVz3H",
    "outputId": "d2af282b-0878-46f1-ed1e-7e971a8a5503"
   },
   "outputs": [],
   "source": [
    "# %% Exercise 1\n",
    "#    Reproduce the plot shown in the video with an (overall) domain (-5,5)\n",
    "\n",
    "x = np.linspace(-5,5,500)\n",
    "\n",
    "f = 2*x**2 - 4\n",
    "g = 7*np.abs(x) + 3\n",
    "\n",
    "fg = 2*(7*np.abs(x) + 3)**2 - 4\n",
    "gf = 7*np.abs(2*x**2 - 4) + 3\n",
    "\n",
    "# Plotting\n",
    "phi = ( 1 + np.sqrt(5) ) / 2\n",
    "fig = plt.figure(figsize=(5*phi,5))\n",
    "\n",
    "plt.plot(x,f)\n",
    "plt.plot(x,g)\n",
    "plt.plot(x,fg)\n",
    "plt.plot(x,gf)\n",
    "plt.axvline(x=0,color='grey',linestyle=':',linewidth=0.8)\n",
    "plt.axhline(y=0,color='grey',linestyle=':',linewidth=0.8)\n",
    "\n",
    "plt.title(\"Some functions and their composites\")\n",
    "plt.xlabel('$x$')\n",
    "plt.ylabel('$f(x)$')\n",
    "plt.legend(['$y=f(x)$','$y=g(x)$','$y=f(g(x))$','$y=g(f(x))$'])\n",
    "plt.xlim(-5,5)\n",
    "plt.ylim(-10,50)\n",
    "\n",
    "plt.savefig('fig29_codechallenge_34_exercise_1.png')\n",
    "plt.show()\n",
    "files.download('fig29_codechallenge_34_exercise_1.png')\n"
   ]
  },
  {
   "cell_type": "code",
   "execution_count": null,
   "metadata": {
    "colab": {
     "base_uri": "https://localhost:8080/",
     "height": 506
    },
    "executionInfo": {
     "elapsed": 474,
     "status": "ok",
     "timestamp": 1747673439593,
     "user": {
      "displayName": "Edoardo Gornetti",
      "userId": "05048424707797899325"
     },
     "user_tz": -120
    },
    "id": "iIDLI5V7Z5sS",
    "outputId": "339aba13-d7e8-4f8d-a2f5-88ccfc046622"
   },
   "outputs": [],
   "source": [
    "# %% Exercise 2\n",
    "#    Reproduce the plot shown in the video with an (overall) domain (-300,300)\n",
    "\n",
    "x = np.linspace(-300,300,10000)\n",
    "\n",
    "def f(x):\n",
    "    return np.sin(x)\n",
    "\n",
    "def g(x):\n",
    "    return np.log(x)\n",
    "\n",
    "def h(x):\n",
    "    return 2*x**2 + 5\n",
    "\n",
    "fgh = f(g(h(x)))\n",
    "\n",
    "# Plotting\n",
    "phi = ( 1 + np.sqrt(5) ) / 2\n",
    "fig = plt.figure(figsize=(5*phi,5))\n",
    "\n",
    "plt.plot(x,fgh)\n",
    "plt.axvline(x=0,color='grey',linestyle=':',linewidth=0.8)\n",
    "plt.axhline(y=0,color='grey',linestyle=':',linewidth=0.8)\n",
    "\n",
    "plt.title(\"A composite function\")\n",
    "plt.xlabel('$x$')\n",
    "plt.ylabel('$f(x)$')\n",
    "plt.legend(['$y=f(g(h(x)))$'])\n",
    "plt.xlim(-300,300)\n",
    "\n",
    "plt.savefig('fig30_codechallenge_34_exercise_2.png')\n",
    "plt.show()\n",
    "files.download('fig30_codechallenge_34_exercise_2.png')\n"
   ]
  },
  {
   "cell_type": "code",
   "execution_count": null,
   "metadata": {
    "colab": {
     "base_uri": "https://localhost:8080/",
     "height": 471
    },
    "executionInfo": {
     "elapsed": 446,
     "status": "ok",
     "timestamp": 1747673969184,
     "user": {
      "displayName": "Edoardo Gornetti",
      "userId": "05048424707797899325"
     },
     "user_tz": -120
    },
    "id": "UOczXxIEa28r",
    "outputId": "c7fb6616-43ce-4b95-b618-22127076fefd"
   },
   "outputs": [],
   "source": [
    "# %% Exercise 3\n",
    "#    Reproduce the plot shown in the video with an (overall) domain (0,5)\n",
    "\n",
    "x = np.linspace(0.0001,5,500)\n",
    "\n",
    "def f(x):\n",
    "    return np.log(2*x)\n",
    "\n",
    "def g(x):\n",
    "    return np.exp(x) / 2\n",
    "\n",
    "# Plotting\n",
    "phi = ( 1 + np.sqrt(5) ) / 2\n",
    "fig = plt.figure(figsize=(5*phi,5))\n",
    "\n",
    "plt.plot(x,f(x))\n",
    "plt.plot(x,g(x))\n",
    "plt.plot(x,f(g(x)))\n",
    "plt.plot(x[::10],g(f(x))[::10],'.')\n",
    "plt.axvline(x=0,color='grey',linestyle=':',linewidth=0.8)\n",
    "plt.axhline(y=0,color='grey',linestyle=':',linewidth=0.8)\n",
    "\n",
    "plt.title(\"Some functions and their composites\")\n",
    "plt.xlabel('$x$')\n",
    "plt.ylabel('$f(x)$')\n",
    "plt.legend(['$y=\\\\ln(2x)$','$y=e^x/2$','$y=\\ln(2e^x/2)$','$y=e^{\\\\ln(2x)}/2$'])\n",
    "plt.xlim(0,5)\n",
    "plt.ylim(-5,10)\n",
    "\n",
    "plt.savefig('fig32_codechallenge_34_exercise_3.png')\n",
    "plt.show()\n",
    "files.download('fig32_codechallenge_34_exercise_3.png')\n"
   ]
  }
 ],
 "metadata": {
  "colab": {
   "authorship_tag": "ABX9TyNFdCsXWfh44aYz7xEoAGJq",
   "provenance": []
  },
  "kernelspec": {
   "display_name": "Python 3",
   "name": "python3"
  },
  "language_info": {
   "name": "python"
  }
 },
 "nbformat": 4,
 "nbformat_minor": 0
}
