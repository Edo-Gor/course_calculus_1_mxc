{
 "cells": [
  {
   "cell_type": "code",
   "execution_count": null,
   "metadata": {
    "id": "xYfsQvXxPsoD"
   },
   "outputs": [],
   "source": [
    "# %% Calculus 1 - Section 7.75\n",
    "#    Code challenge: linearity of differentiation\n",
    "\n",
    "# This code pertains to a calculus course provided by Mike X. Cohen on Udemy:\n",
    "#   > https://www.udemy.com/course/pycalc1_x\n",
    "# The code in this repository is developed to solve the exercises provided along\n",
    "# the course, and it has been written partially indepentently and partially\n",
    "# from the code developed by the course instructor.\n"
   ]
  },
  {
   "cell_type": "code",
   "execution_count": null,
   "metadata": {
    "id": "vd_wy4xAQC4E"
   },
   "outputs": [],
   "source": [
    "import numpy             as np\n",
    "import sympy             as sym\n",
    "import matplotlib.pyplot as plt\n",
    "import math\n",
    "\n",
    "from IPython.display                  import display,Math\n",
    "from google.colab                     import files\n",
    "from matplotlib_inline.backend_inline import set_matplotlib_formats\n",
    "set_matplotlib_formats('svg')\n"
   ]
  },
  {
   "cell_type": "code",
   "execution_count": null,
   "metadata": {
    "id": "VHpyw-NQee1o"
   },
   "outputs": [],
   "source": [
    "# %% Note\n",
    "#    Differentiation is a linear operation, meaning that scalar multiples and\n",
    "#    sums can be separated. Here we won't prove here that that's the case, but\n",
    "#    we will show it through example\n"
   ]
  },
  {
   "cell_type": "code",
   "execution_count": null,
   "metadata": {
    "colab": {
     "base_uri": "https://localhost:8080/",
     "height": 161
    },
    "executionInfo": {
     "elapsed": 103,
     "status": "ok",
     "timestamp": 1752939431717,
     "user": {
      "displayName": "Edoardo Gornetti",
      "userId": "05048424707797899325"
     },
     "user_tz": -120
    },
    "id": "qFIW14rZeQaB",
    "outputId": "ddfeca64-62dd-47bd-eafa-920c97025940"
   },
   "outputs": [],
   "source": [
    "# %% Exercise 1\n",
    "#    Compute the derivative of summed terms for the function shown in the video,\n",
    "#    then differentiate the terms and sum them aftwerwards\n",
    "\n",
    "# Function\n",
    "x = sym.symbols('x')\n",
    "a = sym.symbols('a')\n",
    "b = sym.symbols('b')\n",
    "c = sym.symbols('c')\n",
    "\n",
    "y = a*x**2 + b*x**3 + c*sym.exp(2*x)\n",
    "\n",
    "# Derivatives\n",
    "dy  = sym.diff(y,x)\n",
    "dya = sym.diff(a*x**2,x)\n",
    "dyb = sym.diff(b*x**3,x)\n",
    "dyc = sym.diff(c*sym.exp(2*x),x)\n",
    "\n",
    "display(Math('\\\\text{Derivative of f(x) is }%s' %sym.latex(dy)))\n",
    "print()\n",
    "for piece in y.args:\n",
    "    display(Math('\\\\text{Derivative of }%s \\\\text{ is }%s' %(sym.latex(piece),sym.latex(sym.diff(piece,x)))))\n",
    "print()\n",
    "display(Math('\\\\text{Sum of derivatives is }%s' %sym.latex(dya + dyb + dyc)))\n"
   ]
  },
  {
   "cell_type": "code",
   "execution_count": null,
   "metadata": {
    "colab": {
     "base_uri": "https://localhost:8080/",
     "height": 78
    },
    "executionInfo": {
     "elapsed": 49,
     "status": "ok",
     "timestamp": 1752939593669,
     "user": {
      "displayName": "Edoardo Gornetti",
      "userId": "05048424707797899325"
     },
     "user_tz": -120
    },
    "id": "hxAo0Ai1GiBw",
    "outputId": "897b2507-db49-4231-e306-e39c7143364d"
   },
   "outputs": [],
   "source": [
    "# %% Exercise 2\n",
    "#    Compute the derivative of the scaled function shown in the video, then\n",
    "#    differentiate the function and scale it aftwerwards\n",
    "\n",
    "# Function\n",
    "x  = sym.symbols('x')\n",
    "a  = sym.symbols('a')\n",
    "\n",
    "y1 = a*x**2\n",
    "y2 = x**2\n",
    "\n",
    "# Derivatives\n",
    "dy1 = sym.diff(y1,x)\n",
    "dy2 = a * sym.diff(y2,x)\n",
    "\n",
    "display(Math('\\\\text{Derivative of f(ax) is }%s' %sym.latex(dy1)))\n",
    "print()\n",
    "display(Math('\\\\text{Derivative of af(x) is }%s' %sym.latex(dy2)))\n"
   ]
  },
  {
   "cell_type": "code",
   "execution_count": null,
   "metadata": {
    "colab": {
     "base_uri": "https://localhost:8080/",
     "height": 78
    },
    "executionInfo": {
     "elapsed": 49,
     "status": "ok",
     "timestamp": 1752940006277,
     "user": {
      "displayName": "Edoardo Gornetti",
      "userId": "05048424707797899325"
     },
     "user_tz": -120
    },
    "id": "7bDMoGE3V9q5",
    "outputId": "852faf32-59f9-4cfc-d68b-a48767a9b24c"
   },
   "outputs": [],
   "source": [
    "# %% Exercise 3\n",
    "#    Full linearity test, test that the derivative of the function shown in the\n",
    "#    video is the same as the scaled sum of the derivatives of the terms\n",
    "\n",
    "# Function\n",
    "x = sym.symbols('x')\n",
    "a = sym.symbols('a')\n",
    "b = sym.symbols('b')\n",
    "\n",
    "y = a*x**2 + b*sym.cos(x)\n",
    "\n",
    "# Derivatives\n",
    "full_dy = sym.diff(y,x)\n",
    "dy_a    = a * sym.diff(x**2,x)\n",
    "dy_b    = b * sym.diff(sym.cos(x),x)\n",
    "\n",
    "display(Math('\\\\text{Derivative of f(x) is }%s' %sym.latex(full_dy)))\n",
    "print()\n",
    "display(Math('\\\\text{Sum of the derivatives of the scaled terms of f(x) is }%s' %sym.latex(dy_a + dy_b)))\n"
   ]
  }
 ],
 "metadata": {
  "colab": {
   "authorship_tag": "ABX9TyMTTTKwthz+EbVucHEsyxmm",
   "provenance": []
  },
  "kernelspec": {
   "display_name": "Python 3",
   "name": "python3"
  },
  "language_info": {
   "name": "python"
  }
 },
 "nbformat": 4,
 "nbformat_minor": 0
}
