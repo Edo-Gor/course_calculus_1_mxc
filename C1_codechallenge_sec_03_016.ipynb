{
 "cells": [
  {
   "cell_type": "code",
   "execution_count": null,
   "metadata": {
    "id": "M34GicZ66od0"
   },
   "outputs": [],
   "source": [
    "# %% Calculus 1 - Section 3.16\n",
    "#    Code challenge: polynomials - II\n",
    "\n",
    "# This code pertains to a calculus course provided by Mike X. Cohen on Udemy:\n",
    "#   > https://www.udemy.com/course/pycalc1_x\n",
    "# The code in this repository is developed to solve the exercises provided along\n",
    "# the course, and it has been written partially indepentently and partially\n",
    "# from the code developed by the course instructor.\n"
   ]
  },
  {
   "cell_type": "code",
   "execution_count": null,
   "metadata": {
    "id": "6w22w83N6549"
   },
   "outputs": [],
   "source": [
    "import numpy as np\n",
    "import matplotlib.pyplot as plt\n",
    "import sympy as sym\n",
    "from math import factorial\n"
   ]
  },
  {
   "cell_type": "code",
   "execution_count": null,
   "metadata": {
    "colab": {
     "base_uri": "https://localhost:8080/",
     "height": 523
    },
    "executionInfo": {
     "elapsed": 1074,
     "status": "ok",
     "timestamp": 1717018187696,
     "user": {
      "displayName": "Edoardo Gornetti",
      "userId": "05048424707797899325"
     },
     "user_tz": -120
    },
    "id": "B3t-aV7H7Cu_",
    "outputId": "a753fd9f-d716-41fc-983c-b92f8b6e8df9"
   },
   "outputs": [],
   "source": [
    "# %% Exercise 3\n",
    "#    Estimate a sine wave via a polynomial (Maclaurin series); use a 10th-order polynomial and a domain of (-8,8)\n",
    "\n",
    "x = np.linspace(-12,12,1001)\n",
    "o = np.linspace(1,10,10)\n",
    "\n",
    "y     = np.zeros([len(x),len(o)])\n",
    "sum_y = np.zeros(len(x))\n",
    "\n",
    "for i,n in enumerate(o):\n",
    "    n = int(n)\n",
    "    y[:,i] = ((-1)**(n+1)) * ((x**(2*n-1)) / factorial(2*n-1))\n",
    "    sum_y += y[:,i]\n",
    "    plt.plot(x,y[:,i],linestyle='dashed')\n",
    "\n",
    "# Finalise plotting\n",
    "\n",
    "plt.plot(x,sum_y,label='sin(x) as Maclaurin series',linewidth=3)\n",
    "plt.plot(x[::20],np.sin(x[::20]),'ko',markerfacecolor='none',linewidth=3,label='sin(x)')\n",
    "\n",
    "plt.xlabel('$x$')\n",
    "plt.ylabel('$y=f(x)$')\n",
    "plt.title('Graph of: $\\\\sin(x) = \\\\sum_{n=1}^{\\\\infty} (-1)^{n+1} \\\\frac{x^{2n-1}}{(2n-1)!}$ \\n polynomial order = 10')\n",
    "plt.legend()\n",
    "\n",
    "ax = plt.gca()\n",
    "ax.set_xlim([x[0],x[-1]])\n",
    "ax.set_ylim([-5,5])\n",
    "\n",
    "plt.show()"
   ]
  }
 ],
 "metadata": {
  "colab": {
   "authorship_tag": "ABX9TyNv3ddFlNkZM/Fdiz00OWcn",
   "provenance": []
  },
  "kernelspec": {
   "display_name": "Python 3",
   "name": "python3"
  },
  "language_info": {
   "name": "python"
  }
 },
 "nbformat": 4,
 "nbformat_minor": 0
}
