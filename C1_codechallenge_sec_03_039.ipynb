{
 "cells": [
  {
   "cell_type": "code",
   "execution_count": null,
   "metadata": {
    "id": "NrfH-pHtuMhS"
   },
   "outputs": [],
   "source": [
    "# %% Calculus 1 - Section 3.39\n",
    "#    Code challenge: infinite funnctions to sketch - II\n",
    "\n",
    "# This code pertains to a calculus course provided by Mike X. Cohen on Udemy:\n",
    "#   > https://www.udemy.com/course/pycalc1_x\n",
    "# The code in this repository is developed to solve the exercises provided along\n",
    "# the course, and it has been written partially indepentently and partially\n",
    "# from the code developed by the course instructor.\n"
   ]
  },
  {
   "cell_type": "code",
   "execution_count": null,
   "metadata": {
    "id": "B2PAx8a0ueNG"
   },
   "outputs": [],
   "source": [
    "import numpy             as np\n",
    "import sympy             as sym\n",
    "import matplotlib.pyplot as plt\n",
    "import math\n",
    "\n",
    "from IPython.display                  import display,Math\n",
    "from google.colab                     import files\n",
    "from matplotlib_inline.backend_inline import set_matplotlib_formats\n",
    "set_matplotlib_formats('svg')\n"
   ]
  },
  {
   "cell_type": "code",
   "execution_count": null,
   "metadata": {
    "colab": {
     "base_uri": "https://localhost:8080/",
     "height": 506
    },
    "executionInfo": {
     "elapsed": 630,
     "status": "ok",
     "timestamp": 1747935537368,
     "user": {
      "displayName": "Edoardo Gornetti",
      "userId": "05048424707797899325"
     },
     "user_tz": -120
    },
    "id": "1zgJChNwwy6j",
    "outputId": "b2ad6268-5406-45ee-b46d-2913916fd863"
   },
   "outputs": [],
   "source": [
    "# %% Exercise 3\n",
    "#    Create a random piecewise function\n",
    "\n",
    "# Function\n",
    "x = np.linspace(-3,3,500)\n",
    "\n",
    "y1 = [ 'x', 'x**2', 'x**3' ]\n",
    "y2 = [ 'np.log', 'np.sqrt' ]\n",
    "\n",
    "idx = [ np.random.choice(len(y1)), np.random.choice(len(y2)) ]\n",
    "\n",
    "y      = eval( y1[idx[0]] )\n",
    "y[x>0] = eval( y2[idx[1]] + '(x[x>0])' )\n",
    "\n",
    "print(f'{y1[idx[0]]} \\n{y2[idx[1]]}(x)')\n",
    "\n",
    "# Plotting\n",
    "phi = ( 1 + np.sqrt(5) ) / 2\n",
    "fig = plt.figure(figsize=(5*phi,5))\n",
    "\n",
    "plt.plot(x[x<=0],y[x<=0])\n",
    "plt.plot(x[x>0],y[x>0])\n",
    "plt.axvline(x=0,color='grey',linestyle=':',linewidth=0.8)\n",
    "plt.axhline(y=0,color='grey',linestyle=':',linewidth=0.8)\n",
    "\n",
    "plt.title(\"A piecewise function\")\n",
    "plt.xlabel('$x$')\n",
    "plt.ylabel('$f(x)$')\n",
    "plt.legend([f'$y={y1[idx[0]]}$',f'$y={y2[idx[1]][3:]}(x)$'])\n",
    "plt.grid(True)\n",
    "\n",
    "plt.savefig('fig38_codechallenge_39_exercise_3.png')\n",
    "plt.show()\n",
    "files.download('fig38_codechallenge_39_exercise_3.png')\n"
   ]
  }
 ],
 "metadata": {
  "colab": {
   "authorship_tag": "ABX9TyN5ElehezeJN8sb9wXQvwkr",
   "provenance": []
  },
  "kernelspec": {
   "display_name": "Python 3",
   "name": "python3"
  },
  "language_info": {
   "name": "python"
  }
 },
 "nbformat": 4,
 "nbformat_minor": 0
}
