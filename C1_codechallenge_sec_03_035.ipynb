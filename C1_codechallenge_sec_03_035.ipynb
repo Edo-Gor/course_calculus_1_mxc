{
 "cells": [
  {
   "cell_type": "code",
   "execution_count": null,
   "metadata": {
    "id": "NrfH-pHtuMhS"
   },
   "outputs": [],
   "source": [
    "# %% Calculus 1 - Section 3.35\n",
    "#    Code challenge: composite and inverse - II\n",
    "\n",
    "# This code pertains to a calculus course provided by Mike X. Cohen on Udemy:\n",
    "#   > https://www.udemy.com/course/pycalc1_x\n",
    "# The code in this repository is developed to solve the exercises provided along\n",
    "# the course, and it has been written partially indepentently and partially\n",
    "# from the code developed by the course instructor.\n"
   ]
  },
  {
   "cell_type": "code",
   "execution_count": null,
   "metadata": {
    "id": "B2PAx8a0ueNG"
   },
   "outputs": [],
   "source": [
    "import numpy             as np\n",
    "import sympy             as sym\n",
    "import matplotlib.pyplot as plt\n",
    "import math\n",
    "\n",
    "from IPython.display                  import display,Math\n",
    "from google.colab                     import files\n",
    "from matplotlib_inline.backend_inline import set_matplotlib_formats\n",
    "set_matplotlib_formats('svg')\n"
   ]
  },
  {
   "cell_type": "code",
   "execution_count": null,
   "metadata": {
    "colab": {
     "base_uri": "https://localhost:8080/",
     "height": 438
    },
    "executionInfo": {
     "elapsed": 386,
     "status": "ok",
     "timestamp": 1747685947568,
     "user": {
      "displayName": "Edoardo Gornetti",
      "userId": "05048424707797899325"
     },
     "user_tz": -120
    },
    "id": "CDifdbfjWFjX",
    "outputId": "d9376a37-771a-4e2d-d04f-4a537a82b6b2"
   },
   "outputs": [],
   "source": [
    "# %% Exercise 4\n",
    "#    Reproduce the function from the previous exercise but with sympy\n",
    "\n",
    "# Function\n",
    "x = sym.symbols('x')\n",
    "f = sym.sin(x)\n",
    "g = sym.log(x)\n",
    "h = 2*x**2 + 5\n",
    "\n",
    "fgh = f.subs(x,g.subs(x,h))\n",
    "\n",
    "# Plotting\n",
    "p = sym.plot(fgh,(x,-100,100),title='A composite function',ylabel='$f(x)$',xlabel='$x$',show=False)\n",
    "p.save('fig33_codechallenge_35_exercise_4.png')\n",
    "files.download('fig33_codechallenge_35_exercise_4.png')\n",
    "\n",
    "display(fgh)\n"
   ]
  },
  {
   "cell_type": "code",
   "execution_count": null,
   "metadata": {
    "colab": {
     "base_uri": "https://localhost:8080/",
     "height": 58
    },
    "executionInfo": {
     "elapsed": 18,
     "status": "ok",
     "timestamp": 1747686723801,
     "user": {
      "displayName": "Edoardo Gornetti",
      "userId": "05048424707797899325"
     },
     "user_tz": -120
    },
    "id": "DQWN-_N8MM9w",
    "outputId": "a787ab40-802d-4863-cb92-c67d786c3911"
   },
   "outputs": [],
   "source": [
    "# %% Exercise 5\n",
    "#    Invert functions in sympy by solving for x and swapping x and y\n",
    "\n",
    "x = sym.symbols('x')\n",
    "y = sym.symbols('y')\n",
    "f = 2*x + 3\n",
    "g = 2*x + sym.sin(x)\n",
    "\n",
    "# Solve for x\n",
    "inv_f = sym.solve(y-f,x)[0]\n",
    "#inv_g doesn't exist\n",
    "\n",
    "# Check inverse\n",
    "display(inv_f.subs(y,f.subs(x,4)))\n",
    "display(f.subs(x,inv_f.subs(y,4)))\n"
   ]
  }
 ],
 "metadata": {
  "colab": {
   "authorship_tag": "ABX9TyP3EIspztq1STBFJ1j9OzWl",
   "provenance": []
  },
  "kernelspec": {
   "display_name": "Python 3",
   "name": "python3"
  },
  "language_info": {
   "name": "python"
  }
 },
 "nbformat": 4,
 "nbformat_minor": 0
}
