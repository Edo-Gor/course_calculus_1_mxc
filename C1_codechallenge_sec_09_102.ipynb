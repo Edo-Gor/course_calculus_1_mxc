{
  "cells": [
    {
      "cell_type": "code",
      "execution_count": null,
      "metadata": {
        "id": "xYfsQvXxPsoD"
      },
      "outputs": [],
      "source": [
        "# %% Calculus 1 - Section 9.102\n",
        "#    Code challenge: Dervivatives of derivatives - II\n",
        "\n",
        "# This code pertains to a calculus course provided by Mike X. Cohen on Udemy:\n",
        "#   > https://www.udemy.com/course/pycalc1_x\n",
        "# The code in this repository is developed to solve the exercises provided along\n",
        "# the course, and it has been written partially indepentently and partially\n",
        "# from the code developed by the course instructor.\n"
      ]
    },
    {
      "cell_type": "code",
      "execution_count": 1,
      "metadata": {
        "id": "vd_wy4xAQC4E"
      },
      "outputs": [],
      "source": [
        "import numpy             as np\n",
        "import sympy             as sym\n",
        "import matplotlib.pyplot as plt\n",
        "import math\n",
        "\n",
        "from scipy.signal                     import find_peaks\n",
        "from IPython.display                  import display,Math\n",
        "from google.colab                     import files\n",
        "from matplotlib_inline.backend_inline import set_matplotlib_formats\n",
        "set_matplotlib_formats('svg')\n"
      ]
    },
    {
      "cell_type": "code",
      "execution_count": null,
      "metadata": {
        "colab": {
          "base_uri": "https://localhost:8080/",
          "height": 460
        },
        "id": "8ou4FvMtjqjv",
        "outputId": "629894b4-868e-487a-93da-e8a717111e0d"
      },
      "outputs": [],
      "source": [
        "# %% Exercise 3\n",
        "#    Compute the third derivative of the function shown in the video using sympy\n",
        "\n",
        "# Function and derivative\n",
        "x = sym.symbols('x')\n",
        "\n",
        "f = 3*x**4 + sym.cos(x) + sym.exp(-x**2)\n",
        "print(\"The function:\")\n",
        "display(f)\n",
        "\n",
        "# Option 1\n",
        "print()\n",
        "df = sym.diff(f,x)\n",
        "print(\"\\nThe first derivative:\")\n",
        "display(df)\n",
        "\n",
        "ddf = sym.diff(df,x)\n",
        "print(\"\\nThe second derivative:\")\n",
        "display(ddf)\n",
        "\n",
        "dddf = sym.diff(ddf,x)\n",
        "print(\"\\nThe third derivative:\")\n",
        "display(dddf)\n",
        "\n",
        "# Option 2\n",
        "print()\n",
        "df = sym.diff(f,x,1)\n",
        "print(\"\\nThe first derivative:\")\n",
        "display(sym.simplify(df))\n",
        "\n",
        "ddf = sym.diff(f,x,2)\n",
        "print(\"\\nThe second derivative:\")\n",
        "display(sym.simplify(ddf))\n",
        "\n",
        "dddf = sym.diff(f,x,3)\n",
        "print(\"\\nThe third derivative:\")\n",
        "display(sym.simplify(dddf))\n"
      ]
    }
  ],
  "metadata": {
    "colab": {
      "provenance": []
    },
    "kernelspec": {
      "display_name": "Python 3",
      "name": "python3"
    },
    "language_info": {
      "name": "python"
    }
  },
  "nbformat": 4,
  "nbformat_minor": 0
}
