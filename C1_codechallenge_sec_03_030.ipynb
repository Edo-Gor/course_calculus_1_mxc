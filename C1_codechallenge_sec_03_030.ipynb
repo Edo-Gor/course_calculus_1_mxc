{
 "cells": [
  {
   "cell_type": "code",
   "execution_count": null,
   "metadata": {
    "id": "NrfH-pHtuMhS"
   },
   "outputs": [],
   "source": [
    "# %% Calculus 1 - Section 3.30\n",
    "#    Code challenge: discontinuities - II\n",
    "\n",
    "# This code pertains to a calculus course provided by Mike X. Cohen on Udemy:\n",
    "#   > https://www.udemy.com/course/pycalc1_x\n",
    "# The code in this repository is developed to solve the exercises provided along\n",
    "# the course, and it has been written partially indepentently and partially\n",
    "# from the code developed by the course instructor.\n"
   ]
  },
  {
   "cell_type": "code",
   "execution_count": null,
   "metadata": {
    "id": "B2PAx8a0ueNG"
   },
   "outputs": [],
   "source": [
    "import numpy             as np\n",
    "import sympy             as sym\n",
    "import matplotlib.pyplot as plt\n",
    "import math\n",
    "\n",
    "from IPython.display                  import display,Math\n",
    "from google.colab                     import files\n",
    "from matplotlib_inline.backend_inline import set_matplotlib_formats\n",
    "set_matplotlib_formats('svg')\n"
   ]
  },
  {
   "cell_type": "code",
   "execution_count": null,
   "metadata": {
    "colab": {
     "base_uri": "https://localhost:8080/",
     "height": 323
    },
    "executionInfo": {
     "elapsed": 322,
     "status": "ok",
     "timestamp": 1747435526791,
     "user": {
      "displayName": "Edoardo Gornetti",
      "userId": "05048424707797899325"
     },
     "user_tz": -120
    },
    "id": "7ZbNUYXODjUT",
    "outputId": "b4b5df38-0e94-4ab1-ea47-e9c1a40cad49"
   },
   "outputs": [],
   "source": [
    "# %% Exercise 4\n",
    "#    Reproduce the plot shown in the video with an (overall) domain (-2,2)\n",
    "\n",
    "# Function\n",
    "x = np.linspace(-2,2,400)\n",
    "y = 3 / (1-x**2)\n",
    "\n",
    "# Plotting\n",
    "fig = plt.figure(figsize=(6,3))\n",
    "\n",
    "plt.plot(x,y,'-')\n",
    "plt.axvline(x=-1,color='red',linestyle='-')\n",
    "plt.axvline(x= 1,color='red',linestyle='-')\n",
    "\n",
    "plt.title(\"A function with infinite discontinuities\")\n",
    "plt.xlabel('$x$')\n",
    "plt.ylabel('$f(x)$')\n",
    "plt.grid(True)\n",
    "plt.xlim(-2,2)\n",
    "plt.ylim(-20,20)\n",
    "\n",
    "plt.savefig('fig25_codechallenge_30_exercise_4.png')\n",
    "plt.show()\n",
    "files.download('fig25_codechallenge_30_exercise_4.png')\n"
   ]
  },
  {
   "cell_type": "code",
   "execution_count": null,
   "metadata": {
    "colab": {
     "base_uri": "https://localhost:8080/",
     "height": 58
    },
    "executionInfo": {
     "elapsed": 61,
     "status": "ok",
     "timestamp": 1747435769174,
     "user": {
      "displayName": "Edoardo Gornetti",
      "userId": "05048424707797899325"
     },
     "user_tz": -120
    },
    "id": "mEwEI7J9RnZm",
    "outputId": "fdb32c7f-ce73-4db2-e75f-395df059950f"
   },
   "outputs": [],
   "source": [
    "# %% Exercise 5\n",
    "#    Find discontinuities with sympy\n",
    "\n",
    "# Function\n",
    "x = sym.symbols('x')\n",
    "y = 3 / (1-x**2)\n",
    "\n",
    "# Find domains and singularities\n",
    "display( sym.calculus.util.continuous_domain(y,x,sym.Interval(-2,2)) )\n",
    "display( sym.calculus.util.singularities(y,x) )\n"
   ]
  },
  {
   "cell_type": "code",
   "execution_count": null,
   "metadata": {
    "colab": {
     "base_uri": "https://localhost:8080/",
     "height": 323
    },
    "executionInfo": {
     "elapsed": 367,
     "status": "ok",
     "timestamp": 1747436211447,
     "user": {
      "displayName": "Edoardo Gornetti",
      "userId": "05048424707797899325"
     },
     "user_tz": -120
    },
    "id": "AtPAR4nUSg-M",
    "outputId": "e664d62a-f00f-426a-d35f-864749f0c349"
   },
   "outputs": [],
   "source": [
    "# %% Exercise 6\n",
    "#    Reproduce the plot shown in the video with an (overall) domain (-1,2)\n",
    "\n",
    "# Function\n",
    "x = np.linspace(-1,2,1000)\n",
    "y = np.sin(1/(x-1))\n",
    "\n",
    "# Plotting\n",
    "fig = plt.figure(figsize=(16,3))\n",
    "\n",
    "plt.plot(x,y,'-')\n",
    "\n",
    "plt.title(\"A function with infinite discontinuities\")\n",
    "plt.xlabel('$x$')\n",
    "plt.ylabel('$f(x)$')\n",
    "plt.grid(True)\n",
    "plt.xlim(-1,2)\n",
    "plt.ylim(-1.2,1.2)\n",
    "\n",
    "plt.savefig('fig26_codechallenge_30_exercise_6.png')\n",
    "plt.show()\n",
    "files.download('fig26_codechallenge_30_exercise_6.png')\n"
   ]
  },
  {
   "cell_type": "code",
   "execution_count": null,
   "metadata": {
    "colab": {
     "base_uri": "https://localhost:8080/",
     "height": 456
    },
    "executionInfo": {
     "elapsed": 402,
     "status": "ok",
     "timestamp": 1747436128575,
     "user": {
      "displayName": "Edoardo Gornetti",
      "userId": "05048424707797899325"
     },
     "user_tz": -120
    },
    "id": "xF54hZZdSx_z",
    "outputId": "9187cce7-c59f-4611-8167-3fab98cde6aa"
   },
   "outputs": [],
   "source": [
    "# %% Exercise 7\n",
    "#    Reproduce the above function but with sympy\n",
    "\n",
    "# Function\n",
    "x = sym.symbols('x')\n",
    "y = sym.sin(1/(x-1))\n",
    "\n",
    "# Plotting\n",
    "p = sym.plot(y,(x,-1,2),title='A function with oscillating discontinuities',ylabel='$f(x)$',xlabel='$x$',show=False)\n",
    "p.save('fig28_codechallenge_30_exercise_7.png')\n",
    "files.download('fig28_codechallenge_30_exercise_7.png')\n",
    "\n",
    "display(y)\n"
   ]
  }
 ],
 "metadata": {
  "colab": {
   "authorship_tag": "ABX9TyOvwOeesWsktMIyVFYJUdpG",
   "provenance": []
  },
  "kernelspec": {
   "display_name": "Python 3",
   "name": "python3"
  },
  "language_info": {
   "name": "python"
  }
 },
 "nbformat": 4,
 "nbformat_minor": 0
}
