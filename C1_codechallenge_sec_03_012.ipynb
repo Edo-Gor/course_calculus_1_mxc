{
 "cells": [
  {
   "cell_type": "code",
   "execution_count": null,
   "metadata": {
    "id": "55giwar52QMK"
   },
   "outputs": [],
   "source": [
    "# %% Calculus 1 - Section 3.12\n",
    "#    Code challenge: math in Python - I\n",
    "\n",
    "# This code pertains to a calculus course provided by Mike X. Cohen on Udemy:\n",
    "#   > https://www.udemy.com/course/pycalc1_x\n",
    "# The code in this repository is developed to solve the exercises provided along\n",
    "# the course, and it has been written partially indepentently and partially\n",
    "# from the code developed by the course instructor.\n"
   ]
  },
  {
   "cell_type": "code",
   "execution_count": null,
   "metadata": {
    "id": "kEa8MdDa4P2K"
   },
   "outputs": [],
   "source": [
    "import numpy as np\n",
    "import matplotlib.pyplot as plt\n"
   ]
  },
  {
   "cell_type": "code",
   "execution_count": null,
   "metadata": {
    "colab": {
     "base_uri": "https://localhost:8080/",
     "height": 476
    },
    "executionInfo": {
     "elapsed": 755,
     "status": "ok",
     "timestamp": 1716148460500,
     "user": {
      "displayName": "Edoardo Gornetti",
      "userId": "05048424707797899325"
     },
     "user_tz": -120
    },
    "id": "tznf0qI93Ask",
    "outputId": "1176c931-0585-464d-c30e-3e94a78aa78a"
   },
   "outputs": [],
   "source": [
    "# %% Exercise 1\n",
    "#    Implement the function y = x^2 + 3x^3 - x^4 with numpy and make a plot (subdomain=(-2,2),legend in latex)\n",
    "\n",
    "x = np.linspace(-2,2,1001)\n",
    "y = x**2 + 3*x**3 - x**4\n",
    "\n",
    "# Plotting\n",
    "\n",
    "plt.plot(x,y,label='$y = x^2 + 3x^3 - x^4$')\n",
    "\n",
    "plt.legend()\n",
    "plt.grid()\n",
    "plt.xlim([x[0],x[-1]])\n",
    "plt.ylim([y[0],y[-1]])\n",
    "\n",
    "plt.xlabel('$x$')\n",
    "plt.ylabel('$y=f(x)$')\n",
    "plt.title('Graph of: $y = x^2 + 3x^3 - x^4$')\n",
    "\n",
    "plt.show()"
   ]
  }
 ],
 "metadata": {
  "colab": {
   "authorship_tag": "ABX9TyMt7h/5GOaOJGyuCkCxegRO",
   "provenance": []
  },
  "kernelspec": {
   "display_name": "Python 3",
   "name": "python3"
  },
  "language_info": {
   "name": "python"
  }
 },
 "nbformat": 4,
 "nbformat_minor": 0
}
