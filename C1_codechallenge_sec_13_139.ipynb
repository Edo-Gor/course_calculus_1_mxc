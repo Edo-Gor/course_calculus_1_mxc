{
  "cells": [
    {
      "cell_type": "code",
      "execution_count": null,
      "metadata": {
        "id": "xYfsQvXxPsoD"
      },
      "outputs": [],
      "source": [
        "# %% Calculus 1 - Section 13.139\n",
        "#    Code challenge: higher-order partial derivatives\n",
        "\n",
        "# This code pertains to a calculus course provided by Mike X. Cohen on Udemy:\n",
        "#   > https://www.udemy.com/course/pycalc1_x\n",
        "# The code in this repository is developed to solve the exercises provided along\n",
        "# the course, and it has been written partially indepentently and partially\n",
        "# from the code developed by the course instructor.\n"
      ]
    },
    {
      "cell_type": "code",
      "execution_count": 1,
      "metadata": {
        "id": "vd_wy4xAQC4E"
      },
      "outputs": [],
      "source": [
        "import numpy             as np\n",
        "import sympy             as sym\n",
        "import matplotlib.pyplot as plt\n",
        "import math\n",
        "\n",
        "from scipy.signal                     import find_peaks\n",
        "from IPython.display                  import display,Math\n",
        "from google.colab                     import files\n",
        "from matplotlib_inline.backend_inline import set_matplotlib_formats\n",
        "set_matplotlib_formats('svg')\n"
      ]
    },
    {
      "cell_type": "code",
      "execution_count": null,
      "metadata": {
        "colab": {
          "base_uri": "https://localhost:8080/",
          "height": 408
        },
        "id": "NYh9YhYHcxpn",
        "outputId": "6d10aad4-f2f5-4c72-a81f-b557b4f43f5e"
      },
      "outputs": [],
      "source": [
        "# %% Exercise 1\n",
        "#    Compute the second-order derivative of the function shown in the video\n",
        "#    using sympy\n",
        "\n",
        "x = sym.symbols('x')\n",
        "y = sym.symbols('y')\n",
        "\n",
        "Z = sym.cos(2*x*y**2) + x**2 -y*sym.exp(x)\n",
        "display(Math(f'f(x,y) = {sym.latex(Z)}'))\n",
        "print()\n",
        "print()\n",
        "\n",
        "dfx = sym.diff(Z,x)\n",
        "dfy = sym.diff(Z,y)\n",
        "display(Math('f_x = \\\\frac{\\\\partial f}{\\\\partial x} = %s' %sym.latex(dfx)))\n",
        "print()\n",
        "display(Math('f_y = \\\\frac{\\\\partial f}{\\\\partial y} = %s' %sym.latex(dfy)))\n",
        "print()\n",
        "print()\n",
        "\n",
        "dfxx = sym.diff(dfx,x)\n",
        "dfyy = sym.diff(dfy,y)\n",
        "display(Math('f_{xx} = \\\\frac{\\\\partial^2 f}{\\\\partial x^2} = %s' %sym.latex(dfxx)))\n",
        "print()\n",
        "display(Math('f_{yy} = \\\\frac{\\\\partial^2 f}{\\\\partial y^2} = %s' %sym.latex(dfyy)))\n",
        "print()\n",
        "\n",
        "dfxy = sym.diff(dfx,y)\n",
        "display(Math('f_{xy} = \\\\frac{\\\\partial^2 f}{\\\\partial x \\\\partial y} = %s' %sym.latex(dfxy)))\n",
        "print()\n",
        "dfyx = sym.diff(dfy,x)\n",
        "display(Math('f_{yx} = \\\\frac{\\\\partial^2 f}{\\\\partial y \\\\partial x} = %s' %sym.latex(dfyx)))\n"
      ]
    }
  ],
  "metadata": {
    "colab": {
      "provenance": []
    },
    "kernelspec": {
      "display_name": "Python 3",
      "name": "python3"
    },
    "language_info": {
      "name": "python"
    }
  },
  "nbformat": 4,
  "nbformat_minor": 0
}
