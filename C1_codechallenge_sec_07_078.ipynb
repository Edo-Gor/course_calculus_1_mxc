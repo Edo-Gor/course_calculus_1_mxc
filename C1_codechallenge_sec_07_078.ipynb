{
 "cells": [
  {
   "cell_type": "code",
   "execution_count": null,
   "metadata": {
    "id": "xYfsQvXxPsoD"
   },
   "outputs": [],
   "source": [
    "# %% Calculus 1 - Section 7.78\n",
    "#    Code challenge: trigonometric derivatives\n",
    "\n",
    "# This code pertains to a calculus course provided by Mike X. Cohen on Udemy:\n",
    "#   > https://www.udemy.com/course/pycalc1_x\n",
    "# The code in this repository is developed to solve the exercises provided along\n",
    "# the course, and it has been written partially indepentently and partially\n",
    "# from the code developed by the course instructor.\n"
   ]
  },
  {
   "cell_type": "code",
   "execution_count": null,
   "metadata": {
    "id": "vd_wy4xAQC4E"
   },
   "outputs": [],
   "source": [
    "import numpy             as np\n",
    "import sympy             as sym\n",
    "import matplotlib.pyplot as plt\n",
    "import math\n",
    "\n",
    "from IPython.display                  import display,Math\n",
    "from google.colab                     import files\n",
    "from matplotlib_inline.backend_inline import set_matplotlib_formats\n",
    "set_matplotlib_formats('svg')\n"
   ]
  },
  {
   "cell_type": "code",
   "execution_count": null,
   "metadata": {
    "colab": {
     "base_uri": "https://localhost:8080/",
     "height": 471
    },
    "executionInfo": {
     "elapsed": 566,
     "status": "ok",
     "timestamp": 1753025947155,
     "user": {
      "displayName": "Edoardo Gornetti",
      "userId": "05048424707797899325"
     },
     "user_tz": -120
    },
    "id": "tFjczhJdW7-J",
    "outputId": "246b0acc-745b-45a1-e06b-c36357dc9f29"
   },
   "outputs": [],
   "source": [
    "# %% Exercise 1\n",
    "#    Using numpy, plot cosine, its derivative, and -sine\n",
    "\n",
    "# Function and derivative\n",
    "step = 0.01\n",
    "x  = np.arange(-1.5*np.pi, 1.5*np.pi, step=step)\n",
    "y  = np.cos(x)\n",
    "dy = np.diff(y) / step\n",
    "z  = -np.sin(x)\n",
    "\n",
    "# Plot\n",
    "phi = ( 1 + np.sqrt(5) ) / 2\n",
    "fig = plt.figure(figsize=(5*phi,5))\n",
    "\n",
    "plt.plot(x,y,label='$y=\\\\cos(x)$')\n",
    "plt.plot(x[:-1],dy,label=\"$y'(\\\\cos(x))$ (empirical)\")\n",
    "plt.plot(x[::15],z[::15],'o',markersize=4,label='$y=-\\\\sin(x)$')\n",
    "\n",
    "plt.legend()\n",
    "\n",
    "plt.axvline(x=0,color='grey',linestyle=':',linewidth=0.8)\n",
    "plt.axhline(y=0,color='grey',linestyle=':',linewidth=0.8)\n",
    "\n",
    "plt.xlabel('angle (radians)')\n",
    "plt.ylabel('y')\n",
    "plt.xlim(-1.5*np.pi,1.5*np.pi)\n",
    "plt.xticks([-3*np.pi/2,-np.pi,-np.pi/2,0,np.pi/2,np.pi,3*np.pi/2],labels=[r'$-3\\pi/2$',r'$-\\pi$',r'$-\\pi/2$','0',r'$\\pi/2$',r'$\\pi$',r'$3\\pi/2$'])\n",
    "plt.title('Cosine and its derivative')\n",
    "\n",
    "plt.savefig('fig7_codechallenge_78_exercise_1.png')\n",
    "plt.show()\n",
    "files.download('fig7_codechallenge_78_exercise_1.png')\n"
   ]
  },
  {
   "cell_type": "code",
   "execution_count": null,
   "metadata": {
    "colab": {
     "base_uri": "https://localhost:8080/",
     "height": 471
    },
    "executionInfo": {
     "elapsed": 422,
     "status": "ok",
     "timestamp": 1753026028706,
     "user": {
      "displayName": "Edoardo Gornetti",
      "userId": "05048424707797899325"
     },
     "user_tz": -120
    },
    "id": "7msZC045fXd7",
    "outputId": "dbbf2192-c02a-429c-f691-228dd55d9789"
   },
   "outputs": [],
   "source": [
    "# %% Exercise 2\n",
    "#    Using numpy, plot sine, its derivative, and cosine\n",
    "\n",
    "# Function and derivative\n",
    "step = 0.01\n",
    "x  = np.arange(-1.5*np.pi, 1.5*np.pi, step=step)\n",
    "y  = np.sin(x)\n",
    "dy = np.diff(y) / step\n",
    "z  = np.cos(x)\n",
    "\n",
    "# Plot\n",
    "phi = ( 1 + np.sqrt(5) ) / 2\n",
    "fig = plt.figure(figsize=(5*phi,5))\n",
    "\n",
    "plt.plot(x,y,label='$y=\\\\sin(x)$')\n",
    "plt.plot(x[:-1],dy,label=\"$y'(\\\\sin(x))$ (empirical)\")\n",
    "plt.plot(x[::15],z[::15],'o',markersize=4,label='$y=\\\\cos(x)$')\n",
    "\n",
    "plt.legend()\n",
    "\n",
    "plt.axvline(x=0,color='grey',linestyle=':',linewidth=0.8)\n",
    "plt.axhline(y=0,color='grey',linestyle=':',linewidth=0.8)\n",
    "\n",
    "plt.xlabel('angle (radians)')\n",
    "plt.ylabel('y')\n",
    "plt.xlim(-1.5*np.pi,1.5*np.pi)\n",
    "plt.xticks([-3*np.pi/2,-np.pi,-np.pi/2,0,np.pi/2,np.pi,3*np.pi/2],labels=[r'$-3\\pi/2$',r'$-\\pi$',r'$-\\pi/2$','0',r'$\\pi/2$',r'$\\pi$',r'$3\\pi/2$'])\n",
    "plt.title('Sine and its derivative')\n",
    "\n",
    "plt.savefig('fig8_codechallenge_78_exercise_2.png')\n",
    "plt.show()\n",
    "files.download('fig8_codechallenge_78_exercise_2.png')\n"
   ]
  },
  {
   "cell_type": "code",
   "execution_count": null,
   "metadata": {
    "colab": {
     "base_uri": "https://localhost:8080/",
     "height": 105
    },
    "executionInfo": {
     "elapsed": 17,
     "status": "ok",
     "timestamp": 1753026323565,
     "user": {
      "displayName": "Edoardo Gornetti",
      "userId": "05048424707797899325"
     },
     "user_tz": -120
    },
    "id": "Fs_kJpNafrre",
    "outputId": "2f97d197-bd17-4553-9528-1b153b7047db"
   },
   "outputs": [],
   "source": [
    "# %% Exercise 3\n",
    "#    Using sympy, show the \"circle\" of trigonometric derivatives; compute the\n",
    "#    derivative of cos(x) and keep going untl you get back to cos(x)\n",
    "\n",
    "# Functions and derivatives\n",
    "x = sym.symbols('x')\n",
    "y = sym.cos(x)\n",
    "\n",
    "for i in range(4):\n",
    "    display(Math('\\\\text{Derivative of }%s \\\\text{ is }%s' %(sym.latex(y),sym.latex(sym.diff(y,x)))))\n",
    "    y = sym.diff(y,x)\n"
   ]
  },
  {
   "cell_type": "code",
   "execution_count": null,
   "metadata": {
    "colab": {
     "base_uri": "https://localhost:8080/",
     "height": 191
    },
    "executionInfo": {
     "elapsed": 256,
     "status": "ok",
     "timestamp": 1753027429288,
     "user": {
      "displayName": "Edoardo Gornetti",
      "userId": "05048424707797899325"
     },
     "user_tz": -120
    },
    "id": "oeveYHFUfuk7",
    "outputId": "d874e76a-f43d-40bc-bd46-1d648bcf5890"
   },
   "outputs": [],
   "source": [
    "# %% Exercise 4\n",
    "#    Do the same as exercise 3 but start with the inverse of cosine, and check\n",
    "#    whether the \"circle\" holds\n",
    "\n",
    "# Functions and derivatives\n",
    "x = sym.symbols('x')\n",
    "y = sym.acos(x)\n",
    "\n",
    "for i in range(4):\n",
    "    display(Math('\\\\text{Derivative of }%s \\\\text{ is }%s' %(sym.latex(y),sym.latex(sym.diff(y,x)))))\n",
    "    y = sym.diff(y,x)\n"
   ]
  }
 ],
 "metadata": {
  "colab": {
   "authorship_tag": "ABX9TyO7LOVa1z38cou7saA0bJt3",
   "provenance": []
  },
  "kernelspec": {
   "display_name": "Python 3",
   "name": "python3"
  },
  "language_info": {
   "name": "python"
  }
 },
 "nbformat": 4,
 "nbformat_minor": 0
}
