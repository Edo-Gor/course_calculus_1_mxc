{
 "cells": [
  {
   "cell_type": "code",
   "execution_count": null,
   "metadata": {
    "id": "id4Ceu2lhYKa"
   },
   "outputs": [],
   "source": [
    "# %% Calculus 1 - Section 3.15\n",
    "#    Code challenge: polynomials - I\n",
    "\n",
    "# This code pertains to a calculus course provided by Mike X. Cohen on Udemy:\n",
    "#   > https://www.udemy.com/course/pycalc1_x\n",
    "# The code in this repository is developed to solve the exercises provided along\n",
    "# the course, and it has been written partially indepentently and partially\n",
    "# from the code developed by the course instructor.\n"
   ]
  },
  {
   "cell_type": "code",
   "execution_count": null,
   "metadata": {
    "id": "1DeqYnAzhlM2"
   },
   "outputs": [],
   "source": [
    "import numpy as np\n",
    "import matplotlib.pyplot as plt\n",
    "import sympy as sym\n"
   ]
  },
  {
   "cell_type": "code",
   "execution_count": null,
   "metadata": {
    "colab": {
     "base_uri": "https://localhost:8080/",
     "height": 476
    },
    "executionInfo": {
     "elapsed": 812,
     "status": "ok",
     "timestamp": 1716588712453,
     "user": {
      "displayName": "Edoardo Gornetti",
      "userId": "05048424707797899325"
     },
     "user_tz": -120
    },
    "id": "T3NhYqfmhnF5",
    "outputId": "c015365e-e14e-4889-fc10-df26d3becf11"
   },
   "outputs": [],
   "source": [
    "# %% Exercise 1\n",
    "#    Generate a 3rd order polynomial whose coefficient are picked from a random gaussian distribution; domain = [-5,5]\n",
    "\n",
    "x = np.linspace(-5,5,1001)\n",
    "a = np.random.randn(4)\n",
    "\n",
    "y = a[0]*x**0 + a[1]*x**1 + a[2]*x**2 + a[3]*x**3\n",
    "\n",
    "# Plotting\n",
    "\n",
    "plt.plot(x,y,label='Polynomial function')\n",
    "\n",
    "plt.legend()\n",
    "plt.grid()\n",
    "plt.xlim([x[0],x[-1]])\n",
    "\n",
    "plt.xlabel('$x$')\n",
    "plt.ylabel('$y=f(x)$')\n",
    "\n",
    "fname = '$y = '\n",
    "y = np.zeros(len(x))\n",
    "for i,c in enumerate(a):\n",
    "    y += c*x**i  # alternative way to create the function as well\n",
    "    fname += '+ '[int(c<0)] + f'{c:.2f}x^{i} '\n",
    "fname = fname + '$'\n",
    "plt.title('Graph of: ' + fname)\n",
    "\n",
    "plt.show()"
   ]
  },
  {
   "cell_type": "code",
   "execution_count": null,
   "metadata": {
    "colab": {
     "base_uri": "https://localhost:8080/",
     "height": 503
    },
    "executionInfo": {
     "elapsed": 965,
     "status": "ok",
     "timestamp": 1717012075053,
     "user": {
      "displayName": "Edoardo Gornetti",
      "userId": "05048424707797899325"
     },
     "user_tz": -120
    },
    "id": "5JQriUfpqT5Z",
    "outputId": "a721d678-53cb-48ae-8358-f8d45f21a063"
   },
   "outputs": [],
   "source": [
    "# %% Exercise 2\n",
    "#    Implement the function y = (x^2 -2x) / (x^2 - 4) with sympy and make a plot (domain=(-3,3),legend in latex)\n",
    "\n",
    "sym_x,sym_y = sym.var('x,y')\n",
    "sym_y = (sym_x**2 - 2*sym_x ) / (sym_x**2 - 4)\n",
    "\n",
    "# Plotting (specify limits in second input with a tuple containing variable and limits)\n",
    "\n",
    "sym.plot(sym_y,(sym_x,-3,3),xlabel=None,ylabel=None,title=f'$f(x)={sym.latex(sym_y)}$',ylim = [-10,10])"
   ]
  }
 ],
 "metadata": {
  "colab": {
   "authorship_tag": "ABX9TyNlFgMTcfybSXoQ+xhOz2uM",
   "provenance": []
  },
  "kernelspec": {
   "display_name": "Python 3",
   "name": "python3"
  },
  "language_info": {
   "name": "python"
  }
 },
 "nbformat": 4,
 "nbformat_minor": 0
}
