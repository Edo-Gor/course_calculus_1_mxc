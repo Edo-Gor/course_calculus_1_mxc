{
  "cells": [
    {
      "cell_type": "code",
      "execution_count": null,
      "metadata": {
        "id": "xYfsQvXxPsoD"
      },
      "outputs": [],
      "source": [
        "# %% Calculus 1 - Section 11.128\n",
        "#    Code challenge: gradient descent in numpy\n",
        "\n",
        "# This code pertains to a calculus course provided by Mike X. Cohen on Udemy:\n",
        "#   > https://www.udemy.com/course/pycalc1_x\n",
        "# The code in this repository is developed to solve the exercises provided along\n",
        "# the course, and it has been written partially indepentently and partially\n",
        "# from the code developed by the course instructor.\n"
      ]
    },
    {
      "cell_type": "code",
      "execution_count": 1,
      "metadata": {
        "id": "vd_wy4xAQC4E"
      },
      "outputs": [],
      "source": [
        "import numpy             as np\n",
        "import sympy             as sym\n",
        "import matplotlib.pyplot as plt\n",
        "import math\n",
        "\n",
        "from scipy.signal                     import find_peaks\n",
        "from IPython.display                  import display,Math\n",
        "from google.colab                     import files\n",
        "from matplotlib_inline.backend_inline import set_matplotlib_formats\n",
        "set_matplotlib_formats('svg')\n"
      ]
    },
    {
      "cell_type": "code",
      "execution_count": 21,
      "metadata": {
        "id": "YKHfcueGsGPL"
      },
      "outputs": [],
      "source": [
        "# %% Exercise 1\n",
        "#    Plot the function shown in the video and its derivative\n",
        "\n",
        "def function(x):\n",
        "    return 3*x**2 - 3*x + 4\n",
        "\n",
        "def derivative(f,dx):\n",
        "    return np.diff(f) / dx\n",
        "\n",
        "def analytical_derivative(x):\n",
        "    return 6*x - 3\n"
      ]
    },
    {
      "cell_type": "code",
      "execution_count": null,
      "metadata": {
        "colab": {
          "base_uri": "https://localhost:8080/",
          "height": 490
        },
        "id": "dorPDJQQuQft",
        "outputId": "7cbcb890-6892-4a96-c13c-4c1aac3f5d9e"
      },
      "outputs": [],
      "source": [
        "# %% Exercise 1\n",
        "#    Continue ...\n",
        "\n",
        "# Function and derivative\n",
        "x  = np.linspace(-2,2,400)\n",
        "dx = 0.01\n",
        "\n",
        "f  = function(x)\n",
        "df = derivative(f,dx)\n",
        "\n",
        "# Plot\n",
        "phi = (1 + np.sqrt(5)) / 2\n",
        "plt.figure(figsize=(5*phi,5))\n",
        "\n",
        "plt.plot(x,f,label=f\"$f(x)$\")\n",
        "plt.plot(x[:-1],df,label=f\"$f'(x)$\")\n",
        "\n",
        "plt.title(\"A function and its derivative\")\n",
        "plt.xlabel(\"$x$\")\n",
        "plt.ylabel(\"$f(x)$ / $f'(x)$\")\n",
        "plt.axvline(x=0,color='grey',linestyle=':',linewidth=0.8)\n",
        "plt.axhline(y=0,color='grey',linestyle=':',linewidth=0.8)\n",
        "plt.ylim(np.min([f.min(),df.min()]),np.max([f.max(),df.max()]))\n",
        "plt.xlim(x.min(),x.max())\n",
        "plt.legend()\n",
        "plt.tight_layout()\n",
        "\n",
        "plt.savefig('fig15_codechallenge_128_exercise_1.png')\n",
        "plt.show()\n",
        "files.download('fig15_codechallenge_128_exercise_1.png')\n"
      ]
    },
    {
      "cell_type": "code",
      "execution_count": null,
      "metadata": {
        "colab": {
          "base_uri": "https://localhost:8080/",
          "height": 524
        },
        "id": "6Dp1RcK8ra2Y",
        "outputId": "99a806f0-ea07-48e2-c27a-039b87c1f7f8"
      },
      "outputs": [],
      "source": [
        "# %% Exercise 2\n",
        "#    Implement the gradient descent algorithm in numpy, use 100 iteration and a\n",
        "#    learning rate of 0.01, start at a random location\n",
        "\n",
        "# Gradient descent\n",
        "x    = np.linspace(-2,2,400)\n",
        "iter = 100\n",
        "lr   = 0.01\n",
        "\n",
        "start     = np.random.choice(x)\n",
        "approx    = np.zeros(iter+1)\n",
        "approx[0] = start\n",
        "\n",
        "for i in range(iter):\n",
        "\n",
        "    df = analytical_derivative(approx[i])\n",
        "    approx[i+1] = approx[i] - lr*df\n",
        "\n",
        "print(f'Started at x = {start:.5f}')\n",
        "print(f'Ended at x = {approx[-1]:.5f}')\n",
        "\n",
        "# Plot\n",
        "f  = function(x)\n",
        "df = derivative(f,dx)\n",
        "\n",
        "phi = (1 + np.sqrt(5)) / 2\n",
        "plt.figure(figsize=(5*phi,5))\n",
        "\n",
        "plt.plot(x,f,label=f\"$f(x)$\")\n",
        "plt.plot(x[:-1],df,label=f\"$f'(x)$\")\n",
        "plt.plot(approx[-1],function(approx[-1]),'ro',label=\"Minimum\")\n",
        "plt.plot(approx[-1],analytical_derivative(approx[-1]),'ro')\n",
        "\n",
        "plt.title(f\"Estimated minimum = {approx[-1]:.5f}\")\n",
        "plt.xlabel(\"$x$\")\n",
        "plt.ylabel(\"$f(x)$ / $f'(x)$\")\n",
        "plt.axvline(x=0,color='grey',linestyle=':',linewidth=0.8)\n",
        "plt.axhline(y=0,color='grey',linestyle=':',linewidth=0.8)\n",
        "plt.ylim(np.min([f.min(),df.min()]),np.max([f.max(),df.max()]))\n",
        "plt.xlim(x.min(),x.max())\n",
        "plt.legend()\n",
        "plt.tight_layout()\n",
        "\n",
        "plt.savefig('fig16_codechallenge_128_exercise_2.png')\n",
        "plt.show()\n",
        "files.download('fig16_codechallenge_128_exercise_2.png')\n"
      ]
    },
    {
      "cell_type": "code",
      "execution_count": null,
      "metadata": {
        "colab": {
          "base_uri": "https://localhost:8080/",
          "height": 524
        },
        "id": "p3BPNg9t1sgp",
        "outputId": "7a8be850-6431-4059-b75a-9ec40b20b505"
      },
      "outputs": [],
      "source": [
        "# %% Exercise 3\n",
        "#    Plot the approximations over each iteration\n",
        "\n",
        "# %% Exercise 2\n",
        "#    Implement the gradient descent algorithm in numpy, use 100 iteration and a\n",
        "#    learning rate of 0.01, start at a random location\n",
        "\n",
        "# Gradient descent\n",
        "x    = np.linspace(-2,2,400)\n",
        "iter = 100\n",
        "lr   = 0.01\n",
        "\n",
        "start     = np.random.choice(x)\n",
        "approx    = np.zeros(iter+1)\n",
        "approx[0] = start\n",
        "\n",
        "for i in range(iter):\n",
        "\n",
        "    df = analytical_derivative(approx[i])\n",
        "    approx[i+1] = approx[i] - lr*df\n",
        "\n",
        "print(f'Started at x = {start:.5f}')\n",
        "print(f'Ended at x = {approx[-1]:.5f}')\n",
        "\n",
        "# Plot\n",
        "f  = function(x)\n",
        "df = derivative(f,dx)\n",
        "\n",
        "phi = (1 + np.sqrt(5)) / 2\n",
        "plt.figure(figsize=(5*phi,5))\n",
        "\n",
        "plt.plot(x,f,label=f\"$f(x)$\")\n",
        "plt.plot(x[:-1],df,label=f\"$f'(x)$\")\n",
        "plt.plot(approx[-1],function(approx[-1]),'ro',label=\"Minimum\")\n",
        "\n",
        "approx = approx[::5]\n",
        "cmaps  = plt.cm.plasma(np.linspace(.1,.9,len(approx)))\n",
        "for i in range(len(approx)):\n",
        "    plt.plot(approx[i],function(approx[i]),'o',color=cmaps[i],alpha=0.75)\n",
        "    plt.plot(approx[i],analytical_derivative(approx[i]),'o',color=cmaps[i],alpha=0.75)\n",
        "\n",
        "plt.title(f\"Estimated minimum = {approx[-1]:.5f}\")\n",
        "plt.xlabel(\"$x$\")\n",
        "plt.ylabel(\"$f(x)$ / $f'(x)$\")\n",
        "plt.axvline(x=0,color='grey',linestyle=':',linewidth=0.8)\n",
        "plt.axhline(y=0,color='grey',linestyle=':',linewidth=0.8)\n",
        "plt.ylim(np.min([f.min(),df.min()]),np.max([f.max(),df.max()]))\n",
        "plt.xlim(x.min(),x.max())\n",
        "plt.legend()\n",
        "plt.tight_layout()\n",
        "\n",
        "plt.savefig('fig17_codechallenge_128_exercise_3.png')\n",
        "plt.show()\n",
        "files.download('fig17_codechallenge_128_exercise_3.png')\n"
      ]
    }
  ],
  "metadata": {
    "colab": {
      "provenance": []
    },
    "kernelspec": {
      "display_name": "Python 3",
      "name": "python3"
    },
    "language_info": {
      "name": "python"
    }
  },
  "nbformat": 4,
  "nbformat_minor": 0
}
