{
  "cells": [
    {
      "cell_type": "code",
      "execution_count": null,
      "metadata": {
        "id": "xYfsQvXxPsoD"
      },
      "outputs": [],
      "source": [
        "# %% Calculus 1 - Section 9.101\n",
        "#    Code challenge: Dervivatives of derivatives - I\n",
        "\n",
        "# This code pertains to a calculus course provided by Mike X. Cohen on Udemy:\n",
        "#   > https://www.udemy.com/course/pycalc1_x\n",
        "# The code in this repository is developed to solve the exercises provided along\n",
        "# the course, and it has been written partially indepentently and partially\n",
        "# from the code developed by the course instructor.\n"
      ]
    },
    {
      "cell_type": "code",
      "execution_count": 1,
      "metadata": {
        "id": "vd_wy4xAQC4E"
      },
      "outputs": [],
      "source": [
        "import numpy             as np\n",
        "import sympy             as sym\n",
        "import matplotlib.pyplot as plt\n",
        "import math\n",
        "\n",
        "from scipy.signal                     import find_peaks\n",
        "from IPython.display                  import display,Math\n",
        "from google.colab                     import files\n",
        "from matplotlib_inline.backend_inline import set_matplotlib_formats\n",
        "set_matplotlib_formats('svg')\n"
      ]
    },
    {
      "cell_type": "code",
      "execution_count": null,
      "metadata": {
        "colab": {
          "base_uri": "https://localhost:8080/",
          "height": 963
        },
        "id": "OjaTUK6DjsCc",
        "outputId": "cf6d3a1c-9a9d-4601-a7c6-78abacce1d7b"
      },
      "outputs": [],
      "source": [
        "# %% Exercise 1\n",
        "#    Compute the third derivative of the function shown in the video using numpy\n",
        "#    and by taking derivatives of derivatives, plot everything\n",
        "\n",
        "# Function and derivatives\n",
        "dx = 0.01\n",
        "x  = np.arange(-np.pi,np.pi,dx)\n",
        "f  = 0.1*x**4 + np.exp(-x**2) + np.cos(x)\n",
        "\n",
        "df   = np.diff(f) / dx\n",
        "dff  = np.diff(df) / dx\n",
        "dfff = np.diff(dff) / dx\n",
        "\n",
        "# Plot\n",
        "phi = (1 + np.sqrt(5)) / 2\n",
        "fig, axes = plt.subplots(2,2,figsize=(5*phi,5))\n",
        "\n",
        "axes[0,0].plot(x, f, color=\"tab:blue\",label=\"f(x)\")\n",
        "axes[0,0].axvline(x=0,color='grey',linestyle=':',linewidth=0.8)\n",
        "axes[0,0].axhline(y=0,color='grey',linestyle=':',linewidth=0.8)\n",
        "axes[0,0].set_title(\"Function\")\n",
        "axes[0,0].legend()\n",
        "\n",
        "axes[0,1].plot(x[:-1],df, color=\"tab:green\",label=\"f'(x)\")\n",
        "axes[0,1].axvline(x=0,color='grey',linestyle=':',linewidth=0.8)\n",
        "axes[0,1].axhline(y=0,color='grey',linestyle=':',linewidth=0.8)\n",
        "axes[0,1].set_title(\"First derivative\")\n",
        "axes[0,1].legend()\n",
        "\n",
        "axes[1,0].plot(x[:-2],dff,color=\"tab:orange\",label=\"f''(x)\")\n",
        "axes[1,0].axvline(x=0,color='grey',linestyle=':',linewidth=0.8)\n",
        "axes[1,0].axhline(y=0,color='grey',linestyle=':',linewidth=0.8)\n",
        "axes[1,0].set_title(\"Second derivative\")\n",
        "axes[1,0].legend()\n",
        "\n",
        "axes[1,1].plot(x[:-3],dfff,color=\"tab:red\",label=\"f'''(x)\")\n",
        "axes[1,1].axvline(x=0,color='grey',linestyle=':',linewidth=0.8)\n",
        "axes[1,1].axhline(y=0,color='grey',linestyle=':',linewidth=0.8)\n",
        "axes[1,1].set_title(\"Third derivative\")\n",
        "axes[1,1].legend()\n",
        "\n",
        "plt.tight_layout()\n",
        "\n",
        "plt.savefig('fig7_codechallenge_101_exercise_1.png')\n",
        "plt.show()\n",
        "files.download('fig7_codechallenge_101_exercise_1.png')\n",
        "\n",
        "# Plot\n",
        "phi = (1 + np.sqrt(5)) / 2\n",
        "plt.figure(figsize=(5*phi,5))\n",
        "\n",
        "plt.plot(x,f,color=\"tab:blue\",label=\"f(x)\")\n",
        "plt.plot(x[:-1],df,color=\"tab:green\",label=\"f'(x)\")\n",
        "plt.plot(x[:-2],dff,color=\"tab:orange\",label=\"f''(x)\")\n",
        "plt.plot(x[:-3],dfff,color=\"tab:red\",label=\"f'''(x)\")\n",
        "plt.title(\"A function and its derivatives\")\n",
        "plt.xlabel(\"x\")\n",
        "plt.ylabel(\"y\")\n",
        "plt.axvline(x=0,color='grey',linestyle=':',linewidth=0.8)\n",
        "plt.axhline(y=0,color='grey',linestyle=':',linewidth=0.8)\n",
        "plt.legend()\n",
        "plt.tight_layout()\n",
        "\n",
        "plt.savefig('fig8_codechallenge_101_exercise_1.png')\n",
        "plt.show()\n",
        "files.download('fig8_codechallenge_101_exercise_1.png')\n"
      ]
    },
    {
      "cell_type": "code",
      "execution_count": null,
      "metadata": {
        "colab": {
          "base_uri": "https://localhost:8080/"
        },
        "id": "6FiuXgHb6YcE",
        "outputId": "0f2f9a17-0d50-4902-e0fc-0ab3b8df28d9"
      },
      "outputs": [],
      "source": [
        "# %% Exercise 2\n",
        "#    Compute the third derivative of the function shown in the video using numpy\n",
        "#    and by using the extra arguments in np.diff(), then compare to exercise 1\n",
        "\n",
        "# Function and derivatives\n",
        "dx = 0.01\n",
        "x  = np.arange(-np.pi,np.pi,dx)\n",
        "f  = 0.1*x**4 + np.exp(-x**2) + np.cos(x)\n",
        "\n",
        "df_1   = np.diff(f,1) / dx\n",
        "dff_1  = np.diff(df,2) / dx\n",
        "dfff_1 = np.diff(dff,3) / dx\n",
        "\n",
        "df_2   = np.diff(f,1) / dx\n",
        "dff_2  = np.diff(df,2) / dx\n",
        "dfff_2 = np.diff(dff,3) / dx\n",
        "\n",
        "# Print differences\n",
        "print(f\"Differences between 1st derivatives = {np.mean(np.abs(df_1 - df_2))}\")\n",
        "print(f\"Differences between 2nd derivatives = {np.mean(np.abs(dff_1 - dff_2))}\")\n",
        "print(f\"Differences between 3rd derivatives = {np.mean(np.abs(dfff_1 - dfff_2))}\")\n"
      ]
    }
  ],
  "metadata": {
    "colab": {
      "provenance": []
    },
    "kernelspec": {
      "display_name": "Python 3",
      "name": "python3"
    },
    "language_info": {
      "name": "python"
    }
  },
  "nbformat": 4,
  "nbformat_minor": 0
}
