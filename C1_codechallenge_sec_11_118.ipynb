{
  "cells": [
    {
      "cell_type": "code",
      "execution_count": null,
      "metadata": {
        "id": "xYfsQvXxPsoD"
      },
      "outputs": [],
      "source": [
        "# %% Calculus 1 - Section 11.118\n",
        "#    Code challenge: linear approximations - I\n",
        "\n",
        "# This code pertains to a calculus course provided by Mike X. Cohen on Udemy:\n",
        "#   > https://www.udemy.com/course/pycalc1_x\n",
        "# The code in this repository is developed to solve the exercises provided along\n",
        "# the course, and it has been written partially indepentently and partially\n",
        "# from the code developed by the course instructor.\n"
      ]
    },
    {
      "cell_type": "code",
      "execution_count": 1,
      "metadata": {
        "id": "vd_wy4xAQC4E"
      },
      "outputs": [],
      "source": [
        "import numpy             as np\n",
        "import sympy             as sym\n",
        "import matplotlib.pyplot as plt\n",
        "import math\n",
        "\n",
        "from scipy.signal                     import find_peaks\n",
        "from IPython.display                  import display,Math\n",
        "from google.colab                     import files\n",
        "from matplotlib_inline.backend_inline import set_matplotlib_formats\n",
        "set_matplotlib_formats('svg')\n"
      ]
    },
    {
      "cell_type": "code",
      "execution_count": 17,
      "metadata": {
        "id": "Q56p-26vJ9L8"
      },
      "outputs": [],
      "source": [
        "# %% Exercise 1\n",
        "#    Create a function to implement linear approximations in sympy\n",
        "\n",
        "def linear_approximate(f,x0,a):\n",
        "\n",
        "    # Derivative\n",
        "    df = sym.diff(f)\n",
        "    #display(Math(sym.latex(f)))\n",
        "    #display(Math(sym.latex(df)))\n",
        "\n",
        "    # Define the linear approximation (L = mx+q)\n",
        "    m  = df.subs(x,a)\n",
        "    xx = x0 - a\n",
        "    q  = f.subs(x,a)\n",
        "\n",
        "    L = m*xx + q\n",
        "\n",
        "    return L\n"
      ]
    },
    {
      "cell_type": "code",
      "execution_count": null,
      "metadata": {
        "colab": {
          "base_uri": "https://localhost:8080/",
          "height": 112
        },
        "id": "v64ovG4-LdZG",
        "outputId": "ec62b327-ab3f-4226-c709-d28887140cef"
      },
      "outputs": [],
      "source": [
        "# %% Exercise 1\n",
        "#    Continue ...\n",
        "\n",
        "x = sym.symbols('x')\n",
        "f = sym.sqrt(x) + 2*x\n",
        "\n",
        "x0 = 4.37\n",
        "a  = 4\n",
        "\n",
        "print(linear_approximate(f,x0,a))\n",
        "print(f.subs(x,x0))\n"
      ]
    },
    {
      "cell_type": "code",
      "execution_count": null,
      "metadata": {
        "colab": {
          "base_uri": "https://localhost:8080/",
          "height": 488
        },
        "id": "oVum6vybMzAn",
        "outputId": "d77547c0-b400-4219-e55d-9752c6380385"
      },
      "outputs": [],
      "source": [
        "# %% Exercise 2\n",
        "#    Use the above function but over a range of a values, set x0 as average of\n",
        "#    the chosen a values; store the approximation and the error, and then plot\n",
        "\n",
        "# Run loop\n",
        "a_vals   = np.linspace(5,14,50)\n",
        "x0       = np.mean(a_vals)\n",
        "f        = sym.sqrt(x) + 2*x\n",
        "true_val = f.subs(x,x0)\n",
        "\n",
        "approx = np.zeros(len(a_vals))\n",
        "error  = np.zeros(len(a_vals))\n",
        "\n",
        "for i,a in enumerate(a_vals):\n",
        "\n",
        "    approx[i] = linear_approximate(f,x0,a)\n",
        "    error[i]  = true_val - approx[i]\n",
        "\n",
        "# Plot\n",
        "xx    = np.linspace(0,20,50)\n",
        "f_fun = sym.lambdify(x,f)\n",
        "\n",
        "phi = ( 1 + np.sqrt(5) ) / 2\n",
        "_,axs = plt.subplots(1,2,figsize=(1.5*5*phi,5))\n",
        "axs[0].plot(a_vals,error,'o-',alpha=0.5)\n",
        "axs[0].set_title('Approximation errors')\n",
        "axs[0].axhline(y=0,color='grey',linestyle=':',linewidth=0.8)\n",
        "\n",
        "axs[1].plot(xx,f_fun(xx),label=\"$f(x)$\")\n",
        "axs[1].plot(a_vals,approx,'o',color='tab:green',label=\"approximations\",alpha=0.5)\n",
        "axs[1].plot(x0,true_val,'s',color='tab:red',label=\"$f(x_0)$\",alpha=0.5)\n",
        "axs[1].axvline(x=0,color='grey',linestyle=':',linewidth=0.8)\n",
        "axs[1].axhline(y=0,color='grey',linestyle=':',linewidth=0.8)\n",
        "axs[1].legend()\n",
        "axs[1].set_title(\"$f(x)$ and its approximations at $x_0$\")\n",
        "\n",
        "plt.tight_layout()\n",
        "\n",
        "plt.savefig('fig7_codechallenge_118_exercise_2.png')\n",
        "plt.show()\n",
        "files.download('fig7_codechallenge_118_exercise_2.png')\n"
      ]
    }
  ],
  "metadata": {
    "colab": {
      "provenance": []
    },
    "kernelspec": {
      "display_name": "Python 3",
      "name": "python3"
    },
    "language_info": {
      "name": "python"
    }
  },
  "nbformat": 4,
  "nbformat_minor": 0
}
