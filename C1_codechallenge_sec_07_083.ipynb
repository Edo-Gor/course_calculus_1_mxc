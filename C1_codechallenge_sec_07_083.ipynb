{
 "cells": [
  {
   "cell_type": "code",
   "execution_count": null,
   "metadata": {
    "id": "xYfsQvXxPsoD"
   },
   "outputs": [],
   "source": [
    "# %% Calculus 1 - Section 7.83\n",
    "#    Code challenge: critical pointy in python - I\n",
    "\n",
    "# This code pertains to a calculus course provided by Mike X. Cohen on Udemy:\n",
    "#   > https://www.udemy.com/course/pycalc1_x\n",
    "# The code in this repository is developed to solve the exercises provided along\n",
    "# the course, and it has been written partially indepentently and partially\n",
    "# from the code developed by the course instructor.\n"
   ]
  },
  {
   "cell_type": "code",
   "execution_count": null,
   "metadata": {
    "id": "vd_wy4xAQC4E"
   },
   "outputs": [],
   "source": [
    "import numpy             as np\n",
    "import sympy             as sym\n",
    "import matplotlib.pyplot as plt\n",
    "import math\n",
    "\n",
    "from scipy.signal                     import find_peaks\n",
    "from IPython.display                  import display,Math\n",
    "from google.colab                     import files\n",
    "from matplotlib_inline.backend_inline import set_matplotlib_formats\n",
    "set_matplotlib_formats('svg')\n"
   ]
  },
  {
   "cell_type": "code",
   "execution_count": null,
   "metadata": {
    "colab": {
     "base_uri": "https://localhost:8080/",
     "height": 490
    },
    "executionInfo": {
     "elapsed": 599,
     "status": "ok",
     "timestamp": 1753119314792,
     "user": {
      "displayName": "Edoardo Gornetti",
      "userId": "05048424707797899325"
     },
     "user_tz": -120
    },
    "id": "RYWQNKi-8ZG-",
    "outputId": "3b03ca73-646b-48b5-9a14-fd8ba56846c9"
   },
   "outputs": [],
   "source": [
    "# %% Exercise 1\n",
    "#    Use numpy to implement the function shown in the video, compute the\n",
    "#    empirical derivative using np.diff(), find critical points (approximate),\n",
    "#    and plot them\n",
    "\n",
    "# Function\n",
    "stp = 0.0001\n",
    "x   = np.arange(-1.5,1,step=stp)\n",
    "y   = x**3 + x**2\n",
    "\n",
    "# Derivative and critical points (empirical)\n",
    "dy = np.diff(y) / stp\n",
    "\n",
    "# Plot\n",
    "phi = ( 1 + np.sqrt(5) ) / 2\n",
    "_,axs = plt.subplots(2,1,figsize=(5*phi,5))\n",
    "axs[0].plot(x,y,label='$y=x^3+x^2$')\n",
    "axs[0].set_ylim([-1,1])\n",
    "axs[0].set_xlim(x[[0,-1]])\n",
    "axs[0].legend()\n",
    "axs[0].set_title('The function')\n",
    "axs[0].axvline(x=0,color='grey',linestyle=':',linewidth=0.8)\n",
    "axs[0].axhline(y=0,color='grey',linestyle=':',linewidth=0.8)\n",
    "\n",
    "axs[1].plot(x[:-1],dy,label=\"$f'(x)$\")\n",
    "axs[1].axhline(y=0,color='red',linestyle=':',linewidth=0.8,label=\"$f'(x)=0$\")\n",
    "axs[1].axvline(x=0,color='grey',linestyle=':',linewidth=0.8)\n",
    "axs[1].set_ylim([-1,2])\n",
    "axs[1].set_xlim(x[[0,-1]])\n",
    "axs[1].legend()\n",
    "axs[1].set_title('Its derivative')\n",
    "\n",
    "plt.tight_layout()\n",
    "\n",
    "plt.savefig('fig9_codechallenge_83_exercise_1.png')\n",
    "plt.show()\n",
    "files.download('fig9_codechallenge_83_exercise_1.png')\n"
   ]
  },
  {
   "cell_type": "code",
   "execution_count": null,
   "metadata": {
    "colab": {
     "base_uri": "https://localhost:8080/",
     "height": 488
    },
    "executionInfo": {
     "elapsed": 163,
     "status": "ok",
     "timestamp": 1753119322978,
     "user": {
      "displayName": "Edoardo Gornetti",
      "userId": "05048424707797899325"
     },
     "user_tz": -120
    },
    "id": "i0WbPEtdBAmK",
    "outputId": "b1362656-feeb-480e-fa54-d79046e0ed70"
   },
   "outputs": [],
   "source": [
    "# %% Exercise 1\n",
    "#    Continue ...\n",
    "\n",
    "# Try to set the derivative to zero\n",
    "exactZero = np.where( dy==0 )[0]\n",
    "print(f'Critical points at x={exactZero}')\n",
    "\n",
    "# Plot (absolute value of f'(x))\n",
    "phi = ( 1 + np.sqrt(5) ) / 2\n",
    "fig = plt.figure(figsize=(5*phi,5))\n",
    "\n",
    "plt.plot(x[:-1],np.abs(dy))\n",
    "\n",
    "plt.xlabel('x')\n",
    "plt.ylabel('y')\n",
    "plt.ylim([-.1,1])\n",
    "plt.axvline(x=0,color='grey',linestyle=':',linewidth=0.8)\n",
    "plt.axhline(y=0,color='grey',linestyle=':',linewidth=0.8)\n",
    "\n",
    "plt.title('Absolute value of the derivative')\n",
    "\n",
    "plt.savefig('fig10_codechallenge_83_exercise_1.png')\n",
    "plt.show()\n",
    "files.download('fig10_codechallenge_83_exercise_1.png')\n"
   ]
  },
  {
   "cell_type": "code",
   "execution_count": null,
   "metadata": {
    "colab": {
     "base_uri": "https://localhost:8080/",
     "height": 542
    },
    "executionInfo": {
     "elapsed": 616,
     "status": "ok",
     "timestamp": 1753119360829,
     "user": {
      "displayName": "Edoardo Gornetti",
      "userId": "05048424707797899325"
     },
     "user_tz": -120
    },
    "id": "5Zy12ipECLD1",
    "outputId": "9062b8f3-ccf2-4e8d-a090-a05ed8e2f24f"
   },
   "outputs": [],
   "source": [
    "# %% Exercise 1\n",
    "#    Continue ...\n",
    "\n",
    "# Use scipy to find minima in abs(dy), that is, maxima in -abs(dy)\n",
    "dy_minima = find_peaks(-np.abs(dy))[0]\n",
    "\n",
    "for X,Y in zip(x[dy_minima],y[dy_minima]):\n",
    "  print(f'Critical point/value: ({X:.3f}, {Y:.3f})')\n",
    "\n",
    "# Plot\n",
    "phi = ( 1 + np.sqrt(5) ) / 2\n",
    "_,axs = plt.subplots(2,1,figsize=(5*phi,5))\n",
    "axs[0].plot(x,y,label='Function')\n",
    "axs[0].plot(x[dy_minima],y[dy_minima],'ro',label='Critical points')\n",
    "axs[0].set_ylim([-1,1])\n",
    "axs[0].set_xlim(x[[0,-1]])\n",
    "axs[0].legend()\n",
    "axs[0].set_title('The function')\n",
    "axs[0].axvline(x=0,color='grey',linestyle=':',linewidth=0.8)\n",
    "axs[0].axhline(y=0,color='grey',linestyle=':',linewidth=0.8)\n",
    "\n",
    "axs[1].plot(x[:-1],dy,label='Derivative')\n",
    "axs[1].plot(x[dy_minima],dy[dy_minima],'ro',label='Critical points')\n",
    "axs[1].set_ylim([-1,2])\n",
    "axs[1].set_xlim(x[[0,-1]])\n",
    "axs[1].legend()\n",
    "axs[1].set_title('Its derivative')\n",
    "axs[1].axvline(x=0,color='grey',linestyle=':',linewidth=0.8)\n",
    "axs[1].axhline(y=0,color='red',linestyle=':',linewidth=0.8)\n",
    "\n",
    "plt.tight_layout()\n",
    "\n",
    "plt.savefig('fig11_codechallenge_83_exercise_1.png')\n",
    "plt.show()\n",
    "files.download('fig11_codechallenge_83_exercise_1.png')\n"
   ]
  }
 ],
 "metadata": {
  "colab": {
   "authorship_tag": "ABX9TyOULIxA8n5N8lX8KgARlaRh",
   "provenance": []
  },
  "kernelspec": {
   "display_name": "Python 3",
   "name": "python3"
  },
  "language_info": {
   "name": "python"
  }
 },
 "nbformat": 4,
 "nbformat_minor": 0
}
