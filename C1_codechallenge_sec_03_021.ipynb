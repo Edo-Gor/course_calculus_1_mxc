{
 "cells": [
  {
   "cell_type": "code",
   "execution_count": null,
   "metadata": {
    "id": "M34GicZ66od0"
   },
   "outputs": [],
   "source": [
    "# %% Calculus 1 - Section 3.21\n",
    "#    Code challenge: power and logarithm - I\n",
    "\n",
    "# This code pertains to a calculus course provided by Mike X. Cohen on Udemy:\n",
    "#   > https://www.udemy.com/course/pycalc1_x\n",
    "# The code in this repository is developed to solve the exercises provided along\n",
    "# the course, and it has been written partially indepentently and partially\n",
    "# from the code developed by the course instructor.\n"
   ]
  },
  {
   "cell_type": "code",
   "execution_count": null,
   "metadata": {
    "id": "6w22w83N6549"
   },
   "outputs": [],
   "source": [
    "import numpy             as np\n",
    "import sympy             as sym\n",
    "import matplotlib.pyplot as plt\n",
    "import math\n",
    "\n",
    "from IPython.display                  import display,Math\n",
    "from google.colab                     import files\n",
    "from matplotlib_inline.backend_inline import set_matplotlib_formats\n",
    "set_matplotlib_formats('svg')\n"
   ]
  },
  {
   "cell_type": "code",
   "execution_count": null,
   "metadata": {
    "colab": {
     "base_uri": "https://localhost:8080/",
     "height": 83
    },
    "executionInfo": {
     "elapsed": 47,
     "status": "ok",
     "timestamp": 1747077599509,
     "user": {
      "displayName": "Edoardo Gornetti",
      "userId": "05048424707797899325"
     },
     "user_tz": -120
    },
    "id": "9R5ZRsbdc5rD",
    "outputId": "845f239e-f241-4805-8c17-88a975f9a292"
   },
   "outputs": [],
   "source": [
    "# %% Exercise 1\n",
    "#    Test the following rule of exponents: x^a * x^b = x^{a+b}\n",
    "#    > Create 3 symbolic variables\n",
    "#    > Compute x^a x x^b\n",
    "#    > Simplify the expression in sympy\n",
    "#    > Substitute a and b with numbers to show the rule\n",
    "\n",
    "x = sym.var('x')\n",
    "a = sym.var('a')\n",
    "b = sym.var('b')\n",
    "\n",
    "add = x**a * x**b\n",
    "\n",
    "display(add)\n",
    "display(sym.simplify(add))\n",
    "display(add.subs({a:3.4,b:7.3}))\n"
   ]
  },
  {
   "cell_type": "code",
   "execution_count": null,
   "metadata": {
    "colab": {
     "base_uri": "https://localhost:8080/",
     "height": 137
    },
    "executionInfo": {
     "elapsed": 12,
     "status": "ok",
     "timestamp": 1747079509797,
     "user": {
      "displayName": "Edoardo Gornetti",
      "userId": "05048424707797899325"
     },
     "user_tz": -120
    },
    "id": "BP5edSFr8KEw",
    "outputId": "e5597dec-df0a-4ea7-aad9-95bce3238ac0"
   },
   "outputs": [],
   "source": [
    "# %% Exercise 2\n",
    "#    Test the following rule of exponents: x^a / x^b = x^{a-b}\n",
    "#    > Compute x^a / x^b\n",
    "#    > Simplify the expression in sympy\n",
    "#    > Substitute a and b with numbers to show the rule\n",
    "\n",
    "sub = x**a / x**b\n",
    "\n",
    "display(add)\n",
    "display(sym.simplify(sub))\n",
    "display(add.subs({a:5,b:2.3}))\n",
    "display(add.subs({a:2,b:3}))\n",
    "display(add.subs({a:4,b:4}))\n"
   ]
  },
  {
   "cell_type": "code",
   "execution_count": null,
   "metadata": {
    "colab": {
     "base_uri": "https://localhost:8080/",
     "height": 191
    },
    "executionInfo": {
     "elapsed": 10,
     "status": "ok",
     "timestamp": 1747080005516,
     "user": {
      "displayName": "Edoardo Gornetti",
      "userId": "05048424707797899325"
     },
     "user_tz": -120
    },
    "id": "L0g6Pff4C1ss",
    "outputId": "99345d7f-4c0b-45ba-cff5-ddc4154a5e40"
   },
   "outputs": [],
   "source": [
    "# %% Exercise 3\n",
    "#    Test the following rule of exponents: (x^a)^b = x^{a*b}\n",
    "#    > Compute (x^a)^b\n",
    "#    > Compute x^{a*b}\n",
    "#    > Substitute a and b with numbers to show the rule\n",
    "#    > Notice how the rule is valid only if x, a and b are positive (otherwise you get into the real of imaginary numbers)\n",
    "\n",
    "prod1 = (x**a)**b\n",
    "prod2 = x**(a*b)\n",
    "\n",
    "display(prod1)\n",
    "display(sym.simplify(prod1))\n",
    "display(prod2)\n",
    "\n",
    "display(prod1.subs({a:3,b:7}))\n",
    "display(prod1.subs({x:-2,a:4.1,b:-.3}))\n",
    "\n",
    "display(prod2.subs({a:3,b:7}))\n",
    "display(prod2.subs({x:-2,a:4.1,b:-.3}))\n"
   ]
  }
 ],
 "metadata": {
  "colab": {
   "authorship_tag": "ABX9TyMpUBED8CRoXzTP8tJRq23t",
   "provenance": []
  },
  "kernelspec": {
   "display_name": "Python 3",
   "name": "python3"
  },
  "language_info": {
   "name": "python"
  }
 },
 "nbformat": 4,
 "nbformat_minor": 0
}
