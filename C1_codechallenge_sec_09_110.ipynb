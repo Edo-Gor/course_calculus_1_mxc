{
  "cells": [
    {
      "cell_type": "code",
      "execution_count": null,
      "metadata": {
        "id": "xYfsQvXxPsoD"
      },
      "outputs": [],
      "source": [
        "# %% Calculus 1 - Section 9.110\n",
        "#    Code challenge: more differentiation exercises - II\n",
        "\n",
        "# This code pertains to a calculus course provided by Mike X. Cohen on Udemy:\n",
        "#   > https://www.udemy.com/course/pycalc1_x\n",
        "# The code in this repository is developed to solve the exercises provided along\n",
        "# the course, and it has been written partially indepentently and partially\n",
        "# from the code developed by the course instructor.\n"
      ]
    },
    {
      "cell_type": "code",
      "execution_count": 3,
      "metadata": {
        "id": "vd_wy4xAQC4E"
      },
      "outputs": [],
      "source": [
        "import numpy             as np\n",
        "import sympy             as sym\n",
        "import matplotlib.pyplot as plt\n",
        "import math\n",
        "\n",
        "from scipy.signal                     import find_peaks\n",
        "from IPython.display                  import display,Math\n",
        "from google.colab                     import files\n",
        "from matplotlib_inline.backend_inline import set_matplotlib_formats\n",
        "set_matplotlib_formats('svg')\n"
      ]
    },
    {
      "cell_type": "code",
      "execution_count": null,
      "metadata": {
        "id": "55n_lmq0e_8N"
      },
      "outputs": [],
      "source": [
        "# %% Note\n",
        "#    This code is meant to generate (constrained) random functions to get\n",
        "#    infinite differentiation exercises to practice product and chain rules, and\n",
        "#    implicit differentiation\n"
      ]
    },
    {
      "cell_type": "code",
      "execution_count": null,
      "metadata": {
        "colab": {
          "base_uri": "https://localhost:8080/",
          "height": 532
        },
        "id": "nM0nzcKlhb0R",
        "outputId": "d7a2be00-8752-4953-9ead-f8a806cb7449"
      },
      "outputs": [],
      "source": [
        "# %% Exercise 2\n",
        "#    Repeat exercise 1 but select 3 functions, multiply the first 2 and then\n",
        "#    substitute the third for x in the second\n",
        "\n",
        "# Function\n",
        "x = sym.symbols('x')\n",
        "\n",
        "poly_order = np.random.randint(1,5)\n",
        "transcend  = [sym.sin(x),sym.cos(x),sym.log(x),sym.exp(x)]\n",
        "\n",
        "funcs = np.random.choice(transcend,3,replace=False)\n",
        "f1,f2,f3 = funcs[0],funcs[1],funcs[2]\n",
        "\n",
        "y = np.random.randint(-5,6)*x**poly_order*f1*f2.subs(x,f3)\n",
        "display(Math(sym.latex(y)))\n",
        "\n",
        "# Function and flexible domain (for logs)\n",
        "D = [ -3,3 ]\n",
        "d = sym.calculus.util.continuous_domain(y,x,sym.S.Reals)\n",
        "if len(d.args)==2:\n",
        "    if d.args[0].start==0:\n",
        "        D[0] = .01\n",
        "elif d.start==0:\n",
        "        D[0] = .01\n",
        "\n",
        "fx = sym.lambdify(x,y)\n",
        "xx = np.linspace(D[0],D[1],1000)\n",
        "yy = fx(xx)\n",
        "\n",
        "if np.isscalar(yy):\n",
        "    dy = np.array([0])\n",
        "else:\n",
        "    dy = np.diff(yy) / np.mean(np.diff(xx))\n",
        "\n",
        "# Plot\n",
        "phi = ( 1 + np.sqrt(5) ) / 2\n",
        "_,axs = plt.subplots(2,1,figsize=(5*phi,5))\n",
        "axs[0].plot(xx,yy,label=\"$f(x)$\")\n",
        "axs[0].legend()\n",
        "axs[0].set_title(f'$f(x) = {sym.latex(y)}$')\n",
        "axs[0].axvline(x=0,color='grey',linestyle=':',linewidth=0.8)\n",
        "axs[0].axhline(y=0,color='grey',linestyle=':',linewidth=0.8)\n",
        "\n",
        "if len(dy) > 1:\n",
        "  axs[1].plot(xx[:-1],dy,label=\"f'(x)\")\n",
        "else:\n",
        "  axs[1].plot(xx[:-1], np.full_like(xx[:-1], dy), label=\"f'(x)\")\n",
        "\n",
        "axs[1].axvline(x=0,color='grey',linestyle=':',linewidth=0.8)\n",
        "axs[1].axhline(y=0,color='grey',linestyle=':',linewidth=0.8)\n",
        "axs[1].legend()\n",
        "axs[1].set_title(\"$f'(x)$\")\n",
        "\n",
        "plt.tight_layout()\n",
        "\n",
        "plt.savefig('fig16_codechallenge_110_exercise_2.png')\n",
        "plt.show()\n",
        "files.download('fig16_codechallenge_110_exercise_2.png')\n",
        "\n",
        "# Analytical derivative\n",
        "analytical_df = sym.diff(y,x)\n",
        "display(Math(sym.latex(analytical_df)))\n"
      ]
    },
    {
      "cell_type": "code",
      "execution_count": null,
      "metadata": {
        "colab": {
          "base_uri": "https://localhost:8080/",
          "height": 689
        },
        "id": "SuhHUoFtn-kl",
        "outputId": "f4eadeb0-767b-4add-c0d6-7836540af3bf"
      },
      "outputs": [],
      "source": [
        "# %% Exercise 3\n",
        "#    Repeat exercise 1 but create 2 base functions, one for x and one for y,\n",
        "#    then multiply one x with one y and sum with another y*x function pair\n",
        "\n",
        "# Function\n",
        "x = sym.symbols('x')\n",
        "y = sym.symbols('y')\n",
        "\n",
        "poly_order = np.random.randint(1,5)\n",
        "transcend  = [sym.sin,sym.cos,sym.log,sym.exp]\n",
        "\n",
        "fx = np.random.randint(-5,6)*x**poly_order\n",
        "gx = np.random.randint(-5,6)*x**poly_order\n",
        "\n",
        "for t in np.random.choice(transcend, 2, replace=False):\n",
        "    fx *= np.random.choice((-1,1)) * t(x)\n",
        "\n",
        "for t in np.random.choice(transcend, 2, replace=False):\n",
        "    gx *= np.random.choice((-1,1)) * t(x)\n",
        "\n",
        "fy = np.random.randint(-5,6)*y**poly_order\n",
        "gy = np.random.randint(-5,6)*y**poly_order\n",
        "\n",
        "for t in np.random.choice(transcend, 2, replace=False):\n",
        "    fy *= np.random.choice((-1,1)) * t(y)\n",
        "\n",
        "for t in np.random.choice(transcend, 2, replace=False):\n",
        "    gy *= np.random.choice((-1,1)) * t(y)\n",
        "\n",
        "fg = fx*fy + gx*gy\n",
        "\n",
        "display(Math(sym.latex(fg)))\n",
        "\n",
        "# Function and flexible domain (for logs)\n",
        "D = [ -3,3 ]\n",
        "Dx_fx = sym.calculus.util.continuous_domain(fx, x, sym.S.Reals)\n",
        "Dx_gx = sym.calculus.util.continuous_domain(gx, x, sym.S.Reals)\n",
        "Dy_fy = sym.calculus.util.continuous_domain(fy, y, sym.S.Reals)\n",
        "Dy_gy = sym.calculus.util.continuous_domain(gy, y, sym.S.Reals)\n",
        "if Dx_fx.start == 0 or Dx_gx.start == 0:\n",
        "    x_min = 0.01\n",
        "if Dy_fy.start == 0 or Dy_gy.start == 0:\n",
        "    y_min = 0.01\n",
        "\n",
        "f = sym.lambdify((x,y),fg)\n",
        "xx  = np.linspace(D[0],D[1],1000)\n",
        "yy  = np.linspace(D[0],D[1],1000)\n",
        "X,Y = np.meshgrid(xx,yy)\n",
        "Z   = f(X,Y)\n",
        "\n",
        "# Implicit derivative\n",
        "df       = sym.idiff(fg,y,x)\n",
        "df_lambd = sym.lambdify((x,y),df)\n",
        "dZ       = df_lambd(X,Y)\n",
        "\n",
        "# Plot\n",
        "phi = ( 1 + np.sqrt(5) ) / 2\n",
        "_,axs = plt.subplots(2,1,figsize=(5*phi,5))\n",
        "axs[0].contour(X,Y,Z,levels=[0])\n",
        "axs[0].legend()\n",
        "axs[0].set_title(f'$f(x,y) = {sym.latex(fg)}$')\n",
        "axs[0].axvline(x=0,color='grey',linestyle=':',linewidth=0.8)\n",
        "axs[0].axhline(y=0,color='grey',linestyle=':',linewidth=0.8)\n",
        "\n",
        "axs[1].contour(X,Y,dZ,levels=[0])\n",
        "axs[1].set_title('Implicit derivative')\n",
        "axs[1].axvline(x=0,color='grey',linestyle=':',linewidth=0.8)\n",
        "axs[1].axhline(y=0,color='grey',linestyle=':',linewidth=0.8)\n",
        "\n",
        "plt.tight_layout()\n",
        "\n",
        "plt.savefig('fig18_codechallenge_110_exercise_3.png')\n",
        "plt.show()\n",
        "files.download('fig18_codechallenge_110_exercise_3.png')\n",
        "\n",
        "# Analytical derivative\n",
        "display(Math(sym.latex(df)))\n"
      ]
    }
  ],
  "metadata": {
    "colab": {
      "provenance": []
    },
    "kernelspec": {
      "display_name": "Python 3",
      "name": "python3"
    },
    "language_info": {
      "name": "python"
    }
  },
  "nbformat": 4,
  "nbformat_minor": 0
}
