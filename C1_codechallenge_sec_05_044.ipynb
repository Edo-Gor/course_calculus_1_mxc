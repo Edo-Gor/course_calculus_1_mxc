{
 "cells": [
  {
   "cell_type": "code",
   "execution_count": null,
   "metadata": {
    "id": "qOJ2xa-STzmE"
   },
   "outputs": [],
   "source": [
    "# %% Calculus 1 - Section 5.44\n",
    "#    Code challenge: limits via Zeno's paradox\n",
    "\n",
    "# This code pertains to a calculus course provided by Mike X. Cohen on Udemy:\n",
    "#   > https://www.udemy.com/course/pycalc1_x\n",
    "# The code in this repository is developed to solve the exercises provided along\n",
    "# the course, and it has been written partially indepentently and partially\n",
    "# from the code developed by the course instructor.\n"
   ]
  },
  {
   "cell_type": "code",
   "execution_count": null,
   "metadata": {
    "id": "F2WlWWrvT0ek"
   },
   "outputs": [],
   "source": [
    "import numpy             as np\n",
    "import sympy             as sym\n",
    "import matplotlib.pyplot as plt\n",
    "import math\n",
    "\n",
    "from IPython.display                  import display,Math\n",
    "from google.colab                     import files\n",
    "from matplotlib_inline.backend_inline import set_matplotlib_formats\n",
    "set_matplotlib_formats('svg')\n"
   ]
  },
  {
   "cell_type": "code",
   "execution_count": null,
   "metadata": {
    "colab": {
     "base_uri": "https://localhost:8080/",
     "height": 470
    },
    "executionInfo": {
     "elapsed": 440,
     "status": "ok",
     "timestamp": 1749248804956,
     "user": {
      "displayName": "Edoardo Gornetti",
      "userId": "05048424707797899325"
     },
     "user_tz": -120
    },
    "id": "H9VrayUxUC7v",
    "outputId": "248f1239-ad16-412f-a738-222751ad86a7"
   },
   "outputs": [],
   "source": [
    "# %% Exercise 1\n",
    "#    Reproduce the plot shown in the video with a domain (-pi,pi)\n",
    "\n",
    "x = np.linspace(-np.pi,np.pi,500)\n",
    "\n",
    "def f(x):\n",
    "    return (np.cos(x**2))**2 + np.pi\n",
    "\n",
    "# Plotting\n",
    "phi = ( 1 + np.sqrt(5) ) / 2\n",
    "fig = plt.figure(figsize=(5*phi,5))\n",
    "\n",
    "plt.plot(x,f(x))\n",
    "plt.axvline(x=0,color='grey',linestyle=':',linewidth=0.8)\n",
    "plt.axhline(y=3.6,color='grey',linestyle=':',linewidth=0.8)\n",
    "\n",
    "plt.title(\"A function\")\n",
    "plt.xlabel('$x$')\n",
    "plt.ylabel('$f(x)$')\n",
    "plt.legend(['$y=\\\\cos^2(x^2)+\\\\pi$'])\n",
    "plt.xlim(-np.pi,np.pi)\n",
    "\n",
    "plt.savefig('fig1_codechallenge_44_exercise_1.png')\n",
    "plt.show()\n",
    "files.download('fig1_codechallenge_44_exercise_1.png')\n"
   ]
  },
  {
   "cell_type": "code",
   "execution_count": null,
   "metadata": {
    "colab": {
     "base_uri": "https://localhost:8080/"
    },
    "executionInfo": {
     "elapsed": 8,
     "status": "ok",
     "timestamp": 1749253251908,
     "user": {
      "displayName": "Edoardo Gornetti",
      "userId": "05048424707797899325"
     },
     "user_tz": -120
    },
    "id": "2MtrOWauVBLe",
    "outputId": "3c7240f7-efea-4432-ed79-88693e4f057a"
   },
   "outputs": [],
   "source": [
    "# %% Exercise 2\n",
    "#    Implement an algorithm to approoximate a limit via Zeno's paradox; compute\n",
    "#    the limit for x->1 for the above function, start x0 = [a-1,a+1] with a = 1,\n",
    "#    iterate n times and get f(x) at the two points in x0, then update x0 to be\n",
    "#    (x0+a)/2; finally print limit from both left and right side, and the actual\n",
    "#    value of f(a)\n",
    "\n",
    "a  = 1.\n",
    "x0 = np.array([a-1,a+1])\n",
    "\n",
    "x_vals     = np.zeros((iter,2))\n",
    "limit_vals = np.zeros((iter,2))\n",
    "\n",
    "iter = 10\n",
    "\n",
    "for i in range(iter):\n",
    "\n",
    "    x_vals[i,:]     = x0\n",
    "    limit_vals[i,:] = f(x0)\n",
    "\n",
    "    x0 = (x0+a)/2\n",
    "\n",
    "print('Limit from the left:')\n",
    "print(x_vals)\n",
    "print('\\nLimit from the right:')\n",
    "print(limit_vals)\n",
    "print(f'\\nFunction value at x = {a}')\n",
    "print(f(a))\n"
   ]
  },
  {
   "cell_type": "code",
   "execution_count": null,
   "metadata": {
    "colab": {
     "base_uri": "https://localhost:8080/"
    },
    "collapsed": true,
    "executionInfo": {
     "elapsed": 10,
     "status": "ok",
     "timestamp": 1749253132203,
     "user": {
      "displayName": "Edoardo Gornetti",
      "userId": "05048424707797899325"
     },
     "user_tz": -120
    },
    "id": "Xoazb22-ky4X",
    "outputId": "26f55049-f1dc-413a-e9a4-781c3bbf94e4"
   },
   "outputs": [],
   "source": [
    "# %% Further intuition\n",
    "#    Note how by scaling by bigger and bigger number the approximation gets\n",
    "#    better faster (here if alpha=0.5 you get the update (x0 + a)/2 as above);\n",
    "#    this intuition will be useful for integrals\n",
    "\n",
    "a     = 1.\n",
    "alpha = 0.75\n",
    "x0    = np.array([a-1,a+1])\n",
    "\n",
    "iter = 10\n",
    "\n",
    "x_vals     = np.zeros((iter,2))\n",
    "limit_vals = np.zeros((iter,2))\n",
    "\n",
    "for i in range(iter):\n",
    "\n",
    "    x_vals[i,:]     = x0\n",
    "    limit_vals[i,:] = f(x0)\n",
    "\n",
    "    x0 = x0 + alpha*(a-x0)\n",
    "\n",
    "print('Values of x approached from left and right:')\n",
    "print(x_vals)\n",
    "print('\\nLimit from left and right:')\n",
    "print(limit_vals)\n",
    "print(f'\\nFunction value at x = {a}')\n",
    "print(f(a))\n"
   ]
  },
  {
   "cell_type": "code",
   "execution_count": null,
   "metadata": {
    "colab": {
     "base_uri": "https://localhost:8080/",
     "height": 470
    },
    "executionInfo": {
     "elapsed": 624,
     "status": "ok",
     "timestamp": 1749254419394,
     "user": {
      "displayName": "Edoardo Gornetti",
      "userId": "05048424707797899325"
     },
     "user_tz": -120
    },
    "id": "M_5p5Ba8VDwD",
    "outputId": "88637b18-7c8b-4859-9351-882c90b10968"
   },
   "outputs": [],
   "source": [
    "# %% Exercise 3\n",
    "#    Visualise the results of the Zeno's algorithm on the function graph\n",
    "\n",
    "# Plotting\n",
    "phi = ( 1 + np.sqrt(5) ) / 2\n",
    "fig = plt.figure(figsize=(5*phi,5))\n",
    "\n",
    "n_points = len(limit_vals)\n",
    "alphas   = np.linspace(0.3,0.9,n_points)\n",
    "\n",
    "plt.plot(x,f(x))\n",
    "for i in range(n_points):\n",
    "    plt.plot(x_vals[i,0],limit_vals[i,0],'o',color='tab:orange',alpha=alphas[i])\n",
    "    plt.plot(x_vals[i,1],limit_vals[i,1],'o',color='tab:green',alpha=alphas[i])\n",
    "plt.axvline(x=0,color='grey',linestyle=':',linewidth=0.8)\n",
    "plt.axvline(x=1,color='grey',linestyle='-',linewidth=0.8)\n",
    "plt.axhline(y=3.6,color='grey',linestyle=':',linewidth=0.8)\n",
    "plt.axhline(y=f(1),color='grey',linestyle='-',linewidth=0.8)\n",
    "\n",
    "plt.title(f'Function value at f({a}) = {f(1):.7f}')\n",
    "plt.xlabel('$x$')\n",
    "plt.ylabel('$f(x)$')\n",
    "plt.legend(['$y=\\\\cos^2(x^2)+\\\\pi$','Left path','Right path'])\n",
    "plt.xlim(-np.pi,np.pi)\n",
    "\n",
    "plt.savefig('fig2_codechallenge_44_exercise_3.png')\n",
    "plt.show()\n",
    "files.download('fig2_codechallenge_44_exercise_3.png')\n"
   ]
  }
 ],
 "metadata": {
  "colab": {
   "authorship_tag": "ABX9TyOFxkvvtKF0Sf/wa9mSDWSz",
   "provenance": []
  },
  "kernelspec": {
   "display_name": "Python 3",
   "name": "python3"
  },
  "language_info": {
   "name": "python"
  }
 },
 "nbformat": 4,
 "nbformat_minor": 0
}
