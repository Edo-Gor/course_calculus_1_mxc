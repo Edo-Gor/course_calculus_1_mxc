{
 "cells": [
  {
   "cell_type": "code",
   "execution_count": null,
   "metadata": {
    "id": "M34GicZ66od0"
   },
   "outputs": [],
   "source": [
    "# %% Calculus 1 - Section 3.24\n",
    "#    Code challenge: trigonometry\n",
    "\n",
    "# This code pertains to a calculus course provided by Mike X. Cohen on Udemy:\n",
    "#   > https://www.udemy.com/course/pycalc1_x\n",
    "# The code in this repository is developed to solve the exercises provided along\n",
    "# the course, and it has been written partially indepentently and partially\n",
    "# from the code developed by the course instructor.\n"
   ]
  },
  {
   "cell_type": "code",
   "execution_count": null,
   "metadata": {
    "id": "6w22w83N6549"
   },
   "outputs": [],
   "source": [
    "import numpy             as np\n",
    "import sympy             as sym\n",
    "import matplotlib.pyplot as plt\n",
    "import math\n",
    "\n",
    "from IPython.display                  import display,Math\n",
    "from google.colab                     import files\n",
    "from matplotlib_inline.backend_inline import set_matplotlib_formats\n",
    "set_matplotlib_formats('svg')\n"
   ]
  },
  {
   "cell_type": "code",
   "execution_count": null,
   "metadata": {
    "colab": {
     "base_uri": "https://localhost:8080/",
     "height": 545
    },
    "executionInfo": {
     "elapsed": 447,
     "status": "ok",
     "timestamp": 1747169212679,
     "user": {
      "displayName": "Edoardo Gornetti",
      "userId": "05048424707797899325"
     },
     "user_tz": -120
    },
    "id": "5aaZaBc2TjtI",
    "outputId": "dfdce080-d053-4eba-bcaf-e6fceaa221f2"
   },
   "outputs": [],
   "source": [
    "# %% Exercise 1\n",
    "#    Reproduce the plot shown in the video with a domain (-pi,2pi)\n",
    "\n",
    "# Functions\n",
    "th = np.linspace(-np.pi,2*np.pi,500)\n",
    "\n",
    "y1 = np.sin(th)\n",
    "y2 = np.sin(th)**2\n",
    "y3 = np.sin(th**2)\n",
    "\n",
    "# Plotting\n",
    "fig = plt.figure(figsize=(8,6))\n",
    "\n",
    "plt.plot(th,y1)\n",
    "plt.plot(th,y2)\n",
    "plt.plot(th,y3)\n",
    "\n",
    "plt.title(\"Some trigonometric functions\")\n",
    "plt.xlabel('$radiants$')\n",
    "plt.ylabel('$f(x)$')\n",
    "plt.grid(True)\n",
    "plt.legend(['$y=\\\\sin(x)$','$y=\\\\sin^2(x)$','$y=\\\\sin(x^2)$'])\n",
    "plt.xlim(-np.pi,2*np.pi)\n",
    "\n",
    "plt.savefig('fig15_codechallenge_24_exercise_1.png')\n",
    "plt.show()\n",
    "files.download('fig15_codechallenge_24_exercise_1.png')\n"
   ]
  },
  {
   "cell_type": "code",
   "execution_count": null,
   "metadata": {
    "colab": {
     "base_uri": "https://localhost:8080/",
     "height": 545
    },
    "executionInfo": {
     "elapsed": 544,
     "status": "ok",
     "timestamp": 1747169294779,
     "user": {
      "displayName": "Edoardo Gornetti",
      "userId": "05048424707797899325"
     },
     "user_tz": -120
    },
    "id": "1mebss2VU58k",
    "outputId": "aa1f99cd-b98d-4a06-862b-53520fa377a1"
   },
   "outputs": [],
   "source": [
    "# %% Exercise 2\n",
    "#    Reproduce the plot shown in the video with a domain (-pi,2pi)\n",
    "\n",
    "# Functions\n",
    "th = np.linspace(-np.pi,2*np.pi,500)\n",
    "\n",
    "y1 = np.sin(np.cos(th))\n",
    "y2 = np.cos(np.sin(th))\n",
    "y3 = np.cos(th)\n",
    "\n",
    "# Plotting\n",
    "fig = plt.figure(figsize=(8,6))\n",
    "\n",
    "plt.plot(th,y1)\n",
    "plt.plot(th,y2)\n",
    "plt.plot(th,y3)\n",
    "\n",
    "plt.title(\"Some trigonometric functions\")\n",
    "plt.xlabel('$radiants$')\n",
    "plt.ylabel('$f(x)$')\n",
    "plt.grid(True)\n",
    "plt.legend(['$y=\\\\sin(\\\\cos(x))$','$y=\\\\cos(\\\\sin(x))$','$y=\\\\cos(x)$'])\n",
    "plt.xlim(-np.pi,2*np.pi)\n",
    "\n",
    "plt.savefig('fig16_codechallenge_24_exercise_2.png')\n",
    "plt.show()\n",
    "files.download('fig16_codechallenge_24_exercise_2.png')\n"
   ]
  },
  {
   "cell_type": "code",
   "execution_count": null,
   "metadata": {
    "colab": {
     "base_uri": "https://localhost:8080/",
     "height": 545
    },
    "executionInfo": {
     "elapsed": 392,
     "status": "ok",
     "timestamp": 1747170089840,
     "user": {
      "displayName": "Edoardo Gornetti",
      "userId": "05048424707797899325"
     },
     "user_tz": -120
    },
    "id": "Lz-SfpmwU6iC",
    "outputId": "b95a8517-d371-4c81-dc59-a0cfa5a3b587"
   },
   "outputs": [],
   "source": [
    "# %% Exercise 3\n",
    "#    Reproduce the plot shown in the video with a domain (0,2pi) and a variable\n",
    "#    amount of datapoints (100,1000,100000)\n",
    "\n",
    "# Functions\n",
    "th1 = np.linspace(0,2*np.pi,100)\n",
    "th2 = np.linspace(0,2*np.pi,1000)\n",
    "th3 = np.linspace(0,2*np.pi,10000)\n",
    "\n",
    "y1 = np.tan(th1)\n",
    "y2 = np.tan(th2)\n",
    "y3 = np.tan(th3)\n",
    "\n",
    "# Plotting\n",
    "fig = plt.figure(figsize=(8,6))\n",
    "\n",
    "plt.plot(th3,y3,'o-',alpha=0.5)\n",
    "plt.plot(th2,y2,'o-',alpha=0.5)\n",
    "plt.plot(th1,y1,'o-',alpha=0.5)\n",
    "\n",
    "plt.title(\"Some tangent functions at different sampling rate\")\n",
    "plt.xlabel('$radiants$')\n",
    "plt.ylabel('$f(x)$')\n",
    "plt.grid(True)\n",
    "plt.legend(['10000 pnts','100 pnts','100 pnts'])\n",
    "#plt.xlim(0,2*np.pi)\n",
    "plt.xlim(1.55,1.6)\n",
    "plt.ylim(-450,450)\n",
    "\n",
    "plt.savefig('fig17_codechallenge_24_exercise_3.png')\n",
    "plt.show()\n",
    "files.download('fig17_codechallenge_24_exercise_3.png')\n"
   ]
  }
 ],
 "metadata": {
  "colab": {
   "authorship_tag": "ABX9TyORGzj6Yzb57g8rH8aWZltd",
   "provenance": []
  },
  "kernelspec": {
   "display_name": "Python 3",
   "name": "python3"
  },
  "language_info": {
   "name": "python"
  }
 },
 "nbformat": 4,
 "nbformat_minor": 0
}
