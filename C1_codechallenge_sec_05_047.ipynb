{
 "cells": [
  {
   "cell_type": "code",
   "execution_count": null,
   "metadata": {
    "id": "qOJ2xa-STzmE"
   },
   "outputs": [],
   "source": [
    "# %% Calculus 1 - Section 5.47\n",
    "#    Code challenge: limits in numpy and sympy - I\n",
    "\n",
    "# This code pertains to a calculus course provided by Mike X. Cohen on Udemy:\n",
    "#   > https://www.udemy.com/course/pycalc1_x\n",
    "# The code in this repository is developed to solve the exercises provided along\n",
    "# the course, and it has been written partially indepentently and partially\n",
    "# from the code developed by the course instructor.\n"
   ]
  },
  {
   "cell_type": "code",
   "execution_count": null,
   "metadata": {
    "id": "F2WlWWrvT0ek"
   },
   "outputs": [],
   "source": [
    "import numpy             as np\n",
    "import sympy             as sym\n",
    "import matplotlib.pyplot as plt\n",
    "import math\n",
    "\n",
    "from IPython.display                  import display,Math\n",
    "from google.colab                     import files\n",
    "from matplotlib_inline.backend_inline import set_matplotlib_formats\n",
    "set_matplotlib_formats('svg')\n"
   ]
  },
  {
   "cell_type": "code",
   "execution_count": null,
   "metadata": {
    "id": "yVNk_QH1lslE"
   },
   "outputs": [],
   "source": [
    "# %% Exercise 1\n",
    "#    Reproduce the plot shown in the video with a domain (0.01,2*pi), and\n",
    "#    estimate the limit for x->3 using the method you prefer (both positive and\n",
    "#    negative limits)\n",
    "\n",
    "x = np.linspace(0.01,2*np.pi,600)\n",
    "\n",
    "def f(x):\n",
    "    return np.cos(x*np.pi) + np.log(x)**2\n",
    "\n",
    "# Plotting\n",
    "phi = ( 1 + np.sqrt(5) ) / 2\n",
    "fig = plt.figure(figsize=(5*phi,5))\n",
    "\n",
    "plt.plot(x,f(x))\n",
    "plt.axvline(x=0,color='grey',linestyle=':',linewidth=0.8)\n",
    "plt.axhline(y=0,color='grey',linestyle=':',linewidth=0.8)\n",
    "\n",
    "plt.title(\"A function\")\n",
    "plt.xlabel('$x$')\n",
    "plt.ylabel('$f(x)$')\n",
    "plt.legend(['$y=\\\\cos(x\\\\pi)+\\\\ln(x)^2$'])\n",
    "plt.xlim(0,2*np.pi)\n",
    "plt.ylim(-1.5,7)\n",
    "\n",
    "plt.savefig('fig3_codechallenge_47_exercise_1.png')\n",
    "plt.show()\n",
    "files.download('fig3_codechallenge_47_exercise_1.png')\n",
    "\n",
    "# Limit with modified 'Zeno's algorithm' (steps longer than 1/2, if alpha = 0.5\n",
    "# it's the same as Zeno's algorithm)\n",
    "a     = 3.\n",
    "alpha = 0.75\n",
    "x0    = np.array([a-1,a+1])\n",
    "\n",
    "iter = 10\n",
    "\n",
    "x_vals     = np.zeros((iter,2))\n",
    "limit_vals = np.zeros((iter,2))\n",
    "\n",
    "for i in range(iter):\n",
    "\n",
    "    x_vals[i,:]     = x0\n",
    "    limit_vals[i,:] = f(x0)\n",
    "\n",
    "    x0 = x0 + alpha*(a-x0)\n",
    "\n",
    "print('Values of x approached from left and right:')\n",
    "print(x_vals)\n",
    "print('\\nLimit from left and right:')\n",
    "print(limit_vals)\n",
    "print(f'\\nFunction value at x = {a}')\n",
    "print(f(a))\n",
    "\n",
    "# Plotting\n",
    "phi = ( 1 + np.sqrt(5) ) / 2\n",
    "fig = plt.figure(figsize=(5*phi,5))\n",
    "\n",
    "n_points = len(limit_vals)\n",
    "alphas   = np.linspace(0.3,0.9,n_points)\n",
    "\n",
    "plt.plot(x,f(x))\n",
    "for i in range(n_points):\n",
    "    plt.plot(x_vals[i,0],limit_vals[i,0],'o',color='tab:orange',alpha=alphas[i])\n",
    "    plt.plot(x_vals[i,1],limit_vals[i,1],'o',color='tab:green',alpha=alphas[i])\n",
    "plt.axvline(x=0,color='grey',linestyle=':',linewidth=0.8)\n",
    "plt.axvline(x=3,color='grey',linestyle='-',linewidth=0.8)\n",
    "plt.axhline(y=f(3),color='grey',linestyle='-',linewidth=0.8)\n",
    "\n",
    "plt.title(f'Function value at f({a}) = {f(3):.7f}')\n",
    "plt.xlabel('$x$')\n",
    "plt.ylabel('$f(x)$')\n",
    "plt.legend(['$y=\\\\cos(x\\\\pi)+\\\\ln(x)^2$','Left path','Right path'])\n",
    "plt.xlim(2.6,3.4)\n",
    "plt.ylim(-1,2)\n",
    "\n",
    "plt.savefig('fig4_codechallenge_47_exercise_1.png')\n",
    "plt.show()\n",
    "files.download('fig4_codechallenge_47_exercise_1.png')\n"
   ]
  },
  {
   "cell_type": "code",
   "execution_count": null,
   "metadata": {
    "colab": {
     "base_uri": "https://localhost:8080/"
    },
    "executionInfo": {
     "elapsed": 13,
     "status": "ok",
     "timestamp": 1749406672175,
     "user": {
      "displayName": "Edoardo Gornetti",
      "userId": "05048424707797899325"
     },
     "user_tz": -120
    },
    "id": "K8VobL30mUbA",
    "outputId": "990a7d11-f757-4d36-b67b-bb85883b2c82"
   },
   "outputs": [],
   "source": [
    "# %% Exercise 2\n",
    "#    Impement the same function in sympy and compute the analytic limits in\n",
    "#    sympy, also compute the function value at the limit in sympy and numpy\n",
    "\n",
    "# Function\n",
    "x = sym.symbols('x')\n",
    "g = sym.cos(x*sym.pi) + sym.log(x)**2\n",
    "v = 3\n",
    "\n",
    "# Limits\n",
    "v_left  = sym.limit(g,x,v,'+')\n",
    "v_right = sym.limit(g,x,v,'-')\n",
    "\n",
    "# Print out\n",
    "print( f'Limit as x approaches {v} from the left: \\n{v_left}.\\n' )\n",
    "print( f'Limit as x approaches {v} from the right: \\n{v_right}.\\n' )\n",
    "print( f'Function value at limit (sympy): \\n{g.subs(x,v)}.\\n' )\n",
    "print( f'Function value at limit (numpy): \\n{f(v):.10f}.\\n' )\n"
   ]
  }
 ],
 "metadata": {
  "colab": {
   "authorship_tag": "ABX9TyP1TDxBvHBU9H/0h6jDqRJZ",
   "provenance": []
  },
  "kernelspec": {
   "display_name": "Python 3",
   "name": "python3"
  },
  "language_info": {
   "name": "python"
  }
 },
 "nbformat": 4,
 "nbformat_minor": 0
}
