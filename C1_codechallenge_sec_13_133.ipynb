{
  "cells": [
    {
      "cell_type": "code",
      "execution_count": null,
      "metadata": {
        "id": "xYfsQvXxPsoD"
      },
      "outputs": [],
      "source": [
        "# %% Calculus 1 - Section 13.133\n",
        "#    Code challenge: fun with 2D functions in numpy - I\n",
        "\n",
        "# This code pertains to a calculus course provided by Mike X. Cohen on Udemy:\n",
        "#   > https://www.udemy.com/course/pycalc1_x\n",
        "# The code in this repository is developed to solve the exercises provided along\n",
        "# the course, and it has been written partially indepentently and partially\n",
        "# from the code developed by the course instructor.\n"
      ]
    },
    {
      "cell_type": "code",
      "execution_count": 1,
      "metadata": {
        "id": "vd_wy4xAQC4E"
      },
      "outputs": [],
      "source": [
        "import numpy             as np\n",
        "import sympy             as sym\n",
        "import matplotlib.pyplot as plt\n",
        "import math\n",
        "\n",
        "from scipy.signal                     import find_peaks\n",
        "from IPython.display                  import display,Math\n",
        "from google.colab                     import files\n",
        "from matplotlib_inline.backend_inline import set_matplotlib_formats\n",
        "set_matplotlib_formats('svg')\n"
      ]
    },
    {
      "cell_type": "code",
      "execution_count": null,
      "metadata": {
        "colab": {
          "base_uri": "https://localhost:8080/",
          "height": 453
        },
        "id": "q5IVcgPTvJYK",
        "outputId": "13a9e59d-6e5d-4777-85ee-dfb2266548a6"
      },
      "outputs": [],
      "source": [
        "# %% Exercise 1\n",
        "#    Plot the 2D function shown in the video using for loops and numpy\n",
        "\n",
        "# Function\n",
        "dx = np.pi/6\n",
        "xx = np.arange(0,2*np.pi+dx/2,dx)\n",
        "\n",
        "Z = np.zeros((len(xx),len(xx)))\n",
        "\n",
        "for i,x in enumerate(xx):\n",
        "    for j,y in enumerate(xx):\n",
        "        Z[j,i] = np.sin(x) + np.cos(y)\n",
        "\n",
        "# Plot\n",
        "phi = (1 + np.sqrt(5)) / 2\n",
        "plt.figure(figsize=(5*phi,5))\n",
        "\n",
        "plt.axes(aspect='equal')\n",
        "plt.imshow(Z,origin='lower',extent=[xx[0],xx[-1],xx[0],xx[-1]],cmap='plasma')\n",
        "ticks       = np.arange(0,2*np.pi+.01,np.pi/2)\n",
        "tick_labels = [r'$0$',r'$\\pi/2$',r'$\\pi$',r'$3\\pi/2$',r'$2\\pi$']\n",
        "plt.xticks(ticks,labels=tick_labels)\n",
        "plt.yticks(ticks,labels=tick_labels)\n",
        "plt.colorbar()\n",
        "plt.title('$f(x,y)=sin(x)+cos(y)$')\n",
        "\n",
        "plt.savefig('fig1_codechallenge_133_exercise_1.png')\n",
        "plt.show()\n",
        "files.download('fig1_codechallenge_133_exercise_1.png')\n"
      ]
    },
    {
      "cell_type": "code",
      "execution_count": null,
      "metadata": {
        "colab": {
          "base_uri": "https://localhost:8080/",
          "height": 489
        },
        "id": "AG6za8Eswm0Z",
        "outputId": "f9632938-667a-4050-f259-e7dfc50061e3"
      },
      "outputs": [],
      "source": [
        "# %% Exercise 2\n",
        "#    Create a grid to evaluate functions\n",
        "\n",
        "# Grid\n",
        "xx  = np.linspace(0,2*np.pi,15)\n",
        "X,Y = np.meshgrid(xx,xx)\n",
        "\n",
        "# Plot\n",
        "phi   = ( 1 + np.sqrt(5) ) / 2\n",
        "_,axs = plt.subplots(1,2,figsize=(1.5*5*phi,5))\n",
        "\n",
        "ticks       = np.arange(0,2*np.pi+.01,np.pi/2)\n",
        "tick_labels = [r'$0$',r'$\\pi/2$',r'$\\pi$',r'$3\\pi/2$',r'$2\\pi$']\n",
        "\n",
        "axs[0].set_aspect('equal')\n",
        "axs[0].imshow(X,origin='lower',extent=[xx[0],xx[-1],xx[0],xx[-1]],cmap='plasma')\n",
        "axs[0].set_xticks(ticks)\n",
        "axs[0].set_yticks(ticks)\n",
        "axs[0].set_xticklabels(tick_labels)\n",
        "axs[0].set_yticklabels(tick_labels)\n",
        "axs[0].set_title('X grid')\n",
        "\n",
        "axs[1].set_aspect('equal')\n",
        "im = axs[1].imshow(Y,origin='lower',extent=[xx[0],xx[-1],xx[0],xx[-1]],cmap='plasma')\n",
        "axs[1].set_xticks(ticks)\n",
        "axs[1].set_yticks(ticks)\n",
        "axs[1].set_xticklabels(tick_labels)\n",
        "axs[1].set_yticklabels(tick_labels)\n",
        "plt.colorbar(im, ax=axs[1])\n",
        "axs[1].set_title('Y grid')\n",
        "\n",
        "plt.tight_layout()\n",
        "\n",
        "plt.savefig('fig2_codechallenge_133_exercise_2.png')\n",
        "plt.show()\n",
        "files.download('fig2_codechallenge_133_exercise_2.png')\n"
      ]
    },
    {
      "cell_type": "code",
      "execution_count": null,
      "metadata": {
        "colab": {
          "base_uri": "https://localhost:8080/",
          "height": 453
        },
        "id": "k5-3peyowlf9",
        "outputId": "f593062d-3377-4524-b379-751920fcc8b6"
      },
      "outputs": [],
      "source": [
        "# %% Exercise 3\n",
        "#    Create and visualise the 2D function without for loops\n",
        "\n",
        "# Function\n",
        "xx  = np.linspace(0,2*np.pi,15)\n",
        "X,Y = np.meshgrid(xx,xx)\n",
        "Z   = np.sin(X) + np.cos(Y)\n",
        "\n",
        "# Plot\n",
        "phi = (1 + np.sqrt(5)) / 2\n",
        "plt.figure(figsize=(5*phi,5))\n",
        "\n",
        "plt.axes(aspect='equal')\n",
        "plt.imshow(Z,origin='lower',extent=[xx[0],xx[-1],xx[0],xx[-1]],cmap='plasma')\n",
        "ticks       = np.arange(0,2*np.pi+.01,np.pi/2)\n",
        "tick_labels = [r'$0$',r'$\\pi/2$',r'$\\pi$',r'$3\\pi/2$',r'$2\\pi$']\n",
        "plt.xticks(ticks,labels=tick_labels)\n",
        "plt.yticks(ticks,labels=tick_labels)\n",
        "plt.colorbar()\n",
        "plt.title('$f(x,y)=sin(x)+cos(y)$')\n",
        "\n",
        "plt.savefig('fig3_codechallenge_133_exercise_3.png')\n",
        "plt.show()\n",
        "files.download('fig3_codechallenge_133_exercise_3.png')\n"
      ]
    }
  ],
  "metadata": {
    "colab": {
      "provenance": []
    },
    "kernelspec": {
      "display_name": "Python 3",
      "name": "python3"
    },
    "language_info": {
      "name": "python"
    }
  },
  "nbformat": 4,
  "nbformat_minor": 0
}
