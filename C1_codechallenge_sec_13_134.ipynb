{
  "cells": [
    {
      "cell_type": "code",
      "execution_count": 1,
      "metadata": {
        "id": "xYfsQvXxPsoD"
      },
      "outputs": [],
      "source": [
        "# %% Calculus 1 - Section 13.134\n",
        "#    Code challenge: fun with 2D functions in numpy - II\n",
        "\n",
        "# This code pertains to a calculus course provided by Mike X. Cohen on Udemy:\n",
        "#   > https://www.udemy.com/course/pycalc1_x\n",
        "# The code in this repository is developed to solve the exercises provided along\n",
        "# the course, and it has been written partially indepentently and partially\n",
        "# from the code developed by the course instructor.\n"
      ]
    },
    {
      "cell_type": "code",
      "execution_count": null,
      "metadata": {
        "id": "NIHaME93IUMG"
      },
      "outputs": [],
      "source": [
        "pip install kaleido==0.2.1\n"
      ]
    },
    {
      "cell_type": "code",
      "execution_count": 2,
      "metadata": {
        "id": "vd_wy4xAQC4E"
      },
      "outputs": [],
      "source": [
        "import numpy                as np\n",
        "import sympy                as sym\n",
        "import matplotlib.pyplot    as plt\n",
        "import math\n",
        "import plotly.graph_objects as go\n",
        "\n",
        "from scipy.signal                     import find_peaks\n",
        "from IPython.display                  import display,Math\n",
        "from google.colab                     import files\n",
        "from matplotlib_inline.backend_inline import set_matplotlib_formats\n",
        "set_matplotlib_formats('svg')\n"
      ]
    },
    {
      "cell_type": "code",
      "execution_count": null,
      "metadata": {
        "colab": {
          "base_uri": "https://localhost:8080/",
          "height": 506
        },
        "id": "IlG9o3Kw4vF0",
        "outputId": "71fb6ad9-735e-4102-b054-a62394dcea00"
      },
      "outputs": [],
      "source": [
        "# %% Exercise 4\n",
        "#    Plot the function shown in the video as a 2D surface in 3D function using\n",
        "#    matplotlib\n",
        "\n",
        "# Function\n",
        "xx  = np.linspace(0,2*np.pi,15)\n",
        "X,Y = np.meshgrid(xx,xx)\n",
        "Z   = np.sin(X) + np.cos(Y)\n",
        "\n",
        "# Plot\n",
        "phi = (1 + np.sqrt(5)) / 2\n",
        "fig = plt.figure(figsize=(6*phi,6))\n",
        "ax = fig.add_subplot(111, projection='3d')\n",
        "ax.plot_surface(X,Y,Z,cmap='plasma')\n",
        "ax.set_xlabel('$x$')\n",
        "ax.set_ylabel('$y$')\n",
        "\n",
        "ticks       = np.arange(0,2*np.pi+.01,np.pi/2)\n",
        "tick_labels = [r'$0$',r'$\\pi/2$',r'$\\pi$',r'$3\\pi/2$',r'$2\\pi$']\n",
        "ax.set_xticks(ticks,labels=tick_labels)\n",
        "ax.set_yticks(ticks,labels=tick_labels)\n",
        "plt.title('$f(x,y)=sin(x)+cos(y)$')\n",
        "\n",
        "plt.savefig('fig4_codechallenge_134_exercise_4.png')\n",
        "plt.show()\n",
        "files.download('fig4_codechallenge_134_exercise_4.png')\n"
      ]
    },
    {
      "cell_type": "code",
      "execution_count": null,
      "metadata": {
        "colab": {
          "base_uri": "https://localhost:8080/",
          "height": 517
        },
        "id": "fdVVDumWC46M",
        "outputId": "5677d8b5-9bb1-4953-d56f-6b8aae889866"
      },
      "outputs": [],
      "source": [
        "# %% Exercise 5\n",
        "#    Plot the function shown in the video as a 2D surface in 3D function using\n",
        "#    plotly\n",
        "\n",
        "# Function\n",
        "xx  = np.linspace(0,2*np.pi,15)\n",
        "X,Y = np.meshgrid(xx,xx)\n",
        "Z   = np.sin(X) + np.cos(Y)\n",
        "\n",
        "# Plot\n",
        "phi = (1 + np.sqrt(5)) / 2\n",
        "fig = go.Figure(data=[go.Surface(x=xx,y=xx,z=Z)])\n",
        "fig.update_layout(title='$f(x,y)=sin(x)+cos(y)$',autosize=False,height=500)\n",
        "fig.update_layout(scene=dict(xaxis_title='x',yaxis_title='y',zaxis_title='f(x,y)'))\n",
        "\n",
        "fig.write_image('fig5_codechallenge_134_exercise_5.png')\n",
        "fig.show()\n",
        "files.download('fig5_codechallenge_134_exercise_5.png')\n"
      ]
    },
    {
      "cell_type": "code",
      "execution_count": null,
      "metadata": {
        "colab": {
          "base_uri": "https://localhost:8080/",
          "height": 517
        },
        "id": "vV86WQG0C-tR",
        "outputId": "ad6ebafb-2e00-4313-9148-d0e9efd0d0a4"
      },
      "outputs": [],
      "source": [
        "# %% Exercise 6a\n",
        "#    Plot the 5-dimentional function shown in the video as a 2D surface in 3D\n",
        "#    function (by fixing some of the variable values) using plotly\n",
        "\n",
        "# Function\n",
        "f   = 0.05\n",
        "ph  = np.pi/4\n",
        "sig = 3*np.pi\n",
        "\n",
        "xx  = np.arange(-30,31)\n",
        "X,Y = np.meshgrid(xx,xx)\n",
        "U   = X*np.cos(ph) + Y*np.sin(ph)\n",
        "Z1  = np.sin(2*np.pi*f*U)\n",
        "Z2  = np.exp(-(X**2+Y**2)/(2*sig**2))\n",
        "Z   = Z1*Z2\n",
        "\n",
        "# Plot\n",
        "phi = (1 + np.sqrt(5)) / 2\n",
        "fig = go.Figure(data=[go.Surface(x=xx,y=xx,z=Z)])\n",
        "fig.update_layout(title='$f(x,y)$',autosize=False,height=500)\n",
        "fig.update_layout(scene=dict(xaxis_title='x',yaxis_title='y',zaxis_title='f(x,y)'))\n",
        "\n",
        "fig.write_image('fig6_codechallenge_134_exercise_6a.png')\n",
        "fig.show()\n",
        "files.download('fig6_codechallenge_134_exercise_6a.png')\n"
      ]
    },
    {
      "cell_type": "code",
      "execution_count": null,
      "metadata": {
        "colab": {
          "base_uri": "https://localhost:8080/",
          "height": 517
        },
        "id": "YypgeNL1C-m0",
        "outputId": "e5b160cc-6eb0-4e3b-fcac-e22b24ace88c"
      },
      "outputs": [],
      "source": [
        "# %% Exercise 6b\n",
        "#    Plot the function shown in the video as a 2D surface in 3D function using\n",
        "#    plotly\n",
        "\n",
        "# Function\n",
        "xx  = np.linspace(-np.pi,np.pi,100)\n",
        "X,Y = np.meshgrid(xx,xx)\n",
        "Z   = np.sin(X + Y**2)\n",
        "\n",
        "# Plot\n",
        "phi = (1 + np.sqrt(5)) / 2\n",
        "fig = go.Figure(data=[go.Surface(x=xx,y=xx,z=Z)])\n",
        "fig.update_layout(title='$f(x,y)=sin(x+y^2)$',autosize=False,height=500)\n",
        "fig.update_layout(scene=dict(xaxis_title='x',yaxis_title='y',zaxis_title='f(x,y)'))\n",
        "\n",
        "fig.write_image('fig7_codechallenge_134_exercise_6b.png')\n",
        "fig.show()\n",
        "files.download('fig7_codechallenge_134_exercise_6b.png')\n"
      ]
    },
    {
      "cell_type": "code",
      "execution_count": null,
      "metadata": {
        "colab": {
          "base_uri": "https://localhost:8080/",
          "height": 517
        },
        "id": "QoqcsHsVK_VF",
        "outputId": "40dc37b0-e311-4e65-f03a-2d6ec691b7a0"
      },
      "outputs": [],
      "source": [
        "# %% Exercise 6c\n",
        "#    Plot the function shown in the video as a 2D surface in 3D function using\n",
        "#    plotly\n",
        "\n",
        "# Function\n",
        "xx  = np.linspace(-1,1,25)\n",
        "\n",
        "X,Y = np.meshgrid(xx,xx)\n",
        "Z   = X**2 + Y**2\n",
        "\n",
        "# Plot\n",
        "phi = (1 + np.sqrt(5)) / 2\n",
        "fig = go.Figure(data=[go.Surface(x=xx,y=xx,z=Z)])\n",
        "fig.update_layout(title='$f(x,y)=x^2+y^2$',autosize=False,height=500)\n",
        "fig.update_layout(scene=dict(xaxis_title='x',yaxis_title='y',zaxis_title='f(x,y)'))\n",
        "fig.update_layout(scene=dict(zaxis=dict(range=[0,1])))\n",
        "\n",
        "fig.write_image('fig8_codechallenge_134_exercise_6c.png')\n",
        "fig.show()\n",
        "files.download('fig8_codechallenge_134_exercise_6c.png')\n"
      ]
    }
  ],
  "metadata": {
    "colab": {
      "provenance": []
    },
    "kernelspec": {
      "display_name": "Python 3",
      "name": "python3"
    },
    "language_info": {
      "name": "python"
    }
  },
  "nbformat": 4,
  "nbformat_minor": 0
}
