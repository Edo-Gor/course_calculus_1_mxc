{
 "cells": [
  {
   "cell_type": "code",
   "execution_count": null,
   "metadata": {
    "id": "xYfsQvXxPsoD"
   },
   "outputs": [],
   "source": [
    "# %% Calculus 1 - Section 7.73\n",
    "#    Code challenge: derivatives in sympy\n",
    "\n",
    "# This code pertains to a calculus course provided by Mike X. Cohen on Udemy:\n",
    "#   > https://www.udemy.com/course/pycalc1_x\n",
    "# The code in this repository is developed to solve the exercises provided along\n",
    "# the course, and it has been written partially indepentently and partially\n",
    "# from the code developed by the course instructor.\n"
   ]
  },
  {
   "cell_type": "code",
   "execution_count": null,
   "metadata": {
    "id": "vd_wy4xAQC4E"
   },
   "outputs": [],
   "source": [
    "import numpy             as np\n",
    "import sympy             as sym\n",
    "import matplotlib.pyplot as plt\n",
    "import math\n",
    "\n",
    "from IPython.display                  import display,Math\n",
    "from google.colab                     import files\n",
    "from matplotlib_inline.backend_inline import set_matplotlib_formats\n",
    "set_matplotlib_formats('svg')\n"
   ]
  },
  {
   "cell_type": "code",
   "execution_count": null,
   "metadata": {
    "colab": {
     "base_uri": "https://localhost:8080/",
     "height": 566
    },
    "executionInfo": {
     "elapsed": 351,
     "status": "ok",
     "timestamp": 1752831264877,
     "user": {
      "displayName": "Edoardo Gornetti",
      "userId": "05048424707797899325"
     },
     "user_tz": -120
    },
    "id": "SyFkEo8m1pll",
    "outputId": "043f5a68-a3b9-4a17-826a-3cfa595c3f5a"
   },
   "outputs": [],
   "source": [
    "# %% Exercise 1\n",
    "#    Implement the plot shown in the video using sympy and compute the\n",
    "#    derivative of the (linear) function\n",
    "\n",
    "# Function and derivative\n",
    "x = sym.symbols('x')\n",
    "y = 5*x/4 +9/4\n",
    "\n",
    "display(Math(sym.latex(y)))\n",
    "\n",
    "dy = sym.diff(y,x)\n",
    "\n",
    "print()\n",
    "print(f'The derivative of f(x) equals {dy}')\n",
    "print()\n",
    "\n",
    "# Plotting\n",
    "p = sym.plot(y,(x,-1,6),title='$f(y)=\\\\frac{5}{4}x+\\\\frac{9}{4}$',ylabel='$f(x)$',xlabel='$x$',axis_center=[0,0],show=False)\n",
    "p.save('fig4_codechallenge_73_exercise_1.png')\n",
    "files.download('fig4_codechallenge_73_exercise_1.png')\n"
   ]
  },
  {
   "cell_type": "code",
   "execution_count": null,
   "metadata": {
    "colab": {
     "base_uri": "https://localhost:8080/",
     "height": 495
    },
    "executionInfo": {
     "elapsed": 402,
     "status": "ok",
     "timestamp": 1752831633223,
     "user": {
      "displayName": "Edoardo Gornetti",
      "userId": "05048424707797899325"
     },
     "user_tz": -120
    },
    "id": "XloAOneU5sep",
    "outputId": "0c9ceed3-55cd-490e-c4f5-e4178ffbcbf4"
   },
   "outputs": [],
   "source": [
    "# %% Exercise 2\n",
    "#    Implement the plot shown in the video using sympy and compute the\n",
    "#    derivative of the function\n",
    "\n",
    "# Function and derivative\n",
    "x = sym.symbols('x')\n",
    "y = x**2\n",
    "\n",
    "dy = sym.diff(y,x)\n",
    "\n",
    "print()\n",
    "print(f'The derivative of f(x) equals {dy}')\n",
    "print()\n",
    "\n",
    "# Plotting\n",
    "p = sym.plot(y,(x,-1,6),title='$f(y)=x^2$',ylabel='$f(x)$',xlabel='$x$',axis_center=[0,0],show=False)\n",
    "p.save('fig5_codechallenge_73_exercise_2.png')\n",
    "files.download('fig5_codechallenge_73_exercise_2.png')\n"
   ]
  },
  {
   "cell_type": "code",
   "execution_count": null,
   "metadata": {
    "colab": {
     "base_uri": "https://localhost:8080/",
     "height": 520
    },
    "executionInfo": {
     "elapsed": 373,
     "status": "ok",
     "timestamp": 1752832074523,
     "user": {
      "displayName": "Edoardo Gornetti",
      "userId": "05048424707797899325"
     },
     "user_tz": -120
    },
    "id": "MplJJD2m6V8t",
    "outputId": "5f850ce3-44e8-4874-fa39-57e00c8154cb"
   },
   "outputs": [],
   "source": [
    "# %% Exercise 3\n",
    "#    Plot in sympy the derivativive from the previous exercise, and print the\n",
    "#    derivative for the indicated x values\n",
    "\n",
    "# Plotting\n",
    "p = sym.plot(dy,(x,-1,6),title=\"$f'(y)=2x$\",ylabel=\"$f'(y)$\",xlabel='$x$',axis_center=[0,0],show=False)\n",
    "p.save('fig6_codechallenge_73_exercise_3.png')\n",
    "files.download('fig6_codechallenge_73_exercise_3.png')\n",
    "\n",
    "# Derivative at various x values\n",
    "points = [-1,0,2]\n",
    "for point in points:\n",
    "  print(f'The derivative at x={point} is dy/dx={dy.subs(x,point)}')\n"
   ]
  }
 ],
 "metadata": {
  "colab": {
   "authorship_tag": "ABX9TyMYNYrzG3i8iXGBTXYL7/Yy",
   "provenance": []
  },
  "kernelspec": {
   "display_name": "Python 3",
   "name": "python3"
  },
  "language_info": {
   "name": "python"
  }
 },
 "nbformat": 4,
 "nbformat_minor": 0
}
