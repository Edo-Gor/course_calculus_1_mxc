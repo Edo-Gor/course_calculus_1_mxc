{
 "cells": [
  {
   "cell_type": "code",
   "execution_count": null,
   "metadata": {
    "id": "NrfH-pHtuMhS"
   },
   "outputs": [],
   "source": [
    "# %% Calculus 1 - Section 3.27\n",
    "#    Code challenge: piecewise functions - II\n",
    "\n",
    "# This code pertains to a calculus course provided by Mike X. Cohen on Udemy:\n",
    "#   > https://www.udemy.com/course/pycalc1_x\n",
    "# The code in this repository is developed to solve the exercises provided along\n",
    "# the course, and it has been written partially indepentently and partially\n",
    "# from the code developed by the course instructor.\n"
   ]
  },
  {
   "cell_type": "code",
   "execution_count": null,
   "metadata": {
    "id": "B2PAx8a0ueNG"
   },
   "outputs": [],
   "source": [
    "import numpy             as np\n",
    "import sympy             as sym\n",
    "import matplotlib.pyplot as plt\n",
    "import math\n",
    "\n",
    "from IPython.display                  import display,Math\n",
    "from google.colab                     import files\n",
    "from matplotlib_inline.backend_inline import set_matplotlib_formats\n",
    "set_matplotlib_formats('svg')\n"
   ]
  },
  {
   "cell_type": "code",
   "execution_count": null,
   "metadata": {
    "colab": {
     "base_uri": "https://localhost:8080/"
    },
    "executionInfo": {
     "elapsed": 44,
     "status": "ok",
     "timestamp": 1747262289559,
     "user": {
      "displayName": "Edoardo Gornetti",
      "userId": "05048424707797899325"
     },
     "user_tz": -120
    },
    "id": "kgrC_OsMud2b",
    "outputId": "751cd9d2-017f-4ca8-87c0-8081ac4204cf"
   },
   "outputs": [],
   "source": [
    "# %% Exercise 4\n",
    "#    Evaluate the function from previous exercises (1-3) at f(0.5), in numpy and sympy\n",
    "\n",
    "test = 0.5\n",
    "\n",
    "# Numpy\n",
    "def piecewise(xx):\n",
    "    y1 = 0        * (xx<0)\n",
    "    y2 = -2*xx    * ((xx>=0) & (xx<3))\n",
    "    y3 = .1*xx**3 * (xx>=3)\n",
    "    y = y1 + y2 + y3\n",
    "\n",
    "    return y\n",
    "\n",
    "val_np = piecewise(test)\n",
    "\n",
    "# Sympy\n",
    "x = sym.symbols('x')\n",
    "\n",
    "y = sym.Piecewise(\n",
    "    (0, x<0),\n",
    "    (-2*x, sym.And(x>=0, x<3)),\n",
    "    (sym.Rational(1,10)*x**3, x >= 3))\n",
    "\n",
    "val_sym = y.subs(x,test).evalf()\n",
    "\n",
    "print(f'Numpy: {val_np}')\n",
    "print(f'Sympy: {val_sym:.1f}')\n"
   ]
  },
  {
   "cell_type": "code",
   "execution_count": null,
   "metadata": {
    "colab": {
     "base_uri": "https://localhost:8080/"
    },
    "executionInfo": {
     "elapsed": 10,
     "status": "ok",
     "timestamp": 1747262568191,
     "user": {
      "displayName": "Edoardo Gornetti",
      "userId": "05048424707797899325"
     },
     "user_tz": -120
    },
    "id": "yAjBTH9t8u_e",
    "outputId": "973ee232-c510-46c0-882f-f9510f1f028e"
   },
   "outputs": [],
   "source": [
    "# %% Appendix\n",
    "#    Notice that the numpy strategy won't work in other cases, for example when extracting\n",
    "#    from an already evaluated function over a certain sampling rate\n",
    "\n",
    "# Function\n",
    "xx = np.linspace(-3,5,200)\n",
    "y1 = 0        * (xx<0)\n",
    "y2 = -2*xx    * ((xx>=0) & (xx<3))\n",
    "y3 = .1*xx**3 * (xx>=3)\n",
    "y  = y1 + y2 + y3\n",
    "\n",
    "idx = np.argmin (np.abs(xx-test))\n",
    "\n",
    "print(f'Numpy: {y[idx]:.5f}')\n"
   ]
  }
 ],
 "metadata": {
  "colab": {
   "authorship_tag": "ABX9TyP7Wq0hk7Rys4nbSbYYEQw+",
   "provenance": []
  },
  "kernelspec": {
   "display_name": "Python 3",
   "name": "python3"
  },
  "language_info": {
   "name": "python"
  }
 },
 "nbformat": 4,
 "nbformat_minor": 0
}
