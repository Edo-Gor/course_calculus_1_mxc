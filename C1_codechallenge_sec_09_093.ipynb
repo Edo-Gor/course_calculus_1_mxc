{
  "cells": [
    {
      "cell_type": "code",
      "execution_count": null,
      "metadata": {
        "id": "xYfsQvXxPsoD"
      },
      "outputs": [],
      "source": [
        "# %% Calculus 1 - Section 9.93\n",
        "#    Code challenge: product and quotient rule\n",
        "\n",
        "# This code pertains to a calculus course provided by Mike X. Cohen on Udemy:\n",
        "#   > https://www.udemy.com/course/pycalc1_x\n",
        "# The code in this repository is developed to solve the exercises provided along\n",
        "# the course, and it has been written partially indepentently and partially\n",
        "# from the code developed by the course instructor.\n"
      ]
    },
    {
      "cell_type": "code",
      "execution_count": 3,
      "metadata": {
        "id": "vd_wy4xAQC4E"
      },
      "outputs": [],
      "source": [
        "import numpy             as np\n",
        "import sympy             as sym\n",
        "import matplotlib.pyplot as plt\n",
        "import math\n",
        "\n",
        "from scipy.signal                     import find_peaks\n",
        "from IPython.display                  import display,Math\n",
        "from google.colab                     import files\n",
        "from matplotlib_inline.backend_inline import set_matplotlib_formats\n",
        "set_matplotlib_formats('svg')\n"
      ]
    },
    {
      "cell_type": "code",
      "execution_count": null,
      "metadata": {
        "colab": {
          "base_uri": "https://localhost:8080/",
          "height": 61
        },
        "id": "qj4GLS0RuC-H",
        "outputId": "3a40fb64-f122-48b1-e0bf-8af20123f8a2"
      },
      "outputs": [],
      "source": [
        "# %% Exercise 1\n",
        "#    Confirm the product rule with sympy\n",
        "\n",
        "x = sym.symbols('x')\n",
        "\n",
        "f = x**2\n",
        "g = sym.cos(x)\n",
        "\n",
        "dy_1 = sym.diff(f*g,x)\n",
        "dy_2 = sym.diff(f,x)*g + f*sym.diff(g,x)\n",
        "\n",
        "display(dy_1)\n",
        "display(dy_2)\n"
      ]
    },
    {
      "cell_type": "code",
      "execution_count": null,
      "metadata": {
        "colab": {
          "base_uri": "https://localhost:8080/",
          "height": 99
        },
        "id": "m89Mw-JCuUja",
        "outputId": "e9120c23-e418-49c6-d19d-e1c3b9006048"
      },
      "outputs": [],
      "source": [
        "# %% Exercise 2\n",
        "#    Confirm the quotient rule with sympy\n",
        "\n",
        "x = sym.symbols('x')\n",
        "\n",
        "f = x**2\n",
        "g = sym.cos(x)\n",
        "\n",
        "dy_1 = sym.diff(f/g,x)\n",
        "dy_2 = (sym.diff(f,x)*g - f*sym.diff(g,x)) / g**2\n",
        "\n",
        "display(dy_1)\n",
        "display(dy_2)\n"
      ]
    },
    {
      "cell_type": "code",
      "execution_count": null,
      "metadata": {
        "colab": {
          "base_uri": "https://localhost:8080/",
          "height": 96
        },
        "id": "p3rEsNuMuUgc",
        "outputId": "31d86d85-9e34-461c-f523-398e787eb6be"
      },
      "outputs": [],
      "source": [
        "# %% Exercise 3\n",
        "#    Check that the derivative of the ratio is not the same as the ratio of the\n",
        "#    derivatives\n",
        "\n",
        "dy_1 = sym.diff(f/g,x)\n",
        "dy_2 = sym.diff(f,x)/sym.diff(g,x)\n",
        "\n",
        "display(dy_1)\n",
        "display(dy_2)\n"
      ]
    }
  ],
  "metadata": {
    "colab": {
      "provenance": []
    },
    "kernelspec": {
      "display_name": "Python 3",
      "name": "python3"
    },
    "language_info": {
      "name": "python"
    }
  },
  "nbformat": 4,
  "nbformat_minor": 0
}
