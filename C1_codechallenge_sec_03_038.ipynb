{
 "cells": [
  {
   "cell_type": "code",
   "execution_count": null,
   "metadata": {
    "id": "NrfH-pHtuMhS"
   },
   "outputs": [],
   "source": [
    "# %% Calculus 1 - Section 3.38\n",
    "#    Code challenge: infinite funnctions to sketch - I\n",
    "\n",
    "# This code pertains to a calculus course provided by Mike X. Cohen on Udemy:\n",
    "#   > https://www.udemy.com/course/pycalc1_x\n",
    "# The code in this repository is developed to solve the exercises provided along\n",
    "# the course, and it has been written partially indepentently and partially\n",
    "# from the code developed by the course instructor.\n"
   ]
  },
  {
   "cell_type": "code",
   "execution_count": null,
   "metadata": {
    "id": "B2PAx8a0ueNG"
   },
   "outputs": [],
   "source": [
    "import numpy             as np\n",
    "import sympy             as sym\n",
    "import matplotlib.pyplot as plt\n",
    "import math\n",
    "\n",
    "from IPython.display                  import display,Math\n",
    "from google.colab                     import files\n",
    "from matplotlib_inline.backend_inline import set_matplotlib_formats\n",
    "set_matplotlib_formats('svg')\n"
   ]
  },
  {
   "cell_type": "code",
   "execution_count": null,
   "metadata": {
    "colab": {
     "base_uri": "https://localhost:8080/"
    },
    "executionInfo": {
     "elapsed": 14,
     "status": "ok",
     "timestamp": 1747932273518,
     "user": {
      "displayName": "Edoardo Gornetti",
      "userId": "05048424707797899325"
     },
     "user_tz": -120
    },
    "id": "Lsu28BE-wwst",
    "outputId": "de973143-cc00-44e1-f9d1-08501818fcb6"
   },
   "outputs": [],
   "source": [
    "# %% Exercise 1\n",
    "#    Create a 2nd order polynomial with random integer coeffientients between (-5, 5)\n",
    "\n",
    "bs = np.random.randint(-5,6,3) # Exclusive upper bound ...\n",
    "x  = np.linspace(-3,3,500)\n",
    "\n",
    "y  = bs[0] + bs[1]*x + bs[2]*x**2\n",
    "\n",
    "print(f\"A second order polynomial: y = {bs[0]} + {bs[1]}x + {bs[2]}x^2\")\n"
   ]
  },
  {
   "cell_type": "code",
   "execution_count": null,
   "metadata": {
    "colab": {
     "base_uri": "https://localhost:8080/",
     "height": 473
    },
    "executionInfo": {
     "elapsed": 415,
     "status": "ok",
     "timestamp": 1747932277711,
     "user": {
      "displayName": "Edoardo Gornetti",
      "userId": "05048424707797899325"
     },
     "user_tz": -120
    },
    "id": "LPZkMLpcyIvA",
    "outputId": "7863b324-12c3-4cac-fdac-7ce64939389b"
   },
   "outputs": [],
   "source": [
    "# %% Plotting\n",
    "\n",
    "x_targets = [-1, 0, 1]\n",
    "coords    = [(x[np.argmin(np.abs(x - xt))], y[np.argmin(np.abs(x - xt))]) for xt in x_targets]\n",
    "cmaps     = plt.cm.plasma(np.linspace(.1,.9,len(x_targets)))\n",
    "\n",
    "phi = ( 1 + np.sqrt(5) ) / 2\n",
    "fig = plt.figure(figsize=(5*phi,5))\n",
    "\n",
    "plt.plot(x,y)\n",
    "for xt, (x0, y0) in zip(x_targets, coords):\n",
    "    plt.plot(x0,y0,'o',color=cmaps[xt])\n",
    "plt.axvline(x=0,color='grey',linestyle=':',linewidth=0.8)\n",
    "plt.axhline(y=0,color='grey',linestyle=':',linewidth=0.8)\n",
    "\n",
    "plt.title(f\"A polynomial: $y = {bs[0]} + {bs[1]}x + {bs[2]}x^2$\")\n",
    "plt.xlabel('$x$')\n",
    "plt.ylabel('$f(x)$')\n",
    "plt.legend(['$y=f(x)$','$x=-1$','$x=0$','$x=1$'])\n",
    "plt.xlim(-3,3)\n",
    "\n",
    "plt.savefig('fig34_codechallenge_38_exercise_1.png')\n",
    "plt.show()\n",
    "files.download('fig34_codechallenge_38_exercise_1.png')\n"
   ]
  },
  {
   "cell_type": "code",
   "execution_count": null,
   "metadata": {
    "colab": {
     "base_uri": "https://localhost:8080/",
     "height": 61
    },
    "executionInfo": {
     "elapsed": 10,
     "status": "ok",
     "timestamp": 1747933472108,
     "user": {
      "displayName": "Edoardo Gornetti",
      "userId": "05048424707797899325"
     },
     "user_tz": -120
    },
    "id": "dFEo4l9p4GoX",
    "outputId": "18ec9596-edf7-425c-bc01-5a1b2dba503d"
   },
   "outputs": [],
   "source": [
    "# %% Exercise 2\n",
    "#    Create a cosine-scaled exponential with random integer coefficients between (-3,3), excluding 0\n",
    "\n",
    "th = sym.var('theta')\n",
    "bs = np.random.choice([i for i in range(-3,4) if i != 0])\n",
    "fx = bs*sym.exp(-th) * sym.cos(2*sym.pi*th)\n",
    "\n",
    "y = sym.lambdify(th,fx)\n",
    "x = np.linspace(-3,3,500)\n",
    "\n",
    "display(fx)\n",
    "Math('f(\\\\theta) = ' + sym.latex(fx))\n"
   ]
  },
  {
   "cell_type": "code",
   "execution_count": null,
   "metadata": {
    "colab": {
     "base_uri": "https://localhost:8080/",
     "height": 473
    },
    "executionInfo": {
     "elapsed": 434,
     "status": "ok",
     "timestamp": 1747933475092,
     "user": {
      "displayName": "Edoardo Gornetti",
      "userId": "05048424707797899325"
     },
     "user_tz": -120
    },
    "id": "Nso75K6f6tXH",
    "outputId": "a4ccd9b8-40a4-4511-b51b-5ee086d4207d"
   },
   "outputs": [],
   "source": [
    "# %% Plotting\n",
    "\n",
    "x_targets = [-1, 0, 1]\n",
    "coords    = [(x[np.argmin(np.abs(x - xt))], y(x)[np.argmin(np.abs(x - xt))]) for xt in x_targets]\n",
    "cmaps     = plt.cm.plasma(np.linspace(.1,.9,len(x_targets)))\n",
    "\n",
    "phi = ( 1 + np.sqrt(5) ) / 2\n",
    "fig = plt.figure(figsize=(5*phi,5))\n",
    "\n",
    "plt.plot(x,y(x))\n",
    "for xt, (x0, y0) in zip(x_targets, coords):\n",
    "    plt.plot(x0,y0,'o',color=cmaps[xt])\n",
    "plt.axvline(x=0,color='grey',linestyle=':',linewidth=0.8)\n",
    "plt.axhline(y=0,color='grey',linestyle=':',linewidth=0.8)\n",
    "\n",
    "plt.title(f\"$f(\\\\theta) = {bs}e^{{\\\\theta}}\\\\cos(2\\\\pi\\\\theta)$\")\n",
    "plt.xlabel('$\\\\theta$')\n",
    "plt.ylabel('$f(\\\\theta)$')\n",
    "plt.legend(['$y=f(\\\\theta)$','$x=-1$','$x=0$','$x=1$'])\n",
    "plt.xlim(-3,3)\n",
    "\n",
    "plt.savefig('fig36_codechallenge_38_exercise_2.png')\n",
    "plt.show()\n",
    "files.download('fig36_codechallenge_38_exercise_2.png')\n"
   ]
  }
 ],
 "metadata": {
  "colab": {
   "authorship_tag": "ABX9TyO+04GC92gEsgfMkaGbQg8E",
   "provenance": []
  },
  "kernelspec": {
   "display_name": "Python 3",
   "name": "python3"
  },
  "language_info": {
   "name": "python"
  }
 },
 "nbformat": 4,
 "nbformat_minor": 0
}
