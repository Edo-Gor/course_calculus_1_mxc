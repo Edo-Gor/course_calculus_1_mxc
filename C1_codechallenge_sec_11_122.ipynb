{
  "cells": [
    {
      "cell_type": "code",
      "execution_count": null,
      "metadata": {
        "id": "xYfsQvXxPsoD"
      },
      "outputs": [],
      "source": [
        "# %% Calculus 1 - Section 11.122\n",
        "#    Code challenge: Newton's roots - II\n",
        "\n",
        "# This code pertains to a calculus course provided by Mike X. Cohen on Udemy:\n",
        "#   > https://www.udemy.com/course/pycalc1_x\n",
        "# The code in this repository is developed to solve the exercises provided along\n",
        "# the course, and it has been written partially indepentently and partially\n",
        "# from the code developed by the course instructor.\n"
      ]
    },
    {
      "cell_type": "code",
      "execution_count": 1,
      "metadata": {
        "id": "vd_wy4xAQC4E"
      },
      "outputs": [],
      "source": [
        "import numpy             as np\n",
        "import sympy             as sym\n",
        "import matplotlib.pyplot as plt\n",
        "import math\n",
        "\n",
        "from scipy.signal                     import find_peaks\n",
        "from IPython.display                  import display,Math\n",
        "from google.colab                     import files\n",
        "from matplotlib_inline.backend_inline import set_matplotlib_formats\n",
        "set_matplotlib_formats('svg')\n"
      ]
    },
    {
      "cell_type": "code",
      "execution_count": null,
      "metadata": {
        "colab": {
          "base_uri": "https://localhost:8080/",
          "height": 488
        },
        "id": "AwhAnm-4Wu3N",
        "outputId": "32e0e684-6705-4890-aaf6-938a790be4d9"
      },
      "outputs": [],
      "source": [
        "# %% Exercise 4\n",
        "#    Repeat exercise 3 but with a starting value of -5\n",
        "\n",
        "x = sym.symbols('x',real=True)\n",
        "f = 2*x**3 - 3\n",
        "\n",
        "def newton_roots(f,start):\n",
        "    df = sym.diff(f)\n",
        "    approx = start - f.subs(x,start)/df.subs(x,start)\n",
        "    return approx\n",
        "\n",
        "start  = -5\n",
        "iters  = 7\n",
        "approx = np.zeros(iters) + start\n",
        "\n",
        "for i in range(1,iters):\n",
        "    approx[i] = newton_roots(f,start)\n",
        "    start     = approx[i]\n",
        "\n",
        "# Plot\n",
        "xx    = np.linspace(-6,4,500)\n",
        "f_fun = sym.lambdify(x,f)\n",
        "\n",
        "phi = ( 1 + np.sqrt(5) ) / 2\n",
        "_,axs = plt.subplots(1,2,figsize=(1.5*5*phi,5))\n",
        "axs[0].plot(approx,'o-',alpha=0.75)\n",
        "axs[0].set_title(\"Newton's approximations\")\n",
        "axs[0].axhline(y=sym.N(sym.solve(f,x)[0]),color='tab:red',linestyle='--',linewidth=1,alpha=0.75)\n",
        "\n",
        "cmaps = plt.cm.plasma(np.linspace(.1,.9,len(approx)))\n",
        "axs[1].plot(xx,f_fun(xx),label=\"$f(x)$\")\n",
        "for i in range(len(approx)):\n",
        "    axs[1].plot(approx[i],f_fun(approx)[i],'o',color=cmaps[i],alpha=1)\n",
        "axs[1].axvline(x=sym.N(sym.solve(f,x)[0]),color='grey',linestyle=':',linewidth=0.8)\n",
        "axs[1].axhline(y=0,color='grey',linestyle=':',linewidth=0.8)\n",
        "axs[1].legend()\n",
        "axs[1].set_title(\"$f(x)$ and its roots' approximations\")\n",
        "\n",
        "plt.tight_layout()\n",
        "\n",
        "plt.savefig('fig10_codechallenge_122_exercise_4.png')\n",
        "plt.show()\n",
        "files.download('fig10_codechallenge_122_exercise_4.png')\n",
        "\n"
      ]
    },
    {
      "cell_type": "code",
      "execution_count": null,
      "metadata": {
        "colab": {
          "base_uri": "https://localhost:8080/",
          "height": 543
        },
        "id": "pOQqxVNogn_v",
        "outputId": "d0a99a4e-2e43-4d7c-b7f4-8517d7fa9798"
      },
      "outputs": [],
      "source": [
        "# %% Exercise 5\n",
        "#    Repeat exercise 1-3 but for the other function shown in the video\n",
        "\n",
        "# Step 1\n",
        "x = sym.symbols('x',real=True)\n",
        "f = sym.cos(x) - x**2\n",
        "\n",
        "# Step 2\n",
        "start = 1\n",
        "\n",
        "def newton_roots(f,start):\n",
        "    df = sym.diff(f)\n",
        "    approx = start - f.subs(x,start)/df.subs(x,start)\n",
        "    return approx\n",
        "\n",
        "x1 = newton_roots(f,start)\n",
        "print(f'Estimate after one iteration: {x1}')\n",
        "\n",
        "x2 = newton_roots(f,x1)\n",
        "print(f'Estimate after two iteration: {x2}')\n",
        "\n",
        "# Step 3\n",
        "start  = 1\n",
        "iters  = 7\n",
        "approx = np.zeros(iters) + start\n",
        "\n",
        "for i in range(1,iters):\n",
        "    approx[i] = newton_roots(f,start)\n",
        "    start     = approx[i]\n",
        "\n",
        "xx    = np.linspace(-2,2,500)\n",
        "f_fun = sym.lambdify(x,f)\n",
        "\n",
        "phi = ( 1 + np.sqrt(5) ) / 2\n",
        "_,axs = plt.subplots(1,2,figsize=(1.5*5*phi,5))\n",
        "axs[0].plot(approx,'o-',alpha=0.75)\n",
        "axs[0].set_title(\"Newton's approximations\")\n",
        "\n",
        "cmaps = plt.cm.plasma(np.linspace(.1,.9,len(approx)))\n",
        "axs[1].plot(xx,f_fun(xx),label=\"$f(x)$\")\n",
        "for i in range(len(approx)):\n",
        "    axs[1].plot(approx[i],f_fun(approx)[i],'o',color=cmaps[i],alpha=1)\n",
        "axs[1].axhline(y=0,color='grey',linestyle=':',linewidth=0.8)\n",
        "axs[1].legend()\n",
        "axs[1].set_title(\"$f(x)$ and its roots' approximations\")\n",
        "\n",
        "plt.tight_layout()\n",
        "\n",
        "plt.savefig('fig12_codechallenge_122_exercise_5.png')\n",
        "plt.show()\n",
        "files.download('fig12_codechallenge_122_exercise_5.png')\n"
      ]
    }
  ],
  "metadata": {
    "colab": {
      "provenance": []
    },
    "kernelspec": {
      "display_name": "Python 3",
      "name": "python3"
    },
    "language_info": {
      "name": "python"
    }
  },
  "nbformat": 4,
  "nbformat_minor": 0
}
