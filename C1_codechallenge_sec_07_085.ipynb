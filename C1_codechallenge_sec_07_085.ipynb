{
 "cells": [
  {
   "cell_type": "code",
   "execution_count": null,
   "metadata": {
    "id": "xYfsQvXxPsoD"
   },
   "outputs": [],
   "source": [
    "# %% Calculus 1 - Section 7.85\n",
    "#    Code challenge: infinite derivatives exercises\n",
    "\n",
    "# This code pertains to a calculus course provided by Mike X. Cohen on Udemy:\n",
    "#   > https://www.udemy.com/course/pycalc1_x\n",
    "# The code in this repository is developed to solve the exercises provided along\n",
    "# the course, and it has been written partially indepentently and partially\n",
    "# from the code developed by the course instructor.\n"
   ]
  },
  {
   "cell_type": "code",
   "execution_count": null,
   "metadata": {
    "id": "vd_wy4xAQC4E"
   },
   "outputs": [],
   "source": [
    "import numpy             as np\n",
    "import sympy             as sym\n",
    "import matplotlib.pyplot as plt\n",
    "import math\n",
    "\n",
    "from scipy.signal                     import find_peaks\n",
    "from IPython.display                  import display,Math\n",
    "from google.colab                     import files\n",
    "from matplotlib_inline.backend_inline import set_matplotlib_formats\n",
    "set_matplotlib_formats('svg')\n"
   ]
  },
  {
   "cell_type": "code",
   "execution_count": null,
   "metadata": {
    "id": "WxZ8ix2hODie"
   },
   "outputs": [],
   "source": [
    "# %% Note\n",
    "#    This code is meant to generate (constrained) random functions to get\n",
    "#    infinite differentiation exercises\n"
   ]
  },
  {
   "cell_type": "code",
   "execution_count": null,
   "metadata": {
    "colab": {
     "base_uri": "https://localhost:8080/",
     "height": 39
    },
    "executionInfo": {
     "elapsed": 9,
     "status": "ok",
     "timestamp": 1753122572924,
     "user": {
      "displayName": "Edoardo Gornetti",
      "userId": "05048424707797899325"
     },
     "user_tz": -120
    },
    "id": "ge3_njfNMvwD",
    "outputId": "71c6955d-dfe9-44e0-f723-c39b4f535fa5"
   },
   "outputs": [],
   "source": [
    "# %% Exercise 1\n",
    "#    Generate a random function by summing i) up to a 4th order polynomial with\n",
    "#    random integer coefficients between -5 and +5, and ii) two transcendental\n",
    "#    functions samled randomly from {cos, sin, ln, exp}, with random sign\n",
    "\n",
    "# Function\n",
    "x = sym.symbols('x')\n",
    "\n",
    "poly_order = np.random.randint(1,5)\n",
    "transcend  = [sym.sin(x),sym.cos(x),sym.log(x),sym.exp(x) ]\n",
    "\n",
    "y = 0\n",
    "for i in range(poly_order):\n",
    "    y += np.random.randint(-5,6)*x**i\n",
    "\n",
    "for t in np.random.choice(transcend,2,replace=False):\n",
    "    y += np.random.choice((-1,1))*t\n",
    "\n",
    "display(Math(sym.latex(y)))\n"
   ]
  },
  {
   "cell_type": "code",
   "execution_count": null,
   "metadata": {
    "colab": {
     "base_uri": "https://localhost:8080/",
     "height": 489
    },
    "executionInfo": {
     "elapsed": 879,
     "status": "ok",
     "timestamp": 1753123553606,
     "user": {
      "displayName": "Edoardo Gornetti",
      "userId": "05048424707797899325"
     },
     "user_tz": -120
    },
    "id": "WwUMhLVCNz9o",
    "outputId": "cb8c775d-849c-4109-ba7f-557ec10b0988"
   },
   "outputs": [],
   "source": [
    "# %% Exercise 2\n",
    "#    Lamdify the above function, compute the empirical derivative, and plot\n",
    "\n",
    "# Function and flexible domain (for logs)\n",
    "D = [ -3,3 ]\n",
    "d = sym.calculus.util.continuous_domain(y,x,sym.S.Reals)\n",
    "if d.start==0:\n",
    "    D[0] = .1\n",
    "\n",
    "fx = sym.lambdify(x,y)\n",
    "xx = np.linspace(D[0],D[1],1000)\n",
    "yy = fx(xx)\n",
    "\n",
    "# Derivative (empirical, pick the mean or any diff between xx)\n",
    "dy = np.diff(yy) / np.mean(np.diff(xx))\n",
    "\n",
    "# Plot\n",
    "phi = ( 1 + np.sqrt(5) ) / 2\n",
    "_,axs = plt.subplots(2,1,figsize=(5*phi,5))\n",
    "axs[0].plot(xx,yy,label=\"$f(x)$\")\n",
    "axs[0].legend()\n",
    "axs[0].set_title(f'$f(x) = {sym.latex(y)}$')\n",
    "axs[0].axvline(x=0,color='grey',linestyle=':',linewidth=0.8)\n",
    "axs[0].axhline(y=0,color='grey',linestyle=':',linewidth=0.8)\n",
    "\n",
    "axs[1].plot(xx[:-1],dy,label=\"$f'(x)$\")\n",
    "axs[1].axvline(x=0,color='grey',linestyle=':',linewidth=0.8)\n",
    "axs[1].axhline(y=0,color='grey',linestyle=':',linewidth=0.8)\n",
    "axs[1].legend()\n",
    "axs[1].set_title(\"$f'(x)$\")\n",
    "\n",
    "plt.tight_layout()\n",
    "\n",
    "plt.savefig('fig14_codechallenge_85_exercise_2.png')\n",
    "plt.show()\n",
    "files.download('fig14_codechallenge_85_exercise_2.png')\n"
   ]
  },
  {
   "cell_type": "code",
   "execution_count": null,
   "metadata": {
    "colab": {
     "base_uri": "https://localhost:8080/",
     "height": 125
    },
    "executionInfo": {
     "elapsed": 35,
     "status": "ok",
     "timestamp": 1753123689060,
     "user": {
      "displayName": "Edoardo Gornetti",
      "userId": "05048424707797899325"
     },
     "user_tz": -120
    },
    "id": "arLN6UW5Nzyw",
    "outputId": "124cdc7f-dafa-4a9c-ddf3-6284f47c5693"
   },
   "outputs": [],
   "source": [
    "# %% Exercise 3\n",
    "#    Check the analytical derivative of the function from the previous exercises\n",
    "\n",
    "dy = sym.diff(y,x)\n",
    "print('Function:')\n",
    "display(Math(sym.latex(y)))\n",
    "print()\n",
    "print('Its derivative:')\n",
    "display(Math(sym.latex(dy)))\n"
   ]
  }
 ],
 "metadata": {
  "colab": {
   "authorship_tag": "ABX9TyO6/nCJnABbyduXpdG2eNyy",
   "provenance": []
  },
  "kernelspec": {
   "display_name": "Python 3",
   "name": "python3"
  },
  "language_info": {
   "name": "python"
  }
 },
 "nbformat": 4,
 "nbformat_minor": 0
}
