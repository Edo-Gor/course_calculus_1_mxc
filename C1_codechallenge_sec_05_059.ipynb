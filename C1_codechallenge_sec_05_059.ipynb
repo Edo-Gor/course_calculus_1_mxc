{
 "cells": [
  {
   "cell_type": "code",
   "execution_count": null,
   "metadata": {
    "id": "xYfsQvXxPsoD"
   },
   "outputs": [],
   "source": [
    "# %% Calculus 1 - Section 5.59\n",
    "#    Code challenge: trigonometric limits in sympy - II\n",
    "\n",
    "# This code pertains to a calculus course provided by Mike X. Cohen on Udemy:\n",
    "#   > https://www.udemy.com/course/pycalc1_x\n",
    "# The code in this repository is developed to solve the exercises provided along\n",
    "# the course, and it has been written partially indepentently and partially\n",
    "# from the code developed by the course instructor.\n"
   ]
  },
  {
   "cell_type": "code",
   "execution_count": null,
   "metadata": {
    "id": "vd_wy4xAQC4E"
   },
   "outputs": [],
   "source": [
    "import numpy             as np\n",
    "import sympy             as sym\n",
    "import matplotlib.pyplot as plt\n",
    "import math\n",
    "\n",
    "from IPython.display                  import display,Math\n",
    "from google.colab                     import files\n",
    "from matplotlib_inline.backend_inline import set_matplotlib_formats\n",
    "set_matplotlib_formats('svg')\n"
   ]
  },
  {
   "cell_type": "code",
   "execution_count": null,
   "metadata": {
    "colab": {
     "base_uri": "https://localhost:8080/",
     "height": 580
    },
    "executionInfo": {
     "elapsed": 442,
     "status": "ok",
     "timestamp": 1749914942555,
     "user": {
      "displayName": "Edoardo Gornetti",
      "userId": "05048424707797899325"
     },
     "user_tz": -120
    },
    "id": "wYEAueFWQF26",
    "outputId": "6f89f067-908d-4e50-83e9-8076c20ac213"
   },
   "outputs": [],
   "source": [
    "# %% Exercise 2\n",
    "#    Implement and plot in sympy the function tan(th)/th, plot using plt,\n",
    "#    compute function vals at th=0, compute and print limits in sympy for th->0,\n",
    "#    use a D=(-pi,pi), and remember that tan(th)/th = sin(th)/th x 1/cos(th)\n",
    "\n",
    "# Functions\n",
    "th = sym.symbols('theta')\n",
    "f0 = sym.tan(th) / th\n",
    "f1 = sym.sin(th) / th\n",
    "f2 = 1 / sym.cos(th)\n",
    "\n",
    "# Lambdify and plot with plt\n",
    "f0_lamb = sym.lambdify(th,f0)\n",
    "f1_lamb = sym.lambdify(th,f1)\n",
    "f2_lamb = sym.lambdify(th,f2)\n",
    "\n",
    "x_vals  = np.linspace(-np.pi,np.pi,1000)\n",
    "y_vals0 = f0_lamb(x_vals)\n",
    "y_vals1 = f1_lamb(x_vals)\n",
    "y_vals2 = f2_lamb(x_vals)\n",
    "y_vals3 = f1_lamb(x_vals)[::20]*f2_lamb(x_vals)[::20]\n",
    "\n",
    "phi = ( 1 + np.sqrt(5) ) / 2\n",
    "fig = plt.figure(figsize=(5*phi,5))\n",
    "\n",
    "plt.plot(x_vals,y_vals0,color='tab:blue')\n",
    "plt.plot(x_vals,y_vals1,color='tab:orange')\n",
    "plt.plot(x_vals,y_vals2,color='tab:green')\n",
    "plt.plot(x_vals[::20],y_vals3,'o',color='tab:blue')\n",
    "\n",
    "plt.title('$f(\\\\theta)=\\\\frac{\\\\tan(\\\\theta)}{\\\\theta}$')\n",
    "plt.xlabel('$\\\\theta$')\n",
    "plt.ylabel('$f(\\\\theta)$')\n",
    "plt.xlim(-np.pi,np.pi)\n",
    "plt.ylim(-20,20)\n",
    "plt.axvline(x=0,color='grey',linestyle=':',linewidth=0.8)\n",
    "plt.axhline(y=0,color='grey',linestyle=':',linewidth=0.8)\n",
    "plt.legend(['$f_0=\\\\frac{\\\\tan(\\\\theta)}{\\\\theta}$','$f_1=\\\\frac{\\\\sin(\\\\theta)}{\\\\theta}$','$f_2=\\\\frac{1}{\\\\cos(\\\\theta)}$','$f_1 \\\\times f_2$'])\n",
    "\n",
    "plt.savefig('fig14_codechallenge_59_exercise_2.png')\n",
    "plt.show()\n",
    "files.download('fig14_codechallenge_59_exercise_2.png')\n",
    "\n",
    "# Functions values at th = 0\n",
    "val = 0\n",
    "print( f'Value of f0(th) at th = {val} : {f0.subs(th,val)}' )\n",
    "print( f'Value of f1(th) at th = {val} : {f1.subs(th,val)}' )\n",
    "print( f'Value of f2(th) at th = {val} : {f2.subs(th,val)}' )\n",
    "\n",
    "# Compute and print limits\n",
    "a = 0\n",
    "limit_f0 = sym.limit(f0,th,a,'+-')\n",
    "limit_f1 = sym.limit(f1,th,a,'+-')\n",
    "limit_f2 = sym.limit(f2,th,a,'+-')\n",
    "\n",
    "print( f'Value of f0(th) as {th} approaches {a} = {sym.N(limit_f0):.0f}' )\n",
    "print( f'Value of f1(th) as {th} approaches {a} = {sym.N(limit_f1):.0f}' )\n",
    "print( f'Value of f2(th) as {th} approaches {a} = {sym.N(limit_f2):.0f}' )\n"
   ]
  },
  {
   "cell_type": "code",
   "execution_count": null,
   "metadata": {
    "colab": {
     "base_uri": "https://localhost:8080/",
     "height": 613
    },
    "executionInfo": {
     "elapsed": 618,
     "status": "ok",
     "timestamp": 1749917304757,
     "user": {
      "displayName": "Edoardo Gornetti",
      "userId": "05048424707797899325"
     },
     "user_tz": -120
    },
    "id": "5JFRhfLbQPRu",
    "outputId": "87de9b66-d0fc-414f-ffe4-28a621924c88"
   },
   "outputs": [],
   "source": [
    "# %% Exercise 3\n",
    "#    Implement and plot in sympy the function in the video, compute and print\n",
    "#    the values at th=0 and the limits as th->0, determine the domain of f(th),\n",
    "#    compute the limits of each part as th->0 and the product of those limits\n",
    "\n",
    "# Function\n",
    "th = sym.symbols('theta')\n",
    "f  = th**2 * sym.exp(-th**2) * sym.log(th**2) * sym.sin(th)\n",
    "\n",
    "# Plotting\n",
    "p = sym.plot(f,(th,-6,6),title='$f(\\\\theta)=\\\\theta^2e^{-\\\\theta^2}ln(\\\\theta^2)\\\\sin(\\\\theta)$',ylabel='$f(\\\\theta)$',xlabel='$\\\\theta$',show=False)\n",
    "p.save('fig15_codechallenge_59_exercise_3.png')\n",
    "files.download('fig15_codechallenge_59_exercise_3.png')\n",
    "\n",
    "# Zeros and limit as th->0\n",
    "print( f'Value of f(th) at th = 0 : {f.subs(th,0)}' )\n",
    "print( f'Value of f(th) as {th} approaches 0 : {sym.N(sym.limit(f,th,0))}' )\n",
    "\n",
    "# Domain of the function\n",
    "print( )\n",
    "print( f'Domain of f(th) :' )\n",
    "display(sym.calculus.util.continuous_domain(f,th,sym.Reals))\n",
    "print( )\n",
    "\n",
    "# Limits for each part of the function, and their product\n",
    "val  = 0\n",
    "a    = 0\n",
    "lim1 = sym.limit(th**2,th,a,'+-')\n",
    "lim2 = sym.limit(sym.exp(-th**2),th,a,'+-')\n",
    "lim3 = sym.limit(sym.log(th**2),th,a,'+-')\n",
    "lim4 = sym.limit(sym.sin(th),th,a,'+-')\n",
    "\n",
    "print( f'Limits of {th**2} as {th} approaches {val} : {lim1}' )\n",
    "print( f'Limits of {sym.exp(-th**2)} as {th} approaches {val} : {lim2}' )\n",
    "print( f'Limits of {sym.log(th**2)} as {th} approaches {val} : {lim3}' )\n",
    "print( f'Limits of {sym.sin(th)} as {th} approaches {val} : {lim4}' )\n",
    "print( f'Product of the limits : {lim1*lim2*lim3*lim4}' )\n"
   ]
  }
 ],
 "metadata": {
  "colab": {
   "authorship_tag": "ABX9TyNRwZlhzEuf6v+F+KrNxFFL",
   "provenance": []
  },
  "kernelspec": {
   "display_name": "Python 3",
   "name": "python3"
  },
  "language_info": {
   "name": "python"
  }
 },
 "nbformat": 4,
 "nbformat_minor": 0
}
