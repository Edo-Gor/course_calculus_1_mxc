{
 "cells": [
  {
   "cell_type": "code",
   "execution_count": null,
   "metadata": {
    "id": "nF4HvmEvbNlp"
   },
   "outputs": [],
   "source": [
    "# %% Calculus 1 - Section 3.13\n",
    "#    Code challenge: math in Python - II\n",
    "\n",
    "# This code pertains to a calculus course provided by Mike X. Cohen on Udemy:\n",
    "#   > https://www.udemy.com/course/pycalc1_x\n",
    "# The code in this repository is developed to solve the exercises provided along\n",
    "# the course, and it has been written partially indepentently and partially\n",
    "# from the code developed by the course instructor.\n"
   ]
  },
  {
   "cell_type": "code",
   "execution_count": null,
   "metadata": {
    "id": "4rRY4AfmbTjx"
   },
   "outputs": [],
   "source": [
    "import numpy as np\n",
    "import matplotlib.pyplot as plt\n",
    "import sympy as sym\n"
   ]
  },
  {
   "cell_type": "code",
   "execution_count": null,
   "metadata": {
    "colab": {
     "base_uri": "https://localhost:8080/",
     "height": 487
    },
    "executionInfo": {
     "elapsed": 633,
     "status": "ok",
     "timestamp": 1716149814522,
     "user": {
      "displayName": "Edoardo Gornetti",
      "userId": "05048424707797899325"
     },
     "user_tz": -120
    },
    "id": "dcPwMr0LbVkp",
    "outputId": "dbf4dcdc-db6e-4091-c7b0-d10108ef51a9"
   },
   "outputs": [],
   "source": [
    "# %% Exercise 2\n",
    "#    Implement the function y = x^2 + 3x^3 - x^4 with sympy and make a plot (domain=(-2,2),legend in latex)\n",
    "\n",
    "sym_x,sym_y = sym.var('x,y')\n",
    "sym_y = sym_x**2 + 3*sym_x**3 - sym_x**4\n",
    "\n",
    "# Plotting (specify limits in second input with a tuple containing variable and limits)\n",
    "\n",
    "sym.plot(sym_y,(sym_x,-2,2),xlabel=None,ylabel=None,title=f'$f(x)={sym.latex(sym_y)}$');"
   ]
  },
  {
   "cell_type": "code",
   "execution_count": null,
   "metadata": {
    "colab": {
     "base_uri": "https://localhost:8080/",
     "height": 476
    },
    "executionInfo": {
     "elapsed": 796,
     "status": "ok",
     "timestamp": 1716150429172,
     "user": {
      "displayName": "Edoardo Gornetti",
      "userId": "05048424707797899325"
     },
     "user_tz": -120
    },
    "id": "Qt8VufgfbYvf",
    "outputId": "7cec553f-3b6d-405f-cb93-110b503632e8"
   },
   "outputs": [],
   "source": [
    "# %% Exercise 3\n",
    "#    Convert the function from exercise 2 into a numpy function and plot accordingly\n",
    "\n",
    "sym_x,sym_y = sym.var('x,y')\n",
    "sym_y = sym_x**2 + 3*sym_x**3 - sym_x**4\n",
    "\n",
    "f = sym.lambdify(sym_x,sym_y)\n",
    "\n",
    "dom = np.linspace(-2,2,1001)\n",
    "ran = f(dom)\n",
    "\n",
    "# Plotting (basically copy-paste from exercise 1)\n",
    "\n",
    "plt.plot(dom,ran,label='$y = x^2 + 3x^3 - x^4$')\n",
    "\n",
    "plt.legend()\n",
    "plt.grid()\n",
    "plt.xlim([dom[0],dom[-1]])\n",
    "plt.ylim([ran[0],ran[-1]])\n",
    "\n",
    "plt.xlabel('$x$')\n",
    "plt.ylabel('$y=f(x)$')\n",
    "plt.title('Graph of: $y = x^2 + 3x^3 - x^4$')\n",
    "\n",
    "plt.show()"
   ]
  }
 ],
 "metadata": {
  "colab": {
   "authorship_tag": "ABX9TyOhx/eFMiBdLbzIMH99b3eq",
   "provenance": []
  },
  "kernelspec": {
   "display_name": "Python 3",
   "name": "python3"
  },
  "language_info": {
   "name": "python"
  }
 },
 "nbformat": 4,
 "nbformat_minor": 0
}
