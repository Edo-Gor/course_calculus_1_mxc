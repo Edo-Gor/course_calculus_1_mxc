{
 "cells": [
  {
   "cell_type": "code",
   "execution_count": null,
   "metadata": {
    "id": "8vG5BGr5uKMw"
   },
   "outputs": [],
   "source": [
    "# %% Calculus 1 - Section 3.26\n",
    "#    Code challenge: piecewise functions - I\n",
    "\n",
    "# This code pertains to a calculus course provided by Mike X. Cohen on Udemy:\n",
    "#   > https://www.udemy.com/course/pycalc1_x\n",
    "# The code in this repository is developed to solve the exercises provided along\n",
    "# the course, and it has been written partially indepentently and partially\n",
    "# from the code developed by the course instructor.\n"
   ]
  },
  {
   "cell_type": "code",
   "execution_count": null,
   "metadata": {
    "id": "ZAMIJnJjuexU"
   },
   "outputs": [],
   "source": [
    "import numpy             as np\n",
    "import sympy             as sym\n",
    "import matplotlib.pyplot as plt\n",
    "import math\n",
    "\n",
    "from IPython.display                  import display,Math\n",
    "from google.colab                     import files\n",
    "from matplotlib_inline.backend_inline import set_matplotlib_formats\n",
    "set_matplotlib_formats('svg')\n"
   ]
  },
  {
   "cell_type": "code",
   "execution_count": null,
   "metadata": {
    "colab": {
     "base_uri": "https://localhost:8080/",
     "height": 323
    },
    "executionInfo": {
     "elapsed": 263,
     "status": "ok",
     "timestamp": 1747260049022,
     "user": {
      "displayName": "Edoardo Gornetti",
      "userId": "05048424707797899325"
     },
     "user_tz": -120
    },
    "id": "DNo9mUsnueuR",
    "outputId": "e417001c-b0e8-44e8-c0c3-65928c98a173"
   },
   "outputs": [],
   "source": [
    "# %% Exercise 1\n",
    "#    Reproduce the plot shown in the video with an (overall) domain (-3,5)\n",
    "\n",
    "# Function\n",
    "x = np.linspace(-3,5,200)\n",
    "\n",
    "y1 = 0       * (x<0)\n",
    "y2 = -2*x    * ((x>=0) & (x<3))\n",
    "y3 = .1*x**3 * (x>=3)\n",
    "\n",
    "y = y1 + y2 + y3\n",
    "\n",
    "# Plotting\n",
    "fig = plt.figure(figsize=(6,3))\n",
    "\n",
    "plt.plot(x,y)\n",
    "\n",
    "plt.title(\"A piecewise function\")\n",
    "plt.xlabel('$x$')\n",
    "plt.ylabel('$f(x)$')\n",
    "plt.grid(True)\n",
    "\n",
    "plt.savefig('fig19_codechallenge_26_exercise_1.png')\n",
    "plt.show()\n",
    "files.download('fig19_codechallenge_26_exercise_1.png')\n"
   ]
  },
  {
   "cell_type": "code",
   "execution_count": null,
   "metadata": {
    "colab": {
     "base_uri": "https://localhost:8080/",
     "height": 323
    },
    "executionInfo": {
     "elapsed": 516,
     "status": "ok",
     "timestamp": 1747260630742,
     "user": {
      "displayName": "Edoardo Gornetti",
      "userId": "05048424707797899325"
     },
     "user_tz": -120
    },
    "id": "UVU4nUzouxnc",
    "outputId": "42491641-51f9-4603-f7f9-a0e5d7ba4295"
   },
   "outputs": [],
   "source": [
    "# %% Exercise 2\n",
    "#    Replot the above function but bit by bit\n",
    "\n",
    "# Plotting\n",
    "fig = plt.figure(figsize=(6,3))\n",
    "\n",
    "plt.plot(x[x<0],y1[x<0])\n",
    "plt.plot(x[(x>=0) & (x<3)],y2[(x>=0) & (x<3)])\n",
    "plt.plot(x[x>3],y3[x>3])\n",
    "\n",
    "plt.title(\"A piecewise function\")\n",
    "plt.xlabel('$x$')\n",
    "plt.ylabel('$f(x)$')\n",
    "plt.legend(['$y=0$','$y=-2x$','$y=\\\\frac{1}{10}x^3$'])\n",
    "plt.grid(True)\n",
    "\n",
    "plt.savefig('fig20_codechallenge_26_exercise_2.png')\n",
    "plt.show()\n",
    "files.download('fig20_codechallenge_26_exercise_2.png')\n"
   ]
  },
  {
   "cell_type": "code",
   "execution_count": null,
   "metadata": {
    "colab": {
     "base_uri": "https://localhost:8080/",
     "height": 489
    },
    "executionInfo": {
     "elapsed": 317,
     "status": "ok",
     "timestamp": 1747261006482,
     "user": {
      "displayName": "Edoardo Gornetti",
      "userId": "05048424707797899325"
     },
     "user_tz": -120
    },
    "id": "b3nh0dFD1YZt",
    "outputId": "a1cfb75b-12d7-450f-9b6f-afdcccbf2313"
   },
   "outputs": [],
   "source": [
    "# %% Exercise 3\n",
    "#    Reproduce the above function but with sympy\n",
    "\n",
    "# Function\n",
    "x = sym.symbols('x')\n",
    "\n",
    "# Use sym.And for combining conditions and sym.Rational for precise fractions\n",
    "y = sym.Piecewise(\n",
    "    (0, x<0),\n",
    "    (-2*x, sym.And(x>=0, x<3)),\n",
    "    (sym.Rational(1,10)*x**3, x >= 3))\n",
    "\n",
    "# Plotting\n",
    "p = sym.plot(y,(x,-3,5),title='A piecewise function',ylabel='$f(x)$',xlabel='$x$',show=False)\n",
    "p.save('fig21_codechallenge_26_exercise_3.png')\n",
    "files.download('fig21_codechallenge_26_exercise_3.png')\n",
    "\n",
    "display(y)"
   ]
  }
 ],
 "metadata": {
  "colab": {
   "authorship_tag": "ABX9TyOfgXHFjU8kpxGbmD2tE2ag",
   "provenance": []
  },
  "kernelspec": {
   "display_name": "Python 3",
   "name": "python3"
  },
  "language_info": {
   "name": "python"
  }
 },
 "nbformat": 4,
 "nbformat_minor": 0
}
