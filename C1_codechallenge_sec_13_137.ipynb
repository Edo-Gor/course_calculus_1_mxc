{
  "cells": [
    {
      "cell_type": "code",
      "execution_count": null,
      "metadata": {
        "id": "xYfsQvXxPsoD"
      },
      "outputs": [],
      "source": [
        "# %% Calculus 1 - Section 13.137\n",
        "#    Code challenge: partial derivatives\n",
        "\n",
        "# This code pertains to a calculus course provided by Mike X. Cohen on Udemy:\n",
        "#   > https://www.udemy.com/course/pycalc1_x\n",
        "# The code in this repository is developed to solve the exercises provided along\n",
        "# the course, and it has been written partially indepentently and partially\n",
        "# from the code developed by the course instructor.\n"
      ]
    },
    {
      "cell_type": "code",
      "execution_count": 1,
      "metadata": {
        "id": "vd_wy4xAQC4E"
      },
      "outputs": [],
      "source": [
        "import numpy             as np\n",
        "import sympy             as sym\n",
        "import matplotlib.pyplot as plt\n",
        "import math\n",
        "\n",
        "from scipy.signal                     import find_peaks\n",
        "from IPython.display                  import display,Math\n",
        "from google.colab                     import files\n",
        "from matplotlib_inline.backend_inline import set_matplotlib_formats\n",
        "set_matplotlib_formats('svg')\n"
      ]
    },
    {
      "cell_type": "code",
      "execution_count": null,
      "metadata": {
        "colab": {
          "base_uri": "https://localhost:8080/",
          "height": 162
        },
        "id": "99nhRej0X9Lh",
        "outputId": "0a95263b-6ad9-4cd2-92e6-8dde620d95a1"
      },
      "outputs": [],
      "source": [
        "# %% Exercise 1\n",
        "#    Differentiate the multivariable function shown in the video\n",
        "\n",
        "x = sym.symbols('x')\n",
        "y = sym.symbols('y')\n",
        "\n",
        "Z = x**2 / sym.pi**3 + sym.sin(y)\n",
        "display(Math(f'f(x,y) = {sym.latex(Z)}'))\n",
        "print()\n",
        "\n",
        "dfx = sym.diff(Z,x)\n",
        "dfy = sym.diff(Z,y)\n",
        "display(Math('f_x = \\\\frac{\\\\partial f}{\\\\partial x} = %s' %sym.latex(dfx)))\n",
        "print()\n",
        "display(Math('f_y = \\\\frac{\\\\partial f}{\\\\partial y} = %s' %sym.latex(dfy)))\n"
      ]
    },
    {
      "cell_type": "code",
      "execution_count": null,
      "metadata": {
        "colab": {
          "base_uri": "https://localhost:8080/",
          "height": 409
        },
        "id": "2ynn2PLWZswZ",
        "outputId": "51bf17c3-472d-4c96-d57e-a5e1bd060823"
      },
      "outputs": [],
      "source": [
        "# %% Exercise 2\n",
        "#    Visualise the function and its partial derivatives\n",
        "\n",
        "# Grid\n",
        "Z_lam   = sym.lambdify((x,y),Z,'numpy')\n",
        "dfx_lam = sym.lambdify((x,y),dfx,'numpy')\n",
        "dfy_lam = sym.lambdify((x,y),dfy,'numpy')\n",
        "\n",
        "xx  = np.linspace(0,2*np.pi,25)\n",
        "X,Y = np.meshgrid(xx,xx)\n",
        "\n",
        "# Plot\n",
        "phi   = ( 1 + np.sqrt(5) ) / 2\n",
        "_,axs = plt.subplots(1,3,figsize=(1.5*5*phi,5))\n",
        "\n",
        "ticks       = np.arange(0,2*np.pi+.01,np.pi/2)\n",
        "tick_labels = [r'$0$',r'$\\pi/2$',r'$\\pi$',r'$3\\pi/2$',r'$2\\pi$']\n",
        "\n",
        "axs[0].set_aspect('equal')\n",
        "axs[0].imshow(Z_lam(X,Y),origin='lower',extent=[xx[0],xx[-1],xx[0],xx[-1]],cmap='plasma')\n",
        "axs[0].set_xticks(ticks)\n",
        "axs[0].set_yticks(ticks)\n",
        "axs[0].set_xticklabels(tick_labels)\n",
        "axs[0].set_yticklabels(tick_labels)\n",
        "axs[0].set_title(f'$f(x,y) = {sym.latex(Z)}$')\n",
        "\n",
        "axs[1].set_aspect('equal')\n",
        "axs[1].imshow(dfx_lam(X,Y),origin='lower',extent=[xx[0],xx[-1],xx[0],xx[-1]],cmap='plasma')\n",
        "axs[1].set_xticks(ticks)\n",
        "axs[1].set_yticks(ticks)\n",
        "axs[1].set_xticklabels(tick_labels)\n",
        "axs[1].set_yticklabels(tick_labels)\n",
        "axs[1].set_title(f'$f_x = {sym.latex(dfx)}$')\n",
        "\n",
        "axs[2].set_aspect('equal')\n",
        "axs[2].imshow(dfy_lam(X,Y),origin='lower',extent=[xx[0],xx[-1],xx[0],xx[-1]],cmap='plasma')\n",
        "axs[2].set_xticks(ticks)\n",
        "axs[2].set_yticks(ticks)\n",
        "axs[2].set_xticklabels(tick_labels)\n",
        "axs[2].set_yticklabels(tick_labels)\n",
        "axs[2].set_title(f'$f_y = {sym.latex(dfy)}$')\n",
        "\n",
        "plt.tight_layout()\n",
        "\n",
        "plt.savefig('fig14_codechallenge_137_exercise_2.png')\n",
        "plt.show()\n",
        "files.download('fig14_codechallenge_137_exercise_2.png')\n"
      ]
    },
    {
      "cell_type": "code",
      "execution_count": null,
      "metadata": {
        "colab": {
          "base_uri": "https://localhost:8080/",
          "height": 147
        },
        "id": "rgtI1tSuZtVl",
        "outputId": "e8683be6-d800-476a-d36f-1e064731c459"
      },
      "outputs": [],
      "source": [
        "# %% Exercise 3\n",
        "#    Repeat exercises 1 and 2 but with a function that have a crossed term (an\n",
        "#    interaction term between x and y)\n",
        "\n",
        "x = sym.symbols('x')\n",
        "y = sym.symbols('y')\n",
        "\n",
        "Z = x**2 * sym.sin(y) + x**2 + sym.sin(y)\n",
        "display(Math(f'f(x,y) = {sym.latex(Z)}'))\n",
        "print()\n",
        "\n",
        "dfx = sym.diff(Z,x)\n",
        "dfy = sym.diff(Z,y)\n",
        "display(Math('f_x = \\\\frac{\\\\partial f}{\\\\partial x} = %s' %sym.latex(dfx)))\n",
        "print()\n",
        "display(Math('f_y = \\\\frac{\\\\partial f}{\\\\partial y} = %s' %sym.latex(dfy)))\n"
      ]
    },
    {
      "cell_type": "code",
      "execution_count": null,
      "metadata": {
        "colab": {
          "base_uri": "https://localhost:8080/",
          "height": 407
        },
        "id": "ClgNhTdhbt26",
        "outputId": "b839f763-8395-4f2f-a848-21c13487f869"
      },
      "outputs": [],
      "source": [
        "# %% Exercise 3\n",
        "#    Continue ...\n",
        "\n",
        "# Grid\n",
        "Z_lam   = sym.lambdify((x,y),Z,'numpy')\n",
        "dfx_lam = sym.lambdify((x,y),dfx,'numpy')\n",
        "dfy_lam = sym.lambdify((x,y),dfy,'numpy')\n",
        "\n",
        "xx  = np.linspace(0,2*np.pi,25)\n",
        "X,Y = np.meshgrid(xx,xx)\n",
        "\n",
        "# Plot\n",
        "phi   = ( 1 + np.sqrt(5) ) / 2\n",
        "_,axs = plt.subplots(1,3,figsize=(1.5*5*phi,5))\n",
        "\n",
        "ticks       = np.arange(0,2*np.pi+.01,np.pi/2)\n",
        "tick_labels = [r'$0$',r'$\\pi/2$',r'$\\pi$',r'$3\\pi/2$',r'$2\\pi$']\n",
        "\n",
        "axs[0].set_aspect('equal')\n",
        "axs[0].imshow(Z_lam(X,Y),origin='lower',extent=[xx[0],xx[-1],xx[0],xx[-1]],cmap='plasma')\n",
        "axs[0].set_xticks(ticks)\n",
        "axs[0].set_yticks(ticks)\n",
        "axs[0].set_xticklabels(tick_labels)\n",
        "axs[0].set_yticklabels(tick_labels)\n",
        "axs[0].set_title(f'$f(x,y) = {sym.latex(Z)}$')\n",
        "\n",
        "axs[1].set_aspect('equal')\n",
        "axs[1].imshow(dfx_lam(X,Y),origin='lower',extent=[xx[0],xx[-1],xx[0],xx[-1]],cmap='plasma')\n",
        "axs[1].set_xticks(ticks)\n",
        "axs[1].set_yticks(ticks)\n",
        "axs[1].set_xticklabels(tick_labels)\n",
        "axs[1].set_yticklabels(tick_labels)\n",
        "axs[1].set_title(f'$f_x = {sym.latex(dfx)}$')\n",
        "\n",
        "axs[2].set_aspect('equal')\n",
        "axs[2].imshow(dfy_lam(X,Y),origin='lower',extent=[xx[0],xx[-1],xx[0],xx[-1]],cmap='plasma')\n",
        "axs[2].set_xticks(ticks)\n",
        "axs[2].set_yticks(ticks)\n",
        "axs[2].set_xticklabels(tick_labels)\n",
        "axs[2].set_yticklabels(tick_labels)\n",
        "axs[2].set_title(f'$f_y = {sym.latex(dfy)}$')\n",
        "\n",
        "plt.tight_layout()\n",
        "\n",
        "plt.savefig('fig15_codechallenge_137_exercise_3.png')\n",
        "plt.show()\n",
        "files.download('fig15_codechallenge_137_exercise_3.png')\n"
      ]
    }
  ],
  "metadata": {
    "colab": {
      "provenance": []
    },
    "kernelspec": {
      "display_name": "Python 3",
      "name": "python3"
    },
    "language_info": {
      "name": "python"
    }
  },
  "nbformat": 4,
  "nbformat_minor": 0
}
