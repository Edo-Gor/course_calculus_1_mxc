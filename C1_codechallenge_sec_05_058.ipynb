{
 "cells": [
  {
   "cell_type": "code",
   "execution_count": null,
   "metadata": {
    "id": "xYfsQvXxPsoD"
   },
   "outputs": [],
   "source": [
    "# %% Calculus 1 - Section 5.58\n",
    "#    Code challenge: trigonometric limits in sympy - I\n",
    "\n",
    "# This code pertains to a calculus course provided by Mike X. Cohen on Udemy:\n",
    "#   > https://www.udemy.com/course/pycalc1_x\n",
    "# The code in this repository is developed to solve the exercises provided along\n",
    "# the course, and it has been written partially indepentently and partially\n",
    "# from the code developed by the course instructor.\n"
   ]
  },
  {
   "cell_type": "code",
   "execution_count": null,
   "metadata": {
    "id": "vd_wy4xAQC4E"
   },
   "outputs": [],
   "source": [
    "import numpy             as np\n",
    "import sympy             as sym\n",
    "import matplotlib.pyplot as plt\n",
    "import math\n",
    "\n",
    "from IPython.display                  import display,Math\n",
    "from google.colab                     import files\n",
    "from matplotlib_inline.backend_inline import set_matplotlib_formats\n",
    "set_matplotlib_formats('svg')\n"
   ]
  },
  {
   "cell_type": "code",
   "execution_count": null,
   "metadata": {
    "colab": {
     "base_uri": "https://localhost:8080/",
     "height": 1000
    },
    "executionInfo": {
     "elapsed": 1488,
     "status": "ok",
     "timestamp": 1749911856815,
     "user": {
      "displayName": "Edoardo Gornetti",
      "userId": "05048424707797899325"
     },
     "user_tz": -120
    },
    "id": "wYEAueFWQF26",
    "outputId": "b81cd605-5aad-4240-96dc-eae0dbc52e54"
   },
   "outputs": [],
   "source": [
    "# %% Exercise 1\n",
    "#    Implement and plot in sympy the function sin(th)/th, implement and plot the\n",
    "#    squeezing functions g(th) and h(th), plot using plt, plot the sign of the\n",
    "#    functions, compute and print limits in sympy for th->oo, use a D=(-100,100)\n",
    "\n",
    "# Functions\n",
    "x = sym.symbols('x')\n",
    "\n",
    "f = sym.sin(x) / x\n",
    "g = -1 / x\n",
    "h =  1 / x\n",
    "\n",
    "# Plotting\n",
    "p = sym.plot(f,(x,-100,100),title='$f(\\\\theta)=\\\\frac{\\\\sin(\\\\theta)}{\\\\theta}$',ylabel='$f(\\\\theta)$',xlabel='$\\\\theta$',show=False)\n",
    "p.save('fig10_codechallenge_58_exercise_1.png')\n",
    "files.download('fig10_codechallenge_58_exercise_1.png')\n",
    "\n",
    "# Plotting\n",
    "p = sym.plot(f,g,h,(x,-100,100),title='$f(\\\\theta)=\\\\frac{\\\\sin(\\\\theta)}{\\\\theta}$',ylabel='$f(\\\\theta)$',xlabel='$\\\\theta$',show=False)\n",
    "p.ylim = (-0.3,1)\n",
    "p.save('fig11_codechallenge_58_exercise_1.png')\n",
    "files.download('fig11_codechallenge_58_exercise_1.png')\n",
    "\n",
    "# Lambdify and plot with plt\n",
    "f_lamb = sym.lambdify(x,f)\n",
    "g_lamb = sym.lambdify(x,g)\n",
    "h_lamb = sym.lambdify(x,h)\n",
    "\n",
    "eps = 1e-5\n",
    "\n",
    "x_valsL = np.linspace(-100,-eps,5000) # avoid singularities\n",
    "x_valsR = np.linspace(eps,100,5000)\n",
    "\n",
    "x_vals  = np.concatenate((x_valsL,x_valsR))\n",
    "y_vals1 = f_lamb(x_vals)\n",
    "\n",
    "y_vals2L = g_lamb(x_valsL)\n",
    "y_vals2R = g_lamb(x_valsR)\n",
    "\n",
    "y_vals3L = h_lamb(x_valsL)\n",
    "y_vals3R = h_lamb(x_valsR)\n",
    "\n",
    "phi = ( 1 + np.sqrt(5) ) / 2\n",
    "fig = plt.figure(figsize=(5*phi,5))\n",
    "\n",
    "plt.plot(x_vals,y_vals1)\n",
    "plt.plot(x_valsL,y_vals2L,color='tab:orange')\n",
    "plt.plot(x_valsL,y_vals3L,color='tab:green')\n",
    "plt.plot(x_valsR,y_vals2R,color='tab:orange')\n",
    "plt.plot(x_valsR,y_vals3R,color='tab:green')\n",
    "\n",
    "plt.title('$f(\\\\theta)=\\\\frac{\\\\sin(\\\\theta)}{\\\\theta}$')\n",
    "plt.xlabel('$\\\\theta$')\n",
    "plt.ylabel('$f(\\\\theta)$')\n",
    "plt.xlim(-100,100)\n",
    "plt.ylim(-0.4,1.2)\n",
    "plt.axvline(x=0,color='grey',linestyle=':',linewidth=0.8)\n",
    "plt.axhline(y=0,color='grey',linestyle=':',linewidth=0.8)\n",
    "plt.legend(['$f(\\\\theta)=\\\\frac{\\\\sin(\\\\theta)}{\\\\theta}$','$f(\\\\theta)=\\\\frac{-1}{\\\\theta}$','$f(\\\\theta)=\\\\frac{1}{\\\\theta}$'])\n",
    "\n",
    "plt.savefig('fig12_codechallenge_58_exercise_1.png')\n",
    "plt.show()\n",
    "files.download('fig12_codechallenge_58_exercise_1.png')\n",
    "\n",
    "# Plot the sign of the functions\n",
    "sign_y1       = np.sign(y_vals1)\n",
    "\n",
    "sign_y2_left  = np.sign(y_vals2L)\n",
    "sign_y2_right = np.sign(y_vals2R)\n",
    "\n",
    "sign_y3_left  = np.sign(y_vals3L)\n",
    "sign_y3_right = np.sign(y_vals3R)\n",
    "\n",
    "phi = ( 1 + np.sqrt(5) ) / 2\n",
    "fig = plt.figure(figsize=(5*phi,5))\n",
    "\n",
    "plt.plot(x_vals,sign_y1*0.98)\n",
    "plt.plot(x_valsL,sign_y2_left*1.02,color='tab:orange')\n",
    "plt.plot(x_valsL,sign_y3_left*1.02,color='tab:green')\n",
    "plt.plot(x_valsR,sign_y2_right*1.02,color='tab:orange')\n",
    "plt.plot(x_valsR,sign_y3_right*1.02,color='tab:green')\n",
    "\n",
    "plt.title('$f(\\\\theta)=\\\\frac{\\\\sin(\\\\theta)}{\\\\theta}$')\n",
    "plt.xlabel('$\\\\theta$')\n",
    "plt.ylabel('$sign$')\n",
    "plt.xlim(-100,100)\n",
    "plt.ylim(-1.1,1.1)\n",
    "plt.yticks([-1,1], ['neg','pos'])\n",
    "plt.axvline(x=0,color='grey',linestyle=':',linewidth=0.8)\n",
    "plt.axhline(y=0,color='grey',linestyle=':',linewidth=0.8)\n",
    "plt.legend(['$sign(\\\\frac{\\\\sin(\\\\theta)}{\\\\theta})$','$sign(\\\\frac{-1}{\\\\theta})$','$sign(\\\\frac{1}{\\\\theta})$'])\n",
    "\n",
    "plt.savefig('fig13_codechallenge_58_exercise_1.png')\n",
    "plt.show()\n",
    "files.download('fig13_codechallenge_58_exercise_1.png')\n",
    "\n",
    "# Compute and print limits\n",
    "a = sym.oo\n",
    "limit_f = sym.limit(f,x,a,'+-')\n",
    "limit_g = sym.limit(g,x,a,'+-')\n",
    "limit_h = sym.limit(h,x,a,'+-')\n",
    "\n",
    "print( f'Limit of f(x) as {x} approaches {a} = {sym.N(limit_f)}' )\n",
    "print( f'Limit of g(x) as {x} approaches {a} = {sym.N(limit_g)}' )\n",
    "print( f'Limit of h(h) as {x} approaches {a} = {sym.N(limit_h)}' )\n"
   ]
  }
 ],
 "metadata": {
  "colab": {
   "authorship_tag": "ABX9TyPGXq0hEXJICYQ/u0q8Ajvy",
   "provenance": []
  },
  "kernelspec": {
   "display_name": "Python 3",
   "name": "python3"
  },
  "language_info": {
   "name": "python"
  }
 },
 "nbformat": 4,
 "nbformat_minor": 0
}
