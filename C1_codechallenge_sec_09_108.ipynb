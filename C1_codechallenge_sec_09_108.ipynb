{
  "cells": [
    {
      "cell_type": "code",
      "execution_count": null,
      "metadata": {
        "id": "xYfsQvXxPsoD"
      },
      "outputs": [],
      "source": [
        "# %% Calculus 1 - Section 9.108\n",
        "#    Code challenge: numerical approximations to MVT\n",
        "\n",
        "# This code pertains to a calculus course provided by Mike X. Cohen on Udemy:\n",
        "#   > https://www.udemy.com/course/pycalc1_x\n",
        "# The code in this repository is developed to solve the exercises provided along\n",
        "# the course, and it has been written partially indepentently and partially\n",
        "# from the code developed by the course instructor.\n"
      ]
    },
    {
      "cell_type": "code",
      "execution_count": 1,
      "metadata": {
        "id": "vd_wy4xAQC4E"
      },
      "outputs": [],
      "source": [
        "import numpy             as np\n",
        "import sympy             as sym\n",
        "import matplotlib.pyplot as plt\n",
        "import math\n",
        "\n",
        "from scipy.signal                     import find_peaks\n",
        "from IPython.display                  import display,Math\n",
        "from google.colab                     import files\n",
        "from matplotlib_inline.backend_inline import set_matplotlib_formats\n",
        "set_matplotlib_formats('svg')\n"
      ]
    },
    {
      "cell_type": "code",
      "execution_count": null,
      "metadata": {
        "colab": {
          "base_uri": "https://localhost:8080/",
          "height": 507
        },
        "id": "OCqXPUWnXs0o",
        "outputId": "25a87971-2f58-48cf-9162-f4b0a8066f1a"
      },
      "outputs": [],
      "source": [
        "# %% Exercise 1\n",
        "#    Find a numerical approximation to the MVT for the functions shown in the\n",
        "#    video\n",
        "\n",
        "# Variables\n",
        "x = sym.symbols('x')\n",
        "\n",
        "# Function to implement MVT\n",
        "def approx_MVT(f,a,c):\n",
        "\n",
        "    df  = sym.diff(f,x)\n",
        "    db  = (f.subs(x,c) - f.subs(x,a)) / (c - a)\n",
        "    fun = sym.lambdify(x,df-db)\n",
        "\n",
        "    xx = np.linspace(float(a),float(c),10000)\n",
        "    grid_search = fun(xx)\n",
        "    solutions = xx[find_peaks(-np.abs(grid_search))[0]]\n",
        "\n",
        "    return solutions,db\n",
        "\n",
        "# Function and MVT\n",
        "f = sym.cos(x**2)\n",
        "a = -sym.pi/2\n",
        "c = 6*sym.pi/7\n",
        "\n",
        "b,db = approx_MVT(f,a,c)\n",
        "print(b)\n",
        "\n",
        "# Lambdify\n",
        "f_lambda  = sym.lambdify(x,f,'numpy')\n",
        "df_lambda = sym.lambdify(x,sym.diff(f),'numpy')\n",
        "\n",
        "xx = np.linspace(float(a)-2,float(c)+2,400)\n",
        "yy = f_lambda(xx)\n",
        "\n",
        "# Plot\n",
        "phi = (1 + np.sqrt(5)) / 2\n",
        "plt.figure(figsize=(5*phi,5))\n",
        "\n",
        "plt.plot(xx,yy,label='$f(x)$')\n",
        "plt.plot(float(a),f_lambda(float(a)),'ro')\n",
        "plt.axvline(x=float(a),color='tab:red',linestyle=':',label='$a_x$')\n",
        "\n",
        "plt.plot(float(c),f_lambda(float(c)),'ro')\n",
        "plt.axvline(x=float(c),color='tab:red',linestyle=':',label='$c_x$')\n",
        "\n",
        "sec_x = np.array([float(a)-2,float(c)+2])\n",
        "sec_y = db*np.array(sec_x-float(a)) + f_lambda(float(a))\n",
        "plt.plot(sec_x,sec_y,'--',color='tab:green',label=f'$secant$')\n",
        "\n",
        "for i,b_vals in enumerate(b):\n",
        "    plt.plot(b_vals,f_lambda(b_vals),'o',color='tab:orange')\n",
        "    plt.axvline(x=b_vals,color='tab:orange',linestyle=':',label=f'$b_{i}$')\n",
        "    tang_x = [b_vals-10,b_vals+10]\n",
        "    tang_y = df_lambda(b_vals)*np.array(tang_x-b_vals) + f_lambda(b_vals)\n",
        "    plt.plot(tang_x,tang_y,'--',color='tab:orange',label=f'$tangent_{i}$')\n",
        "\n",
        "plt.title(\"Geometric interpretation of the mean value theorem\")\n",
        "plt.xlabel(\"x\")\n",
        "plt.ylabel(\"y\")\n",
        "plt.axvline(x=0,color='grey',linestyle=':',linewidth=0.8)\n",
        "plt.axhline(y=0,color='grey',linestyle=':',linewidth=0.8)\n",
        "plt.xlim(min(xx),max(xx))\n",
        "plt.ylim(min(yy)-1,max(yy)+1)\n",
        "plt.legend()\n",
        "plt.tight_layout()\n",
        "\n",
        "plt.savefig('fig13_codechallenge_108_exercise_1.png')\n",
        "plt.show()\n",
        "files.download('fig13_codechallenge_108_exercise_1.png')\n"
      ]
    }
  ],
  "metadata": {
    "colab": {
      "provenance": []
    },
    "kernelspec": {
      "display_name": "Python 3",
      "name": "python3"
    },
    "language_info": {
      "name": "python"
    }
  },
  "nbformat": 4,
  "nbformat_minor": 0
}
