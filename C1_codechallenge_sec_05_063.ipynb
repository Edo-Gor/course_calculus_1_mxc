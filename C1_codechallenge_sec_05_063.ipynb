{
 "cells": [
  {
   "cell_type": "code",
   "execution_count": null,
   "metadata": {
    "id": "xYfsQvXxPsoD"
   },
   "outputs": [],
   "source": [
    "# %% Calculus 1 - Section 5.63\n",
    "#    Code challenge: infinite limits exercises - I\n",
    "\n",
    "# This code pertains to a calculus course provided by Mike X. Cohen on Udemy:\n",
    "#   > https://www.udemy.com/course/pycalc1_x\n",
    "# The code in this repository is developed to solve the exercises provided along\n",
    "# the course, and it has been written partially indepentently and partially\n",
    "# from the code developed by the course instructor.\n"
   ]
  },
  {
   "cell_type": "code",
   "execution_count": null,
   "metadata": {
    "id": "vd_wy4xAQC4E"
   },
   "outputs": [],
   "source": [
    "import numpy             as np\n",
    "import sympy             as sym\n",
    "import matplotlib.pyplot as plt\n",
    "import math\n",
    "\n",
    "from IPython.display                  import display,Math\n",
    "from google.colab                     import files\n",
    "from matplotlib_inline.backend_inline import set_matplotlib_formats\n",
    "set_matplotlib_formats('svg')\n"
   ]
  },
  {
   "cell_type": "code",
   "execution_count": null,
   "metadata": {
    "colab": {
     "base_uri": "https://localhost:8080/",
     "height": 761
    },
    "executionInfo": {
     "elapsed": 691,
     "status": "ok",
     "timestamp": 1750014799239,
     "user": {
      "displayName": "Edoardo Gornetti",
      "userId": "05048424707797899325"
     },
     "user_tz": -120
    },
    "id": "aiWU8QCM53Er",
    "outputId": "a4c947ff-0ad1-42a3-99e4-706a1822a7b6"
   },
   "outputs": [],
   "source": [
    "# %% Exercise 1\n",
    "#    Implement the function in the video in sympy, each time a, b, and c must be\n",
    "#    drawn randomly from the respective distributions; then compute the limits\n",
    "#    for x->a, print the function, the graph, the two-sided limit, the one-sided\n",
    "#    limits, and the function value at f(a)\n",
    "\n",
    "# Function\n",
    "x = sym.symbols('x')\n",
    "\n",
    "a = np.random.randint(-4,5)\n",
    "b = np.random.randint(-4,5)\n",
    "c = np.random.choice((-1,1))\n",
    "\n",
    "f = c*(x**2 - (a+b)*x + a*b) / (x**2 + (b-a)*x -a*b)\n",
    "\n",
    "# Print function\n",
    "print(f'Compute the limit as x approaches {a} of:')\n",
    "display(f)\n",
    "print()\n",
    "\n",
    "# Print graph\n",
    "p = sym.plot(f,(x,-10,10),title='A function',ylabel='$f(x)$',xlabel='$x$',show=False)\n",
    "p.ylim = (-10,10)\n",
    "p.save('fig16_codechallenge_63_exercise_1.png')\n",
    "files.download('fig16_codechallenge_63_exercise_1.png')\n",
    "\n",
    "# Print limits\n",
    "print('The two-sided limit is:')\n",
    "display(sym.limit(f,x,a,'+-'))\n",
    "\n",
    "print('The left one-sided limit is:')\n",
    "display(sym.limit(f,x,a,'-'))\n",
    "\n",
    "print('The right one-sided limit is:')\n",
    "display(sym.limit(f,x,a,'+'))\n",
    "print()\n",
    "\n",
    "print(f'The value of the function at f({a}) is:')\n",
    "display(f.subs(x,a))\n",
    "print()\n",
    "\n",
    "print( f'Domain of f(x) is:' )\n",
    "display(sym.calculus.util.continuous_domain(f,x,sym.Reals))\n"
   ]
  }
 ],
 "metadata": {
  "colab": {
   "authorship_tag": "ABX9TyOZv9LblzxyXc1bdQwT5Hkb",
   "provenance": []
  },
  "kernelspec": {
   "display_name": "Python 3",
   "name": "python3"
  },
  "language_info": {
   "name": "python"
  }
 },
 "nbformat": 4,
 "nbformat_minor": 0
}
