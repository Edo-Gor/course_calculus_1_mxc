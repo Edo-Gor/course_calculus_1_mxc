{
  "cells": [
    {
      "cell_type": "code",
      "execution_count": null,
      "metadata": {
        "id": "xYfsQvXxPsoD"
      },
      "outputs": [],
      "source": [
        "# %% Calculus 1 - Section 11.128\n",
        "#    Code challenge: gradient descent in numpy\n",
        "\n",
        "# This code pertains to a calculus course provided by Mike X. Cohen on Udemy:\n",
        "#   > https://www.udemy.com/course/pycalc1_x\n",
        "# The code in this repository is developed to solve the exercises provided along\n",
        "# the course, and it has been written partially indepentently and partially\n",
        "# from the code developed by the course instructor.\n"
      ]
    },
    {
      "cell_type": "code",
      "execution_count": 1,
      "metadata": {
        "id": "vd_wy4xAQC4E"
      },
      "outputs": [],
      "source": [
        "import numpy             as np\n",
        "import sympy             as sym\n",
        "import matplotlib.pyplot as plt\n",
        "import math\n",
        "\n",
        "from scipy.signal                     import find_peaks\n",
        "from IPython.display                  import display,Math\n",
        "from google.colab                     import files\n",
        "from matplotlib_inline.backend_inline import set_matplotlib_formats\n",
        "set_matplotlib_formats('svg')\n"
      ]
    },
    {
      "cell_type": "code",
      "execution_count": null,
      "metadata": {
        "colab": {
          "base_uri": "https://localhost:8080/",
          "height": 490
        },
        "id": "XZ5D6qps3pK4",
        "outputId": "3d506fa0-4d01-4729-a4fd-5e425355a798"
      },
      "outputs": [],
      "source": [
        "# %% Exercise 1\n",
        "#    Plot the function shown in the video and its derivative, using sympy\n",
        "\n",
        "# Function and derivative\n",
        "x  = sym.symbols('x')\n",
        "f  = sym.sin(x) * (x-2)**2\n",
        "df = sym.diff(f,x)\n",
        "\n",
        "# Plot\n",
        "xx     = np.linspace(0,5*np.pi,1000)\n",
        "f_fun  = sym.lambdify(x,f)\n",
        "df_fun = sym.lambdify(x,df)\n",
        "\n",
        "phi = (1 + np.sqrt(5)) / 2\n",
        "plt.figure(figsize=(5*phi,5))\n",
        "\n",
        "plt.plot(xx,f_fun(xx),label=f\"f(x) = ${sym.latex(f)}$\")\n",
        "plt.plot(xx,df_fun(xx),label=f\"f'(x) = ${sym.latex(df)}$\")\n",
        "\n",
        "plt.title(\"A function and its derivative\")\n",
        "plt.xlabel(\"$x$\")\n",
        "plt.ylabel(\"$f(x)$ / $f'(x)$ \")\n",
        "plt.axvline(x=0,color='grey',linestyle=':',linewidth=0.8)\n",
        "plt.axhline(y=0,color='grey',linestyle=':',linewidth=0.8)\n",
        "plt.ylim(-100,200)\n",
        "plt.xlim(xx.min(),xx.max())\n",
        "plt.legend()\n",
        "plt.tight_layout()\n",
        "\n",
        "plt.savefig('fig18_codechallenge_129_exercise_1.png')\n",
        "plt.show()\n",
        "files.download('fig18_codechallenge_129_exercise_1.png')\n"
      ]
    },
    {
      "cell_type": "code",
      "execution_count": null,
      "metadata": {
        "colab": {
          "base_uri": "https://localhost:8080/",
          "height": 490
        },
        "id": "nzK-dmGs4HHa",
        "outputId": "9449c4dd-f627-421c-beda-d07da4a30c7b"
      },
      "outputs": [],
      "source": [
        "# %% Exercise 2\n",
        "#    Implement gradient descent using sympy, update the plot at each iteration\n",
        "#    without saving iterations, use 40 iterations and a learning rate of 0.05,\n",
        "#    start at a random location\n",
        "\n",
        "xx    = np.linspace(0,5*np.pi,1000)\n",
        "f_fun  = sym.lambdify(x,f)\n",
        "df_fun = sym.lambdify(x,df)\n",
        "\n",
        "local_min = np.random.choice(xx)\n",
        "lr        = 0.05\n",
        "iter      = 40\n",
        "\n",
        "phi = (1 + np.sqrt(5)) / 2\n",
        "plt.figure(figsize=(5*phi,5))\n",
        "\n",
        "plt.plot(xx,f_fun(xx),label=f\"f(x) = ${sym.latex(f)}$\")\n",
        "plt.plot(xx,df_fun(xx),label=f\"f'(x) = ${sym.latex(df)}$\")\n",
        "cmaps  = plt.cm.plasma(np.linspace(.1,.9,iter))\n",
        "\n",
        "for i in range(iter):\n",
        "\n",
        "    d         = df.subs(x,local_min)\n",
        "    local_min = local_min - lr*d\n",
        "\n",
        "    plt.plot(local_min,f.subs(x,local_min),'o',color=cmaps[i],alpha=0.75)\n",
        "    plt.plot(local_min,df.subs(x,local_min),'o',color=cmaps[i],alpha=0.75)\n",
        "\n",
        "plt.title(f\"Estimated minimum = {local_min:.5f}\")\n",
        "plt.xlabel(\"$x$\")\n",
        "plt.ylabel(\"$f(x)$ / $f'(x)$\")\n",
        "plt.axvline(x=0,color='grey',linestyle=':',linewidth=0.8)\n",
        "plt.axhline(y=0,color='grey',linestyle=':',linewidth=0.8)\n",
        "plt.xlim(xx.min(),xx.max())\n",
        "plt.legend()\n",
        "plt.tight_layout()\n",
        "\n",
        "plt.savefig('fig19_codechallenge_129_exercise_2.png')\n",
        "plt.show()\n",
        "files.download('fig19_codechallenge_129_exercise_2.png')\n"
      ]
    }
  ],
  "metadata": {
    "colab": {
      "provenance": []
    },
    "kernelspec": {
      "display_name": "Python 3",
      "name": "python3"
    },
    "language_info": {
      "name": "python"
    }
  },
  "nbformat": 4,
  "nbformat_minor": 0
}
