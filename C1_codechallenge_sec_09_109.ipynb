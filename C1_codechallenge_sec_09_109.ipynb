{
  "cells": [
    {
      "cell_type": "code",
      "execution_count": null,
      "metadata": {
        "id": "xYfsQvXxPsoD"
      },
      "outputs": [],
      "source": [
        "# %% Calculus 1 - Section 9.109\n",
        "#    Code challenge: more differentiation exercises - I\n",
        "\n",
        "# This code pertains to a calculus course provided by Mike X. Cohen on Udemy:\n",
        "#   > https://www.udemy.com/course/pycalc1_x\n",
        "# The code in this repository is developed to solve the exercises provided along\n",
        "# the course, and it has been written partially indepentently and partially\n",
        "# from the code developed by the course instructor.\n"
      ]
    },
    {
      "cell_type": "code",
      "execution_count": 1,
      "metadata": {
        "id": "vd_wy4xAQC4E"
      },
      "outputs": [],
      "source": [
        "import numpy             as np\n",
        "import sympy             as sym\n",
        "import matplotlib.pyplot as plt\n",
        "import math\n",
        "\n",
        "from scipy.signal                     import find_peaks\n",
        "from IPython.display                  import display,Math\n",
        "from google.colab                     import files\n",
        "from matplotlib_inline.backend_inline import set_matplotlib_formats\n",
        "set_matplotlib_formats('svg')\n"
      ]
    },
    {
      "cell_type": "code",
      "execution_count": null,
      "metadata": {
        "id": "55n_lmq0e_8N"
      },
      "outputs": [],
      "source": [
        "# %% Note\n",
        "#    This code is meant to generate (constrained) random functions to get\n",
        "#    infinite differentiation exercises to practice product and quotient rules\n"
      ]
    },
    {
      "cell_type": "code",
      "execution_count": null,
      "metadata": {
        "colab": {
          "base_uri": "https://localhost:8080/",
          "height": 532
        },
        "id": "nM0nzcKlhb0R",
        "outputId": "b5d8cd4a-907e-4ff0-e7ea-ef30e2160700"
      },
      "outputs": [],
      "source": [
        "# %% Exercise 1\n",
        "#    Generate a random function by multiplying i) a up to 5th order polynomial\n",
        "#    with random integer coefficients between -5 and +5 (exclude 0, allow\n",
        "#    negative powers to become rational functions), and ii) two transcendental\n",
        "#    functions samled randomly from {cos, sin, ln, exp}, with random sign; also\n",
        "#    lambdify and plot function and emprical derivative, finally print out the\n",
        "#    analytical derivative\n",
        "\n",
        "# Function\n",
        "x = sym.symbols('x')\n",
        "\n",
        "poly_order = np.random.randint(1,5)\n",
        "transcend  = [sym.sin(x),sym.cos(x),sym.log(x),sym.exp(x) ]\n",
        "\n",
        "y = np.random.randint(-5,6)*x**poly_order\n",
        "for t in np.random.choice(transcend,2,replace=False):\n",
        "    y *= np.random.choice((-1,1))*t\n",
        "\n",
        "display(Math(sym.latex(y)))\n",
        "\n",
        "# Function and flexible domain (for logs)\n",
        "D = [ -3,3 ]\n",
        "d = sym.calculus.util.continuous_domain(y,x,sym.S.Reals)\n",
        "if len(d.args)==2:\n",
        "    if d.args[0].start==0:\n",
        "        D[0] = .01\n",
        "elif d.start==0:\n",
        "        D[0] = .01\n",
        "\n",
        "\n",
        "fx = sym.lambdify(x,y)\n",
        "xx = np.linspace(D[0],D[1],1000)\n",
        "yy = fx(xx)\n",
        "\n",
        "# Derivative (empirical, pick the mean or any diff between xx)\n",
        "dy = np.diff(yy) / np.mean(np.diff(xx))\n",
        "\n",
        "# Plot\n",
        "phi = ( 1 + np.sqrt(5) ) / 2\n",
        "_,axs = plt.subplots(2,1,figsize=(5*phi,5))\n",
        "axs[0].plot(xx,yy,label=\"$f(x)$\")\n",
        "axs[0].legend()\n",
        "axs[0].set_title(f'$f(x) = {sym.latex(y)}$')\n",
        "axs[0].axvline(x=0,color='grey',linestyle=':',linewidth=0.8)\n",
        "axs[0].axhline(y=0,color='grey',linestyle=':',linewidth=0.8)\n",
        "\n",
        "axs[1].plot(xx[:-1],dy,label=\"f'(x)\")\n",
        "axs[1].axvline(x=0,color='grey',linestyle=':',linewidth=0.8)\n",
        "axs[1].axhline(y=0,color='grey',linestyle=':',linewidth=0.8)\n",
        "axs[1].legend()\n",
        "axs[1].set_title(\"$f'(x)$\")\n",
        "\n",
        "plt.tight_layout()\n",
        "\n",
        "plt.savefig('fig14_codechallenge_109_exercise_1.png')\n",
        "plt.show()\n",
        "files.download('fig14_codechallenge_109_exercise_1.png')\n",
        "\n",
        "# Analytical derivative\n",
        "analytical_df = sym.diff(y,x)\n",
        "display(Math(sym.latex(analytical_df)))\n"
      ]
    }
  ],
  "metadata": {
    "colab": {
      "provenance": []
    },
    "kernelspec": {
      "display_name": "Python 3",
      "name": "python3"
    },
    "language_info": {
      "name": "python"
    }
  },
  "nbformat": 4,
  "nbformat_minor": 0
}
