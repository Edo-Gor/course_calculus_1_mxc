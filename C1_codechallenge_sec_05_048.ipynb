{
 "cells": [
  {
   "cell_type": "code",
   "execution_count": null,
   "metadata": {
    "id": "qOJ2xa-STzmE"
   },
   "outputs": [],
   "source": [
    "# %% Calculus 1 - Section 5.48\n",
    "#    Code challenge: limits in numpy and sympy - II\n",
    "\n",
    "# This code pertains to a calculus course provided by Mike X. Cohen on Udemy:\n",
    "#   > https://www.udemy.com/course/pycalc1_x\n",
    "# The code in this repository is developed to solve the exercises provided along\n",
    "# the course, and it has been written partially indepentently and partially\n",
    "# from the code developed by the course instructor.\n"
   ]
  },
  {
   "cell_type": "code",
   "execution_count": null,
   "metadata": {
    "id": "F2WlWWrvT0ek"
   },
   "outputs": [],
   "source": [
    "import numpy             as np\n",
    "import sympy             as sym\n",
    "import matplotlib.pyplot as plt\n",
    "import math\n",
    "\n",
    "from IPython.display                  import display,Math\n",
    "from google.colab                     import files\n",
    "from matplotlib_inline.backend_inline import set_matplotlib_formats\n",
    "set_matplotlib_formats('svg')\n"
   ]
  },
  {
   "cell_type": "code",
   "execution_count": null,
   "metadata": {
    "colab": {
     "base_uri": "https://localhost:8080/",
     "height": 523
    },
    "executionInfo": {
     "elapsed": 337,
     "status": "ok",
     "timestamp": 1749415938108,
     "user": {
      "displayName": "Edoardo Gornetti",
      "userId": "05048424707797899325"
     },
     "user_tz": -120
    },
    "id": "yVNk_QH1lslE",
    "outputId": "338bbc4a-b9ed-4619-a212-6e6477a09f24"
   },
   "outputs": [],
   "source": [
    "# %% Exercise 3\n",
    "#    Reproduce the plot shown in the video using sympy and matplotlib (lambdify)\n",
    "#    with a domain of (0,4), then compute limits for x->2\n",
    "\n",
    "# Function\n",
    "x = sym.symbols('x')\n",
    "f = 1 / (x-2)**2\n",
    "\n",
    "f_lamb = sym.lambdify(x,f)\n",
    "\n",
    "# Plotting (remove the singular point x = 2)\n",
    "x_vals = np.linspace(0,4,500)\n",
    "x_vals = x_vals[x_vals != 2]\n",
    "y_vals = f_lamb(x_vals)\n",
    "\n",
    "phi = ( 1 + np.sqrt(5) ) / 2\n",
    "fig = plt.figure(figsize=(5*phi,5))\n",
    "\n",
    "plt.plot(x_vals,y_vals)\n",
    "plt.title('A function with infinite discontinuity')\n",
    "plt.xlabel('$x$')\n",
    "plt.ylabel('$f(x)$')\n",
    "plt.xlim(0,4)\n",
    "plt.ylim(0,100)\n",
    "plt.axvline(x=2,color='grey',linestyle='--',linewidth=0.8)\n",
    "plt.legend(['$f(x) = \\\\frac{1}{(x - 2)^2}$'])\n",
    "\n",
    "plt.savefig('fig5_codechallenge_48_exercise_3.png')\n",
    "plt.show()\n",
    "files.download('fig5_codechallenge_48_exercise_3.png')\n",
    "\n",
    "# Limits\n",
    "a = 2\n",
    "\n",
    "a_left  = sym.limit(f,x,a,'-')\n",
    "a_right = sym.limit(f,x,a,'+')\n",
    "limit   = sym.limit(f,x,a,'+-')\n",
    "\n",
    "print( f'Limit as x approaches {a} from the left = {a_left}' )\n",
    "print( f'Limit as x approaches {a} from the right = {a_right}')\n",
    "print( f'Two-sided limit as x approaches {a} = {limit}' )\n"
   ]
  },
  {
   "cell_type": "code",
   "execution_count": null,
   "metadata": {
    "colab": {
     "base_uri": "https://localhost:8080/"
    },
    "executionInfo": {
     "elapsed": 62,
     "status": "ok",
     "timestamp": 1749417976016,
     "user": {
      "displayName": "Edoardo Gornetti",
      "userId": "05048424707797899325"
     },
     "user_tz": -120
    },
    "id": "k20P14A4mANZ",
    "outputId": "0dc066e8-78cc-4f6c-fd3e-f1ec920e0935"
   },
   "outputs": [],
   "source": [
    "# %% Exercise 4\n",
    "#    Reproduce the plot shown in the video using sympy and (optionally,\n",
    "#    matplotlib by lambdifying) with a domain of (-2,4), then compute limits for\n",
    "#    x->2\n",
    "\n",
    "# Function\n",
    "x = sym.symbols('x')\n",
    "f = sym.Abs(x-2) / (x-2)\n",
    "\n",
    "f_lamb = sym.lambdify(x,f)\n",
    "\n",
    "# Plotting (remove the singular point x = 2)\n",
    "x_vals  = np.linspace(-2,4,500)\n",
    "x_vals  = x_vals[x_vals != 2]\n",
    "y_vals1 = f_lamb(x_vals[x_vals<2])\n",
    "y_vals2 = f_lamb(x_vals[x_vals>2])\n",
    "\n",
    "x_jump  = 2\n",
    "y_left  = f_lamb(x_jump - 1e-6)\n",
    "y_right = f_lamb(x_jump + 1e-6)\n",
    "\n",
    "phi = ( 1 + np.sqrt(5) ) / 2\n",
    "fig = plt.figure(figsize=(5*phi,5))\n",
    "\n",
    "plt.plot(x_vals[x_vals<2],y_vals1,color='tab:blue')\n",
    "plt.plot(x_vals[x_vals>2],y_vals2,color='tab:blue')\n",
    "plt.scatter([x_jump],[y_left],facecolors='white',edgecolors='tab:blue',s=40,linewidths=1.5,zorder=3)\n",
    "plt.scatter([x_jump],[y_right],facecolors='white',edgecolors='tab:blue',s=40,linewidths=1.5,zorder=3)\n",
    "\n",
    "plt.title('A function with a jump discontinuity')\n",
    "plt.xlabel('$x$')\n",
    "plt.ylabel('$f(x)$')\n",
    "plt.xlim(-2,4)\n",
    "plt.ylim(-1.25,1.25)\n",
    "plt.axvline(x=0,color='grey',linestyle=':',linewidth=0.8)\n",
    "plt.axhline(y=0,color='grey',linestyle=':',linewidth=0.8)\n",
    "plt.legend(['$f(x) = \\\\frac{1}{(x - 2)^2}$'])\n",
    "\n",
    "plt.savefig('fig6_codechallenge_48_exercise_4.png')\n",
    "plt.show()\n",
    "files.download('fig6_codechallenge_48_exercise_4.png')\n",
    "\n",
    "# Limits\n",
    "a = 2\n",
    "\n",
    "a_left  = sym.limit(f,x,a,'-')\n",
    "a_right = sym.limit(f,x,a,'+')\n",
    "\n",
    "print( f'Limit as x approaches {a} from the left = {a_left}' )\n",
    "print( f'Limit as x approaches {a} from the right = {a_right}')\n",
    "print( f'Two-sided limit as x approaches {a} = ∄' )\n"
   ]
  }
 ],
 "metadata": {
  "colab": {
   "authorship_tag": "ABX9TyNp8ii0TfFq51TJDT5Ok6N/",
   "provenance": []
  },
  "kernelspec": {
   "display_name": "Python 3",
   "name": "python3"
  },
  "language_info": {
   "name": "python"
  }
 },
 "nbformat": 4,
 "nbformat_minor": 0
}
